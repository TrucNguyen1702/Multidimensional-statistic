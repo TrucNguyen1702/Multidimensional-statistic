{
 "cells": [
  {
   "cell_type": "markdown",
   "id": "c12de082",
   "metadata": {},
   "source": [
    "##### Họ và tên: Nguyễn Thanh Trúc\n",
    "#### STT: 20110342"
   ]
  },
  {
   "cell_type": "markdown",
   "id": "400f7679",
   "metadata": {},
   "source": [
    "#### LAB 08\n",
    "#### Cài đặt gốc: Librosa\n",
    "#### Download một đoạn nhạc .wov ngắn 30s ->1p\n",
    "#### 1. Load file:dùng lệnh librosa.load chú ý option: momo False.Ont file. soundfule-> write \n",
    "#### 2. Xác định cấu trúc của mảng âm thanh đầu ra của lệnh biến\n",
    "#### 3. Thực hiện tắt tiếng nổi biên tai nghe bằng cách lần lượt cho mỗi tọa độ = 0\n",
    "#### 4. Xác định simple rate\n",
    "#### 5. check lại"
   ]
  },
  {
   "cell_type": "code",
   "execution_count": 1,
   "id": "9de235dc",
   "metadata": {},
   "outputs": [
    {
     "name": "stdout",
     "output_type": "stream",
     "text": [
      "Requirement already satisfied: librosa in d:\\anaconda\\lib\\site-packages (0.9.2)\n",
      "Requirement already satisfied: numba>=0.45.1 in d:\\anaconda\\lib\\site-packages (from librosa) (0.55.1)\n",
      "Requirement already satisfied: resampy>=0.2.2 in d:\\anaconda\\lib\\site-packages (from librosa) (0.4.2)\n",
      "Requirement already satisfied: pooch>=1.0 in d:\\anaconda\\lib\\site-packages (from librosa) (1.6.0)\n",
      "Requirement already satisfied: packaging>=20.0 in d:\\anaconda\\lib\\site-packages (from librosa) (21.3)\n",
      "Requirement already satisfied: soundfile>=0.10.2 in d:\\anaconda\\lib\\site-packages (from librosa) (0.11.0)\n",
      "Requirement already satisfied: joblib>=0.14 in d:\\anaconda\\lib\\site-packages (from librosa) (1.1.0)\n",
      "Requirement already satisfied: audioread>=2.1.9 in d:\\anaconda\\lib\\site-packages (from librosa) (3.0.0)\n",
      "Requirement already satisfied: scikit-learn>=0.19.1 in d:\\anaconda\\lib\\site-packages (from librosa) (1.0.2)\n",
      "Requirement already satisfied: numpy>=1.17.0 in d:\\anaconda\\lib\\site-packages (from librosa) (1.21.5)\n",
      "Requirement already satisfied: decorator>=4.0.10 in d:\\anaconda\\lib\\site-packages (from librosa) (5.1.1)\n",
      "Requirement already satisfied: scipy>=1.2.0 in d:\\anaconda\\lib\\site-packages (from librosa) (1.7.3)\n",
      "Requirement already satisfied: setuptools in d:\\anaconda\\lib\\site-packages (from numba>=0.45.1->librosa) (61.2.0)\n",
      "Requirement already satisfied: llvmlite<0.39,>=0.38.0rc1 in d:\\anaconda\\lib\\site-packages (from numba>=0.45.1->librosa) (0.38.0)\n",
      "Requirement already satisfied: pyparsing!=3.0.5,>=2.0.2 in d:\\anaconda\\lib\\site-packages (from packaging>=20.0->librosa) (3.0.4)\n",
      "Requirement already satisfied: appdirs>=1.3.0 in d:\\anaconda\\lib\\site-packages (from pooch>=1.0->librosa) (1.4.4)\n",
      "Requirement already satisfied: requests>=2.19.0 in d:\\anaconda\\lib\\site-packages (from pooch>=1.0->librosa) (2.27.1)\n",
      "Requirement already satisfied: idna<4,>=2.5 in d:\\anaconda\\lib\\site-packages (from requests>=2.19.0->pooch>=1.0->librosa) (3.3)\n",
      "Requirement already satisfied: urllib3<1.27,>=1.21.1 in d:\\anaconda\\lib\\site-packages (from requests>=2.19.0->pooch>=1.0->librosa) (1.26.9)\n",
      "Requirement already satisfied: certifi>=2017.4.17 in d:\\anaconda\\lib\\site-packages (from requests>=2.19.0->pooch>=1.0->librosa) (2021.10.8)\n",
      "Requirement already satisfied: charset-normalizer~=2.0.0 in d:\\anaconda\\lib\\site-packages (from requests>=2.19.0->pooch>=1.0->librosa) (2.0.4)\n",
      "Requirement already satisfied: threadpoolctl>=2.0.0 in d:\\anaconda\\lib\\site-packages (from scikit-learn>=0.19.1->librosa) (2.2.0)\n",
      "Requirement already satisfied: cffi>=1.0 in d:\\anaconda\\lib\\site-packages (from soundfile>=0.10.2->librosa) (1.15.0)\n",
      "Requirement already satisfied: pycparser in d:\\anaconda\\lib\\site-packages (from cffi>=1.0->soundfile>=0.10.2->librosa) (2.21)\n"
     ]
    }
   ],
   "source": [
    "import sys\n",
    "!{sys.executable} -m pip install librosa"
   ]
  },
  {
   "cell_type": "code",
   "execution_count": 50,
   "id": "c1f1f9e4",
   "metadata": {},
   "outputs": [],
   "source": [
    "import librosa as lb\n",
    "import numpy as np\n",
    "import cv2\n",
    "import pandas as pd"
   ]
  },
  {
   "cell_type": "code",
   "execution_count": 51,
   "id": "8efcde91",
   "metadata": {},
   "outputs": [
    {
     "data": {
      "text/plain": [
       "array([[-0.00424194, -0.00656128, -0.00598145, ..., -0.01596069,\n",
       "        -0.02334595, -0.03057861],\n",
       "       [ 0.00054932,  0.0010376 ,  0.00018311, ..., -0.0171814 ,\n",
       "        -0.00973511, -0.00579834]], dtype=float32)"
      ]
     },
     "execution_count": 51,
     "metadata": {},
     "output_type": "execute_result"
    }
   ],
   "source": [
    "sample,y = lb.load('2.wav', sr=None, mono=False, offset=0.0, duration=None, dtype=np.float32, res_type='kaiser_best')\n",
    "sample ### câu 1"
   ]
  },
  {
   "cell_type": "code",
   "execution_count": 52,
   "id": "3a8c5692",
   "metadata": {},
   "outputs": [
    {
     "data": {
      "text/plain": [
       "(2, 536474)"
      ]
     },
     "execution_count": 52,
     "metadata": {},
     "output_type": "execute_result"
    }
   ],
   "source": [
    "sample.shape"
   ]
  },
  {
   "cell_type": "code",
   "execution_count": 53,
   "id": "541e3c61",
   "metadata": {},
   "outputs": [],
   "source": [
    "import soundfile as sf"
   ]
  },
  {
   "cell_type": "code",
   "execution_count": 54,
   "id": "2a3f0137",
   "metadata": {},
   "outputs": [],
   "source": [
    "data, samplerate = sf.read('2.wav') ### cau 1 dung sounfile"
   ]
  },
  {
   "cell_type": "code",
   "execution_count": 55,
   "id": "6bcbcc3f",
   "metadata": {},
   "outputs": [
    {
     "data": {
      "text/plain": [
       "array([[-0.00424194,  0.00054932],\n",
       "       [-0.00656128,  0.0010376 ],\n",
       "       [-0.00598145,  0.00018311],\n",
       "       ...,\n",
       "       [-0.01596069, -0.0171814 ],\n",
       "       [-0.02334595, -0.00973511],\n",
       "       [-0.03057861, -0.00579834]])"
      ]
     },
     "execution_count": 55,
     "metadata": {},
     "output_type": "execute_result"
    }
   ],
   "source": [
    "data"
   ]
  },
  {
   "cell_type": "code",
   "execution_count": 56,
   "id": "379ba738",
   "metadata": {},
   "outputs": [
    {
     "data": {
      "text/plain": [
       "16000"
      ]
     },
     "execution_count": 56,
     "metadata": {},
     "output_type": "execute_result"
    }
   ],
   "source": [
    "samplerate ### xác định simple rate"
   ]
  },
  {
   "cell_type": "code",
   "execution_count": 61,
   "id": "87a14f92",
   "metadata": {},
   "outputs": [],
   "source": [
    "left = np.copy(data) ### left channel = 0\n",
    "left [:,0] = 0\n",
    "sf.write('right.wav', left, samplerate)"
   ]
  },
  {
   "cell_type": "code",
   "execution_count": 62,
   "id": "7d33dc98",
   "metadata": {},
   "outputs": [],
   "source": [
    "right = np.copy(data)### right channel = 0\n",
    "right [:,1] = 0\n",
    "sf.write('left.wav',left,samplerate)"
   ]
  },
  {
   "cell_type": "code",
   "execution_count": 59,
   "id": "bde68996",
   "metadata": {},
   "outputs": [
    {
     "data": {
      "text/plain": [
       "array([[-0.00424194,  0.        ],\n",
       "       [-0.00656128,  0.        ],\n",
       "       [-0.00598145,  0.        ],\n",
       "       ...,\n",
       "       [-0.01596069,  0.        ],\n",
       "       [-0.02334595,  0.        ],\n",
       "       [-0.03057861,  0.        ]])"
      ]
     },
     "execution_count": 59,
     "metadata": {},
     "output_type": "execute_result"
    }
   ],
   "source": [
    "right ### kiêm tra bên phải"
   ]
  },
  {
   "cell_type": "code",
   "execution_count": 60,
   "id": "6fa13161",
   "metadata": {},
   "outputs": [
    {
     "data": {
      "text/plain": [
       "array([[ 0.        ,  0.00054932],\n",
       "       [ 0.        ,  0.0010376 ],\n",
       "       [ 0.        ,  0.00018311],\n",
       "       ...,\n",
       "       [ 0.        , -0.0171814 ],\n",
       "       [ 0.        , -0.00973511],\n",
       "       [ 0.        , -0.00579834]])"
      ]
     },
     "execution_count": 60,
     "metadata": {},
     "output_type": "execute_result"
    }
   ],
   "source": [
    "left ### kiem tra trái"
   ]
  },
  {
   "cell_type": "markdown",
   "id": "4abf38f2",
   "metadata": {},
   "source": [
    "#### Câu 6a: Tăng giảm âm lượng của tín hiệu bằng cách nhân(chia) ma trận biểu diễn tín hiệu với số thực dương"
   ]
  },
  {
   "cell_type": "code",
   "execution_count": 65,
   "id": "c1f59312",
   "metadata": {},
   "outputs": [],
   "source": [
    "sample_left = left* 5 # ben trai tăng 5\n",
    "sf.write('sample_left_5.wav', sample_left, samplerate)"
   ]
  },
  {
   "cell_type": "code",
   "execution_count": 66,
   "id": "79485387",
   "metadata": {},
   "outputs": [],
   "source": [
    "sample_right = right* 5 # ben phai tang 5\n",
    "sf.write('sample_right_5.wav', sample_right, samplerate)"
   ]
  },
  {
   "cell_type": "markdown",
   "id": "c038a90d",
   "metadata": {},
   "source": [
    "#### Câu 6b: viết hàm chuẩn hóa tin hiệu theo thuật toán Program 97 trang 252"
   ]
  },
  {
   "cell_type": "code",
   "execution_count": 39,
   "id": "4ac50275",
   "metadata": {},
   "outputs": [
    {
     "ename": "SyntaxError",
     "evalue": "Missing parentheses in call to 'print'. Did you mean print(\"Largest sample value in original sound was\",largest)? (2039704060.py, line 6)",
     "output_type": "error",
     "traceback": [
      "\u001b[1;36m  Input \u001b[1;32mIn [39]\u001b[1;36m\u001b[0m\n\u001b[1;33m    print \"Largest sample value in original sound was\",largest\u001b[0m\n\u001b[1;37m          ^\u001b[0m\n\u001b[1;31mSyntaxError\u001b[0m\u001b[1;31m:\u001b[0m Missing parentheses in call to 'print'. Did you mean print(\"Largest sample value in original sound was\",largest)?\n"
     ]
    }
   ],
   "source": [
    "### bài mẫu trong sách\n",
    "def normalize(sound): \n",
    "    largest = 0\n",
    "    for s in getSamples(sound):\n",
    "        largest = max(largest,getSampleValue(s) )\n",
    "        multiplier = 32767.0 / largest\n",
    "        print \"Largest sample value in original sound was\",largest\n",
    "        print \"Multiplier is\", multiplier\n",
    "        for s in getSamples(sound):\n",
    "            louder = multiplier * getSampleValue(s)\n",
    "            setSampleValue(s,louder)"
   ]
  },
  {
   "cell_type": "code",
   "execution_count": 31,
   "id": "ab13ece3",
   "metadata": {},
   "outputs": [],
   "source": [
    "def normalize(sound): ### normalize\n",
    "    largest = 0 \n",
    "    for i in range(len(sound)):\n",
    "        for j in range(len(sound[i])):\n",
    "            largest = max(largest,sound[i,j])\n",
    "    multiplier = 32767/largest\n",
    "    print(\"largest sample\",largest)\n",
    "    print(\"mutiplier is\",multiplier)\n",
    "\n",
    "    for i in range(len(sound)):\n",
    "        for j in range(len(sound[i])):\n",
    "            sound[i,j] = multiplier *  sound[i,j]  \n",
    "    return sound"
   ]
  },
  {
   "cell_type": "code",
   "execution_count": 32,
   "id": "1103309e",
   "metadata": {},
   "outputs": [
    {
     "name": "stdout",
     "output_type": "stream",
     "text": [
      "largest sample 0.9498291\n",
      "mutiplier is 34497.78486055777\n"
     ]
    },
    {
     "data": {
      "text/plain": [
       "array([[ -146.33765 ,  -226.3496  ,  -206.34662 , ...,  -550.6086  ,\n",
       "         -805.3835  , -1054.8944  ],\n",
       "       [   18.9502  ,    35.79482 ,     6.316733, ...,  -592.7201  ,\n",
       "         -335.83963 ,  -200.02988 ]], dtype=float32)"
      ]
     },
     "execution_count": 32,
     "metadata": {},
     "output_type": "execute_result"
    }
   ],
   "source": [
    "normalize(sample)"
   ]
  },
  {
   "cell_type": "markdown",
   "id": "4963d1ca",
   "metadata": {},
   "source": [
    "#### câu 6c : Tính tự tương quan theo lệnh sau:"
   ]
  },
  {
   "cell_type": "code",
   "execution_count": 34,
   "id": "c905af5c",
   "metadata": {},
   "outputs": [],
   "source": [
    "import librosa as lb"
   ]
  },
  {
   "cell_type": "code",
   "execution_count": 36,
   "id": "bb204273",
   "metadata": {},
   "outputs": [
    {
     "data": {
      "text/plain": [
       "array([[ 1.42154895e+13,  1.38949528e+13,  1.36203954e+13, ...,\n",
       "         4.80546883e+05,  3.56632845e+05,  1.54370765e+05],\n",
       "       [ 1.45700357e+13,  1.43526010e+13,  1.42150084e+13, ...,\n",
       "        -2.45170174e+04, -1.35242606e+04, -3.79060588e+03]])"
      ]
     },
     "execution_count": 36,
     "metadata": {},
     "output_type": "execute_result"
    }
   ],
   "source": [
    "lb.autocorrelate(sample) ### autocorrelate"
   ]
  },
  {
   "cell_type": "markdown",
   "id": "a641c4be",
   "metadata": {},
   "source": [
    "#### Câu 6d: Tính zeros crossing theo lệnh sau"
   ]
  },
  {
   "cell_type": "code",
   "execution_count": 48,
   "id": "6d579c84",
   "metadata": {},
   "outputs": [
    {
     "data": {
      "text/plain": [
       "array([[ True,  True],\n",
       "       [ True,  True],\n",
       "       [ True,  True],\n",
       "       ...,\n",
       "       [ True, False],\n",
       "       [ True, False],\n",
       "       [ True, False]])"
      ]
     },
     "execution_count": 48,
     "metadata": {},
     "output_type": "execute_result"
    }
   ],
   "source": [
    "lb.zero_crossings(data) #### zeros crossing"
   ]
  },
  {
   "cell_type": "markdown",
   "id": "3924ddf7",
   "metadata": {},
   "source": [
    "#### Câu 6e Tính phổ biến của tính hiều bằng Short-time Fourrier transform"
   ]
  },
  {
   "cell_type": "code",
   "execution_count": 37,
   "id": "a922a07a",
   "metadata": {},
   "outputs": [
    {
     "name": "stderr",
     "output_type": "stream",
     "text": [
      "D:\\anaconda\\lib\\site-packages\\librosa\\util\\decorators.py:88: UserWarning: n_fft=2048 is too small for input signal of length=2\n",
      "  return f(*args, **kwargs)\n"
     ]
    },
    {
     "data": {
      "text/plain": [
       "array([[[-0.00369263+0.0000000e+00j],\n",
       "        [ 0.00369263+1.6852750e-06j],\n",
       "        [-0.00369264-3.3705342e-06j],\n",
       "        ...,\n",
       "        [-0.00479125-3.3705342e-06j],\n",
       "        [ 0.00479126+1.6852750e-06j],\n",
       "        [-0.00479126+0.0000000e+00j]],\n",
       "\n",
       "       [[-0.00552368+0.0000000e+00j],\n",
       "        [ 0.00552369+3.1832972e-06j],\n",
       "        [-0.0055237 -6.3665648e-06j],\n",
       "        ...,\n",
       "        [-0.00759886-6.3665648e-06j],\n",
       "        [ 0.00759887+3.1832972e-06j],\n",
       "        [-0.00759887+0.0000000e+00j]],\n",
       "\n",
       "       [[-0.00579834+0.0000000e+00j],\n",
       "        [ 0.00579834+5.6175833e-07j],\n",
       "        [-0.00579834-1.1235114e-06j],\n",
       "        ...,\n",
       "        [-0.00616455-1.1235114e-06j],\n",
       "        [ 0.00616455+5.6175833e-07j],\n",
       "        [-0.00616455+0.0000000e+00j]],\n",
       "\n",
       "       ...,\n",
       "\n",
       "       [[ 0.07476801+0.0000000e+00j],\n",
       "        [-0.07476792+6.4134074e-05j],\n",
       "        [ 0.07476763-1.2826755e-04j],\n",
       "        ...,\n",
       "        [ 0.03295943-1.2826755e-04j],\n",
       "        [-0.03295913+6.4134074e-05j],\n",
       "        [ 0.03295903+0.0000000e+00j]],\n",
       "\n",
       "       [[ 0.09759513+0.0000000e+00j],\n",
       "        [-0.09759497+1.0738947e-04j],\n",
       "        [ 0.09759448-2.1477793e-04j],\n",
       "        ...,\n",
       "        [ 0.02758863-2.1477793e-04j],\n",
       "        [-0.02758814+1.0738947e-04j],\n",
       "        [ 0.02758797+0.0000000e+00j]],\n",
       "\n",
       "       [[ 0.10409536+0.0000000e+00j],\n",
       "        [-0.10409517+1.2742552e-04j],\n",
       "        [ 0.10409458-2.5484985e-04j],\n",
       "        ...,\n",
       "        [ 0.02102749-2.5484985e-04j],\n",
       "        [-0.0210269 +1.2742552e-04j],\n",
       "        [ 0.02102671+0.0000000e+00j]]], dtype=complex64)"
      ]
     },
     "execution_count": 37,
     "metadata": {},
     "output_type": "execute_result"
    }
   ],
   "source": [
    "sample,y = lb.load('2.wav', sr=None, mono=False, offset=0.0, duration=5, dtype=np.float32, res_type='kaiser_best')\n",
    "lb.stft(sample.T) ##### tinh phổ quan bằng short-time Fourier trànorm"
   ]
  },
  {
   "cell_type": "code",
   "execution_count": 38,
   "id": "ae563879",
   "metadata": {},
   "outputs": [
    {
     "data": {
      "text/plain": [
       "array([[-0.00424194, -0.00656128, -0.00598145, ...,  0.06890869,\n",
       "         0.05880737,  0.05432129],\n",
       "       [ 0.00054932,  0.0010376 ,  0.00018311, ...,  0.03900146,\n",
       "         0.03713989,  0.03433228]], dtype=float32)"
      ]
     },
     "execution_count": 38,
     "metadata": {},
     "output_type": "execute_result"
    }
   ],
   "source": [
    "lb.istft(lb.stft(sample)) ### chuyển miền thời gian bằng STFT ngược"
   ]
  },
  {
   "cell_type": "markdown",
   "id": "cc5be3af",
   "metadata": {},
   "source": [
    "#### Câu 6.5a: Vẽ đồ thị từng channel âm thanh: tham khảo chương 2"
   ]
  },
  {
   "cell_type": "code",
   "execution_count": 39,
   "id": "c784e620",
   "metadata": {},
   "outputs": [
    {
     "data": {
      "image/png": "[encoded data removed]",
      "text/plain": [
       "<Figure size 432x288 with 1 Axes>"
      ]
     },
     "metadata": {
      "needs_background": "light"
     },
     "output_type": "display_data"
    }
   ],
   "source": [
    "import matplotlib.pyplot as plt\n",
    "plt.plot(sample[0])\n",
    "plt.plot(sample[1])\n",
    "plt.show()"
   ]
  },
  {
   "cell_type": "markdown",
   "id": "1e6228e1",
   "metadata": {},
   "source": [
    "#### Câu 6.5b: vẽ đồ thị biểu diễn phổ của tín hiệu theo lệnh"
   ]
  },
  {
   "cell_type": "code",
   "execution_count": 44,
   "id": "5a4f81b1",
   "metadata": {},
   "outputs": [],
   "source": [
    "import librosa.display "
   ]
  },
  {
   "cell_type": "code",
   "execution_count": 45,
   "id": "e5a270a2",
   "metadata": {},
   "outputs": [],
   "source": [
    "data_3 = lb.amplitude_to_db(lb.stft(sample.T), ref=np.max).reshape(80000, 1025)"
   ]
  },
  {
   "cell_type": "code",
   "execution_count": 47,
   "id": "24567417",
   "metadata": {},
   "outputs": [
    {
     "data": {
      "image/png": "[encoded data removed]",
      "text/plain": [
       "<Figure size 864x288 with 2 Axes>"
      ]
     },
     "metadata": {
      "needs_background": "light"
     },
     "output_type": "display_data"
    }
   ],
   "source": [
    "plt.figure(figsize=(12, 4))\n",
    "librosa.display.specshow(data_3, y_axis='log', x_axis='time')\n",
    "plt.colorbar(format='%+4.0f dB')\n",
    "plt.title('Spectroscopic Signals')\n",
    "plt.tight_layout()\n",
    "plt.show() #### dồ thị phổ quan theo tín hiệu"
   ]
  },
  {
   "cell_type": "code",
   "execution_count": null,
   "id": "091becdd",
   "metadata": {},
   "outputs": [],
   "source": []
  }
 ],
 "metadata": {
  "kernelspec": {
   "display_name": "Python 3 (ipykernel)",
   "language": "python",
   "name": "python3"
  },
  "language_info": {
   "codemirror_mode": {
    "name": "ipython",
    "version": 3
   },
   "file_extension": ".py",
   "mimetype": "text/x-python",
   "name": "python",
   "nbconvert_exporter": "python",
   "pygments_lexer": "ipython3",
   "version": "3.11.4"
  }
 },
 "nbformat": 4,
 "nbformat_minor": 5
}
