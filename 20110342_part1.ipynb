{
 "cells": [
  {
   "cell_type": "markdown",
   "metadata": {},
   "source": [
    "Ngô Phú Thịnh\n",
    "19110454"
   ]
  },
  {
   "cell_type": "code",
   "execution_count": 12,
   "metadata": {},
   "outputs": [],
   "source": [
    "from enum import Enum, auto\n",
    "from bai1 import mean,std\n",
    "from scipy.stats import norm, t"
   ]
  },
  {
   "cell_type": "markdown",
   "metadata": {},
   "source": [
    "# Bai 1"
   ]
  },
  {
   "cell_type": "code",
   "execution_count": 13,
   "metadata": {},
   "outputs": [],
   "source": [
    "import math\n",
    "def mean(data:list[int]):\n",
    "    return sum(data)/len(data)\n",
    "\n",
    "def kd2mtd(data1:list[int],data2:list[int],loaiKD:str,alpha:float,gtps=str,sigma1:float=None,sigma2:float=None):\n",
    "    assert loaiKD in ['lon', 'nho', 'khac'], 'Loại kiểm định phải là lon,nho hoặc khac'\n",
    "    assert isinstance(data1, list), 'Dữ liệu phải là list.'\n",
    "    assert isinstance(data2, list), 'Dữ liệu phải là list.'\n",
    "    assert isinstance(alpha, (int, float)), 'Mức ý nghĩa thống kê phải là số.'\n",
    "    assert isinstance(sigma1, (int, float)\n",
    "                      ) or sigma1 == None, 'Sigma1 phải là số hoặc None.'\n",
    "    assert isinstance(sigma2, (int, float)\n",
    "                      ) or sigma2 == None, 'Sigma2 phải là số hoặc None.'\n",
    "    assert 0 < alpha < 1, 'Mức ý nghĩa thống kê phải nằm trong khoảng (0,1).'\n",
    "    \n",
    "    n = len(data1)\n",
    "    m = len(data2)\n",
    "    mean1 = mean(data1)\n",
    "    mean2 = mean(data2)\n",
    "    s1 = std(data1)\n",
    "    s2 = std(data2)\n",
    "    if sigma1 != None and sigma2 != None:\n",
    "        z0 = (mean1-mean2)/(sigma1**2/n+sigma2**2/m)**0.5\n",
    "        if loaiKD == 'lon':\n",
    "            p_value = 1-norm.cdf(z0)\n",
    "        elif loaiKD == 'nho':\n",
    "            p_value = norm.cdf(z0)\n",
    "        elif loaiKD == 'khac':\n",
    "            p_value = 2*(1-norm.cdf(abs(z0)))\n",
    "\n",
    "    elif (sigma1 == None and sigma2 == None) and gtps == 'bang':\n",
    "        sp = ((n-1)*s1+(m-1)*s2)/(n+m-2)\n",
    "        tu = mean1-mean2\n",
    "        mau = sp*((1/n)+(1/m))**0.5\n",
    "        t0 = tu/mau\n",
    "        if loaiKD == 'lon':\n",
    "            p_value = 1-t.cdf(t0,n+m-2)\n",
    "        elif loaiKD == 'nho':\n",
    "            p_value = t.cdf(t0,n+m-2)\n",
    "        elif loaiKD == 'khac':\n",
    "            p_value = 2*(1-t.cdf(abs(t0),n+m-2))\n",
    "\n",
    "    elif (sigma1 == None and sigma2 == None) and gtps == 'khac':\n",
    "        t0 = (mean1-mean2)/((s1**2/n+s2**2/m)**0.5)\n",
    "        v = int(((s1**2/n)**2 + (s2**2/m)**2)/((s1**2/n)**2/(n-1)+(s2**2/m)**2/(m-1)))\n",
    "        if loaiKD == 'lon':\n",
    "            p_value = 1-t.cdf(t0,v)\n",
    "        elif loaiKD == 'nho':\n",
    "            p_value = t.cdf(t0,v)\n",
    "        elif loaiKD == 'khac':\n",
    "            p_value = 2*(1-t.cdf(abs(t0),v))\n",
    "    if p_value <= alpha:\n",
    "        return p_value,'bac bo H0'\n",
    "    return p_value,'khong du co so bac bo H0'"
   ]
  },
  {
   "cell_type": "code",
   "execution_count": 14,
   "metadata": {},
   "outputs": [],
   "source": [
    "from scipy.stats import ttest_ind"
   ]
  },
  {
   "cell_type": "code",
   "execution_count": 15,
   "metadata": {},
   "outputs": [
    {
     "name": "stdout",
     "output_type": "stream",
     "text": [
      "(0.019792309184070378, 'bac bo H0')\n",
      "Ttest_indResult(statistic=-2.8278324265381225, pvalue=0.011150646764286247)\n"
     ]
    }
   ],
   "source": [
    "d1 = [9.9,10.6,9.4,10.3,9.3,10,9.6,10.3,10.2,10.1]\n",
    "d2 = [10.2,10,10.6,10.2,10.7,10.7,10.4,10.4,10.5,10.3]\n",
    "print(kd2mtd(d1,d2,'khac',0.05,'khac'))\n",
    "# kiem tra\n",
    "print(ttest_ind(d1,d2,equal_var=True,alternative='two-sided'))"
   ]
  },
  {
   "cell_type": "code",
   "execution_count": 16,
   "metadata": {},
   "outputs": [
    {
     "name": "stdout",
     "output_type": "stream",
     "text": [
      "(0.013173632473557455, 'bac bo H0')\n",
      "Ttest_indResult(statistic=-2.3339376601777335, pvalue=0.016482921191557177)\n"
     ]
    }
   ],
   "source": [
    "d1 = [0.047,0.060,0.061,0.064,0.080,0.090,0.118,0.165,0.183]\n",
    "d2 = [0.062,0.105,0.118,0.137,0.153,0.197,0.210,0.250,0.375]\n",
    "print(kd2mtd(d1,d2,'nho',0.05,'bang'))\n",
    "# kiem tra\n",
    "print(ttest_ind(d1,d2,equal_var=True,alternative='less'))"
   ]
  },
  {
   "cell_type": "markdown",
   "metadata": {},
   "source": [
    "# bai 2"
   ]
  },
  {
   "cell_type": "code",
   "execution_count": 17,
   "metadata": {},
   "outputs": [],
   "source": [
    "from scipy import linalg\n",
    "\n",
    "def hqdb(data:list[list[int]],loaihq:str):\n",
    "    assert loaihq in ['bac1','bac2'], 'Loại hình quy đổi phải là bac1 hoặc bac2'\n",
    "    assert isinstance(data, list), 'Dữ liệu phải là list.'\n",
    "    assert len(data) == 2, 'Dữ liệu phải là 2xN.'\n",
    "    assert len(data[0]) == len(data[1]), 'Dữ liệu phải là 2xN.'\n",
    "    \n",
    "    n = len(data[0])\n",
    "    if loaihq == 'bac1':\n",
    "        Sxy = sum([data[0][i]*data[1][i] for i in range(n)])\n",
    "        Sx = sum(data[0])\n",
    "        Sxx = sum([data[0][i]**2 for i in range(n)])\n",
    "        Sy = sum(data[1])\n",
    "        B1_tu = Sxy - Sx*Sy/n\n",
    "        B1_mau = Sxx - Sx**2/n\n",
    "        B1 = B1_tu/B1_mau\n",
    "\n",
    "        B0 = Sy/n - B1*Sx/n\n",
    "        return B0,B1\n",
    "    \n",
    "    if loaihq =='bac2':\n",
    "        Sx = sum(data[0])\n",
    "        Sxx = sum([data[0][i]**2 for i in range(n)]) \n",
    "        Sxxx = sum([data[0][i]**3 for i in range(n)])\n",
    "        Sxxxx = sum([data[0][i]**4 for i in range(n)])\n",
    "        Sy = sum(data[1])\n",
    "        Sxy = sum([data[0][i]*data[1][i] for i in range(n)])\n",
    "        Sxxy = sum([data[0][i]**2*data[1][i] for i in range(n)])\n",
    "\n",
    "        a = [\n",
    "            [n,Sx,Sxx],\n",
    "            [Sx,Sxx,Sxxx],\n",
    "            [Sxx,Sxxx,Sxxxx]\n",
    "        ]\n",
    "        b = [Sy,Sxy,Sxxy]\n",
    "        B = linalg.solve(a,b)\n",
    "        return B"
   ]
  },
  {
   "cell_type": "code",
   "execution_count": 18,
   "metadata": {},
   "outputs": [
    {
     "name": "stdout",
     "output_type": "stream",
     "text": [
      "-31.285968990291394 0.08591116546848432\n",
      "-31.285968990291394 0.08591116546848432\n"
     ]
    }
   ],
   "source": [
    "y = [40,42,49,46,44,48,46,43,53,52,54,57,68]\n",
    "x = [825,830,890,895,890,910,915,960,990,1010,1012,1030,1050]\n",
    "\n",
    "data = [x,y]\n",
    "a,b = hqdb(data,'bac1')\n",
    "print(a,b)\n",
    "# kiem tra\n",
    "from sklearn.linear_model import LinearRegression\n",
    "\n",
    "lr = LinearRegression()\n",
    "lr.fit([[i] for i in x],y)\n",
    "print(lr.intercept_,lr.coef_[0])\n"
   ]
  },
  {
   "cell_type": "markdown",
   "metadata": {},
   "source": [
    "# Bai 3"
   ]
  },
  {
   "cell_type": "code",
   "execution_count": 19,
   "metadata": {},
   "outputs": [
    {
     "name": "stdout",
     "output_type": "stream",
     "text": [
      "17.11169181622303\n"
     ]
    }
   ],
   "source": [
    "# a) tinh phuong sai + ve do thi\n",
    "var = 0\n",
    "for i in range(len(x)):\n",
    "    var += (y[i] - a - b*x[i])**2\n",
    "var = (var/(len(x)-2))\n",
    "print(var)"
   ]
  },
  {
   "cell_type": "code",
   "execution_count": 20,
   "metadata": {},
   "outputs": [
    {
     "data": {
      "image/png": "[encoded data removed]",
      "text/plain": [
       "<Figure size 432x288 with 1 Axes>"
      ]
     },
     "metadata": {
      "needs_background": "light"
     },
     "output_type": "display_data"
    }
   ],
   "source": [
    "import matplotlib.pyplot as plt\n",
    "\n",
    "plt.scatter(x,y)\n",
    "plt.plot(x,[a+b*i for i in x])\n",
    "plt.show()"
   ]
  },
  {
   "cell_type": "code",
   "execution_count": 21,
   "metadata": {},
   "outputs": [
    {
     "name": "stdout",
     "output_type": "stream",
     "text": [
      "46.89319158602933\n",
      "1.1068084139706684\n"
     ]
    }
   ],
   "source": [
    "#b\n",
    "x_val = 910\n",
    "y_val = a + b*x_val\n",
    "print(y_val)\n",
    "residual = abs(y_val - 48)\n",
    "print(residual)"
   ]
  },
  {
   "cell_type": "code",
   "execution_count": 22,
   "metadata": {},
   "outputs": [
    {
     "name": "stdout",
     "output_type": "stream",
     "text": [
      "50.32963820476871\n"
     ]
    }
   ],
   "source": [
    "#c\n",
    "x_val = 950\n",
    "y_val = a + b*x_val\n",
    "print(y_val)"
   ]
  }
 ],
 "metadata": {
  "kernelspec": {
   "display_name": "Python 3.10.4 64-bit",
   "language": "python",
   "name": "python3"
  },
  "language_info": {
   "codemirror_mode": {
    "name": "ipython",
    "version": 3
   },
   "file_extension": ".py",
   "mimetype": "text/x-python",
   "name": "python",
   "nbconvert_exporter": "python",
   "pygments_lexer": "ipython3",
   "version": "3.10.4"
  },
  "orig_nbformat": 4,
  "vscode": {
   "interpreter": {
    "hash": "aee8b7b246df8f9039afb4144a1f6fd8d2ca17a180786b69acc140d282b71a49"
   }
  }
 },
 "nbformat": 4,
 "nbformat_minor": 2
}
