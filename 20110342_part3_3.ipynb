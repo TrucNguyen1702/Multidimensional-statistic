{
 "cells": [
  {
   "cell_type": "code",
   "execution_count": 1,
   "metadata": {},
   "outputs": [],
   "source": [
    "import cv2\n",
    "import numpy as np \n",
    "import sklearn \n",
    "import scipy\n",
    "import matplotlib.pyplot as plt\n",
    "import argparse\n",
    "import math"
   ]
  },
  {
   "cell_type": "code",
   "execution_count": 2,
   "metadata": {},
   "outputs": [],
   "source": [
    "image = cv2.imread('302843992_485786496928626_6191234182030738228_n.png')"
   ]
  },
  {
   "cell_type": "code",
   "execution_count": 5,
   "metadata": {},
   "outputs": [
    {
     "data": {
      "text/plain": [
       "-1"
      ]
     },
     "execution_count": 5,
     "metadata": {},
     "output_type": "execute_result"
    }
   ],
   "source": [
    "cv2.imshow('image',image)\n",
    "cv2.waitKey(0)"
   ]
  },
  {
   "cell_type": "code",
   "execution_count": 6,
   "metadata": {},
   "outputs": [
    {
     "name": "stdout",
     "output_type": "stream",
     "text": [
      "width: 697 pixels\n"
     ]
    }
   ],
   "source": [
    "print(\"width: {} pixels\".format(image.shape[1]))"
   ]
  },
  {
   "cell_type": "code",
   "execution_count": 7,
   "metadata": {},
   "outputs": [
    {
     "name": "stdout",
     "output_type": "stream",
     "text": [
      "height: 451 pixels\n"
     ]
    }
   ],
   "source": [
    "print(\"height: {} pixels\".format(image.shape[0]))"
   ]
  },
  {
   "cell_type": "code",
   "execution_count": 8,
   "metadata": {},
   "outputs": [
    {
     "name": "stdout",
     "output_type": "stream",
     "text": [
      "channels: 3\n"
     ]
    }
   ],
   "source": [
    "print(\"channels: {}\".format(image.shape[2]))"
   ]
  },
  {
   "cell_type": "code",
   "execution_count": null,
   "metadata": {},
   "outputs": [
    {
     "data": {
      "text/plain": [
       "array([254, 254, 254], dtype=uint8)"
      ]
     },
     "execution_count": 7,
     "metadata": {},
     "output_type": "execute_result"
    }
   ],
   "source": [
    "image[0,0]"
   ]
  },
  {
   "cell_type": "code",
   "execution_count": 9,
   "metadata": {},
   "outputs": [],
   "source": [
    "def rgb2gray(image):\n",
    "    for i in range(image.shape[0]):\n",
    "        for j in range(image.shape[1]):\n",
    "            image[i][j]=0.3*image[i][j][0]+0.6*image[i][j][1]+0.1*image[i][j][2]\n",
    "    return image"
   ]
  },
  {
   "cell_type": "code",
   "execution_count": 10,
   "metadata": {},
   "outputs": [],
   "source": [
    "def rgb2graymax(image):\n",
    "    for i in range(image.shape[0]):\n",
    "        for j in range(image.shape[1]):\n",
    "            image[i][j]=max(image[i][j][0],image[i][j][1],image[i][j][2])\n",
    "    return image"
   ]
  },
  {
   "cell_type": "code",
   "execution_count": 11,
   "metadata": {},
   "outputs": [
    {
     "data": {
      "text/plain": [
       "-1"
      ]
     },
     "execution_count": 11,
     "metadata": {},
     "output_type": "execute_result"
    }
   ],
   "source": [
    "cv2.imshow('image',rgb2gray(image))\n",
    "cv2.waitKey(0)"
   ]
  },
  {
   "cell_type": "code",
   "execution_count": 12,
   "metadata": {},
   "outputs": [
    {
     "data": {
      "text/plain": [
       "-1"
      ]
     },
     "execution_count": 12,
     "metadata": {},
     "output_type": "execute_result"
    }
   ],
   "source": [
    "cv2.imshow('image',rgb2graymax(image))\n",
    "cv2.waitKey(0)"
   ]
  },
  {
   "cell_type": "code",
   "execution_count": 13,
   "metadata": {},
   "outputs": [
    {
     "data": {
      "text/plain": [
       "True"
      ]
     },
     "execution_count": 13,
     "metadata": {},
     "output_type": "execute_result"
    }
   ],
   "source": [
    "grayscale = rgb2graymax(image)\n",
    "cv2.imwrite(\"grayscale.png\",grayscale)"
   ]
  },
  {
   "cell_type": "code",
   "execution_count": 14,
   "metadata": {},
   "outputs": [],
   "source": [
    "def split_image(image):\n",
    "    zeros = np.zeros(image.shape[:2], dtype=\"uint8\")\n",
    "    red_image = np.zeros(image.shape[:3], dtype=\"uint8\")\n",
    "    green_image = np.zeros(image.shape[:3], dtype=\"uint8\")\n",
    "    blue_image = np.zeros(image.shape[:3], dtype=\"uint8\")\n",
    "    for i in range(image.shape[0]):\n",
    "        for j in range(image.shape[1]):\n",
    "            if sum(image[i,j] >= np.array([200, 200, 200])) == 3:\n",
    "                blue_image[i,j] = image[i,j]\n",
    "                green_image[i,j] = image[i,j]\n",
    "                red_image[i,j] = image[i,j]\n",
    "            else:\n",
    "                blue_image[i,j] = np.array([image[i,j,0],0,0])\n",
    "                green_image[i,j] = np.array([0,image[i,j,1],0])\n",
    "                red_image[i,j] = np.array([0,0,image[i,j,2]])\n",
    "    \n",
    "    return red_image,green_image,blue_image"
   ]
  },
  {
   "cell_type": "code",
   "execution_count": 15,
   "metadata": {},
   "outputs": [],
   "source": [
    "red,green,blue = split_image(image)"
   ]
  },
  {
   "cell_type": "code",
   "execution_count": 16,
   "metadata": {},
   "outputs": [
    {
     "data": {
      "text/plain": [
       "-1"
      ]
     },
     "execution_count": 16,
     "metadata": {},
     "output_type": "execute_result"
    }
   ],
   "source": [
    "cv2.imshow(\"red\",red)\n",
    "cv2.imshow(\"green\",green)\n",
    "cv2.imshow(\"blue\",blue)\n",
    "cv2.waitKey(0)\n"
   ]
  },
  {
   "cell_type": "code",
   "execution_count": 17,
   "metadata": {},
   "outputs": [],
   "source": [
    "canvas = np.zeros((300, 300, 3), dtype = \"uint8\")"
   ]
  },
  {
   "cell_type": "code",
   "execution_count": 18,
   "metadata": {},
   "outputs": [
    {
     "data": {
      "text/plain": [
       "-1"
      ]
     },
     "execution_count": 18,
     "metadata": {},
     "output_type": "execute_result"
    }
   ],
   "source": [
    "cv2.imshow(\"canvas\",canvas)\n",
    "cv2.waitKey(0)"
   ]
  },
  {
   "cell_type": "code",
   "execution_count": 19,
   "metadata": {},
   "outputs": [],
   "source": [
    "def in_polygon(x, y, polygon):\n",
    "    # check if the point (x,y) is inside the polygon without cv2\n",
    "    result = False\n",
    "    for i in range(len(polygon)):\n",
    "        j = (i+1)%len(polygon)\n",
    "        if (polygon[i][1] > y) != (polygon[j][1] > y) and \\\n",
    "            x < (polygon[j][0] - polygon[i][0]) * (y - polygon[i][1]) / (polygon[j][1] - polygon[i][1]) + polygon[i][0]:\n",
    "            result = not result\n",
    "    return result\n",
    "\n",
    "\n",
    "def draw(canvas,polygon,color,offset_x=0,offset_y=0):\n",
    "    canvas = canvas.copy()\n",
    "    polygon = np.array(polygon)\n",
    "    polygon[:,0] += offset_x\n",
    "    polygon[:,1] += offset_y\n",
    "    \n",
    "    # each pixel in canvas \n",
    "    for i in range(canvas.shape[0]):\n",
    "        for j in range(canvas.shape[1]):\n",
    "            # check if the pixel is inside the polygon\n",
    "            if in_polygon(j,i,polygon):\n",
    "                canvas[i,j] = color\n",
    "            \n",
    "    return canvas"
   ]
  },
  {
   "cell_type": "code",
   "execution_count": 20,
   "metadata": {},
   "outputs": [
    {
     "data": {
      "text/plain": [
       "-1"
      ]
     },
     "execution_count": 20,
     "metadata": {},
     "output_type": "execute_result"
    }
   ],
   "source": [
    "triangle = [(0,0),(30,0),(0,40)]\n",
    "canvas = draw(canvas,triangle,(204,204,0),5,5)\n",
    "cv2.imshow(\"canvas\",canvas)\n",
    "cv2.waitKey(0)\n"
   ]
  },
  {
   "cell_type": "code",
   "execution_count": 21,
   "metadata": {},
   "outputs": [
    {
     "data": {
      "text/plain": [
       "-1"
      ]
     },
     "execution_count": 21,
     "metadata": {},
     "output_type": "execute_result"
    }
   ],
   "source": [
    "triangle = [(10,10),(35,10),(22,31)]\n",
    "canvas = draw(canvas,triangle,(255,0,0),40,5)\n",
    "cv2.imshow(\"canvas\",canvas)\n",
    "cv2.waitKey(0)"
   ]
  },
  {
   "cell_type": "code",
   "execution_count": 22,
   "metadata": {},
   "outputs": [
    {
     "data": {
      "text/plain": [
       "-1"
      ]
     },
     "execution_count": 22,
     "metadata": {},
     "output_type": "execute_result"
    }
   ],
   "source": [
    "square = [(0,0),(50,0),(50,50),(0,50)]\n",
    "canvas = draw(canvas,square,(128,128,128),5,40)\n",
    "cv2.imshow(\"canvas\",canvas)\n",
    "cv2.waitKey(0)"
   ]
  },
  {
   "cell_type": "code",
   "execution_count": 23,
   "metadata": {},
   "outputs": [
    {
     "data": {
      "text/plain": [
       "-1"
      ]
     },
     "execution_count": 23,
     "metadata": {},
     "output_type": "execute_result"
    }
   ],
   "source": [
    "rhombus = [(0,0),(20,0),(0,34),(-20,34)]\n",
    "canvas = draw(canvas,rhombus,(0,255,0),75,50)\n",
    "cv2.imshow(\"canvas\",canvas)\n",
    "cv2.waitKey(0)"
   ]
  },
  {
   "cell_type": "code",
   "execution_count": null,
   "metadata": {},
   "outputs": [],
   "source": [
    "M = np.float32([[1, 0, 25], [0, 1, 50]])"
   ]
  },
  {
   "cell_type": "code",
   "execution_count": 25,
   "metadata": {},
   "outputs": [
    {
     "data": {
      "text/plain": [
       "-1"
      ]
     },
     "execution_count": 25,
     "metadata": {},
     "output_type": "execute_result"
    }
   ],
   "source": [
    "shifted = cv2.warpAffine(image, M, (image.shape[1], image.shape[0]))\n",
    "cv2.imshow(\"Shifted Down and Right\", shifted)\n",
    "cv2.waitKey(0)"
   ]
  },
  {
   "cell_type": "code",
   "execution_count": 35,
   "metadata": {},
   "outputs": [],
   "source": [
    "def shift_image(image, dx, dy):\n",
    "    image = np.roll(image, dy, axis=0)\n",
    "    image = np.roll(image, dx, axis=1)\n",
    "    if dy>0:\n",
    "        image[:dy, :] = 0\n",
    "    elif dy<0:\n",
    "        image[dy:, :] = 0\n",
    "    if dx>0:\n",
    "        image[:, :dx] = 0\n",
    "    elif dx<0:\n",
    "        image[:, dx:] = 0\n",
    "    return image"
   ]
  },
  {
   "cell_type": "code",
   "execution_count": 36,
   "metadata": {},
   "outputs": [
    {
     "data": {
      "text/plain": [
       "-1"
      ]
     },
     "execution_count": 36,
     "metadata": {},
     "output_type": "execute_result"
    }
   ],
   "source": [
    "cv2.imshow(\"Shifted Down and Right\", shift_image(image, 50, 100))\n",
    "cv2.waitKey(0)"
   ]
  },
  {
   "cell_type": "code",
   "execution_count": 8,
   "metadata": {},
   "outputs": [
    {
     "data": {
      "text/plain": [
       "-1"
      ]
     },
     "execution_count": 8,
     "metadata": {},
     "output_type": "execute_result"
    }
   ],
   "source": [
    "M = np.float32([[1, 0, -50], [0, 1, -90]])\n",
    "shifted = cv2.warpAffine(image, M, (image.shape[1], image.shape[0]))\n",
    "cv2.imshow(\"Shifted Up and Left\", shifted)\n",
    "cv2.waitKey(0)"
   ]
  },
  {
   "cell_type": "code",
   "execution_count": 38,
   "metadata": {},
   "outputs": [
    {
     "data": {
      "text/plain": [
       "-1"
      ]
     },
     "execution_count": 38,
     "metadata": {},
     "output_type": "execute_result"
    }
   ],
   "source": [
    "cv2.imshow(\"Shifted Up and Left\", shift_image(image, -50, -90))\n",
    "cv2.waitKey(0)"
   ]
  },
  {
   "cell_type": "code",
   "execution_count": 5,
   "metadata": {},
   "outputs": [],
   "source": [
    "(h, w) = image.shape[:2]\n",
    "center = (w // 2, h // 2)"
   ]
  },
  {
   "cell_type": "code",
   "execution_count": 41,
   "metadata": {},
   "outputs": [],
   "source": [
    "def image_rotate(image, degrees):\n",
    "    rads = math.radians(degrees)\n",
    "    cx, cy = (image.shape[1]//2, image.shape[0]//2)\n",
    "    height_rot_img = round(abs(image.shape[0]*math.sin(rads))) + round(abs(image.shape[1]*math.cos(rads)))\n",
    "    width_rot_img = round(abs(image.shape[1]*math.cos(rads))) + round(abs(image.shape[0]*math.sin(rads)))\n",
    "    rot_img = np.uint8(np.zeros((height_rot_img,width_rot_img,image.shape[2])))\n",
    "    midx,midy = (width_rot_img//2, height_rot_img//2)\n",
    "    for i in range(rot_img.shape[0]):\n",
    "        for j in range(rot_img.shape[1]):\n",
    "            x= (i-midx)*math.cos(rads)+(j-midy)*math.sin(rads)\n",
    "            y= -(i-midx)*math.sin(rads)+(j-midy)*math.cos(rads)\n",
    "            x=round(x)+cy\n",
    "            y=round(y)+cx\n",
    "            if (x>=0 and y>=0 and x<image.shape[0] and  y<image.shape[1]):\n",
    "                rot_img[i,j,:] = image[x,y,:]\n",
    "    return rot_img \n"
   ]
  },
  {
   "cell_type": "code",
   "execution_count": 46,
   "metadata": {},
   "outputs": [
    {
     "data": {
      "text/plain": [
       "-1"
      ]
     },
     "execution_count": 46,
     "metadata": {},
     "output_type": "execute_result"
    }
   ],
   "source": [
    "cv2.imshow(\"Rotated by -90 Degrees\", image_rotate(image, -90))\n",
    "cv2.waitKey(0)"
   ]
  },
  {
   "cell_type": "code",
   "execution_count": 45,
   "metadata": {},
   "outputs": [
    {
     "data": {
      "text/plain": [
       "-1"
      ]
     },
     "execution_count": 45,
     "metadata": {},
     "output_type": "execute_result"
    }
   ],
   "source": [
    "M = cv2.getRotationMatrix2D(center, -90, 1.0)\n",
    "rotated = cv2.warpAffine(image, M, (w, h))\n",
    "cv2.imshow(\"Rotated by -90 Degrees\", rotated)\n",
    "cv2.waitKey(0)"
   ]
  },
  {
   "cell_type": "code",
   "execution_count": 47,
   "metadata": {},
   "outputs": [
    {
     "data": {
      "text/plain": [
       "-1"
      ]
     },
     "execution_count": 47,
     "metadata": {},
     "output_type": "execute_result"
    }
   ],
   "source": [
    "cv2.imshow(\"Rotated by 45 Degrees\", image_rotate(image, 45))\n",
    "cv2.waitKey(0)"
   ]
  },
  {
   "cell_type": "code",
   "execution_count": 49,
   "metadata": {},
   "outputs": [
    {
     "data": {
      "text/plain": [
       "-1"
      ]
     },
     "execution_count": 49,
     "metadata": {},
     "output_type": "execute_result"
    }
   ],
   "source": [
    "rotated = cv2.warpAffine(image, M, (w, h))\n",
    "M = cv2.getRotationMatrix2D(center, 45, 1.0)\n",
    "cv2.imshow(\"Rotated by 45 Degrees\", rotated)\n",
    "cv2.waitKey(0)"
   ]
  },
  {
   "cell_type": "code",
   "execution_count": 66,
   "metadata": {},
   "outputs": [],
   "source": [
    "def resize_img(image, resize_width, resize_height):   \n",
    "    original_width, original_height, channel = image.shape\n",
    "    \n",
    "    red_channel   = image[:, :, 0]\n",
    "    green_channel = image[:, :, 1]\n",
    "    blue_channel  = image[:, :, 2]\n",
    "    \n",
    "    resized_image = np.zeros((resize_width, resize_height, channel), dtype=np.uint8)\n",
    "    \n",
    "    x_scale = original_width/resize_width\n",
    "    y_scale = original_height/resize_height\n",
    "    \n",
    "    resize_idx = np.zeros((resize_width, resize_height))\n",
    "    resize_index_x = np.ceil(np.arange(0, original_width, x_scale)).astype(int)\n",
    "    resize_index_y = np.ceil(np.arange(0, original_height, y_scale)).astype(int)\n",
    "    resize_index_x[np.where(resize_index_x == original_width)]  -= 1\n",
    "    resize_index_y[np.where(resize_index_y == original_height)] -= 1\n",
    "\n",
    "    resized_image[:, :, 0] = red_channel[resize_index_x, :][:, resize_index_y]\n",
    "    resized_image[:, :, 1] = green_channel[resize_index_x, :][:, resize_index_y]\n",
    "    resized_image[:, :, 2] = blue_channel[resize_index_x, :][:, resize_index_y]\n",
    "    \n",
    "    return resized_image"
   ]
  },
  {
   "cell_type": "code",
   "execution_count": 67,
   "metadata": {},
   "outputs": [
    {
     "data": {
      "text/plain": [
       "-1"
      ]
     },
     "execution_count": 67,
     "metadata": {},
     "output_type": "execute_result"
    }
   ],
   "source": [
    "r = 150.0 / image.shape[1]\n",
    "dim = (150, int(image.shape[0] * r))\n",
    "cv2.imshow(\"Resized (Width)\", resize_img(image,dim[0],dim[1]))\n",
    "cv2.waitKey(0)"
   ]
  },
  {
   "cell_type": "code",
   "execution_count": 7,
   "metadata": {},
   "outputs": [],
   "source": [
    "r = 150.0 / image.shape[1]\n",
    "dim = (150, int(image.shape[0] * r))"
   ]
  },
  {
   "cell_type": "code",
   "execution_count": 9,
   "metadata": {},
   "outputs": [
    {
     "data": {
      "text/plain": [
       "-1"
      ]
     },
     "execution_count": 9,
     "metadata": {},
     "output_type": "execute_result"
    }
   ],
   "source": [
    "resized = cv2.resize(image, dim, interpolation = cv2.INTER_AREA)\n",
    "cv2.imshow(\"Resized (Width)\", resized)\n",
    "cv2.waitKey(0)"
   ]
  },
  {
   "cell_type": "code",
   "execution_count": 69,
   "metadata": {},
   "outputs": [
    {
     "data": {
      "text/plain": [
       "-1"
      ]
     },
     "execution_count": 69,
     "metadata": {},
     "output_type": "execute_result"
    }
   ],
   "source": [
    "r = 50.0 / image.shape[0]\n",
    "dim = (int(image.shape[1] * r), 50)\n",
    "resized = cv2.resize(image, dim, interpolation = cv2.INTER_AREA)\n",
    "cv2.imshow(\"Resized (Height)\", resized)\n",
    "cv2.waitKey(0)"
   ]
  },
  {
   "cell_type": "code",
   "execution_count": 68,
   "metadata": {},
   "outputs": [
    {
     "data": {
      "text/plain": [
       "-1"
      ]
     },
     "execution_count": 68,
     "metadata": {},
     "output_type": "execute_result"
    }
   ],
   "source": [
    "r = 50.0 / image.shape[0]\n",
    "dim = (int(image.shape[1] * r), 50)\n",
    "cv2.imshow(\"Resized (Height)\", resize_img(image,dim[0],dim[1]))\n",
    "cv2.waitKey(0)"
   ]
  },
  {
   "cell_type": "code",
   "execution_count": 8,
   "metadata": {},
   "outputs": [
    {
     "data": {
      "text/plain": [
       "-1"
      ]
     },
     "execution_count": 8,
     "metadata": {},
     "output_type": "execute_result"
    }
   ],
   "source": [
    "flipped = cv2.flip(image, 1)\n",
    "cv2.imshow(\"Flipped Horizontally\", flipped)\n",
    "cv2.waitKey(0)"
   ]
  },
  {
   "cell_type": "code",
   "execution_count": 3,
   "metadata": {},
   "outputs": [],
   "source": [
    "def flip(image,flip):\n",
    "    if flip >= 1:\n",
    "        h_flip = image[:, ::-1]\n",
    "        return h_flip\n",
    "    elif flip == 0: \n",
    "        v_flip = image[::-1]\n",
    "        return v_flip\n",
    "    else:\n",
    "        h_flip = image[:, ::-1]\n",
    "        v_flip = h_flip[::-1]\n",
    "        return v_flip\n",
    "# flip horizontally\n",
    "    "
   ]
  },
  {
   "cell_type": "code",
   "execution_count": 7,
   "metadata": {},
   "outputs": [
    {
     "data": {
      "text/plain": [
       "-1"
      ]
     },
     "execution_count": 7,
     "metadata": {},
     "output_type": "execute_result"
    }
   ],
   "source": [
    "cv2.imshow(\"Flipped Horizontally\", flip(image,1))\n",
    "cv2.waitKey(0)"
   ]
  },
  {
   "cell_type": "code",
   "execution_count": 3,
   "metadata": {},
   "outputs": [],
   "source": [
    "def crop_img(image,width,heigt,x,y):\n",
    "    cropped = image[x:x+width , y:y+heigt]\n",
    "    return cropped\n"
   ]
  },
  {
   "cell_type": "code",
   "execution_count": 19,
   "metadata": {},
   "outputs": [
    {
     "data": {
      "text/plain": [
       "-1"
      ]
     },
     "execution_count": 19,
     "metadata": {},
     "output_type": "execute_result"
    }
   ],
   "source": [
    "crop = image[100:200, 500:600]\n",
    "cv2.imshow(\"T-Rex Face\", crop)\n",
    "cv2.waitKey(0)"
   ]
  },
  {
   "cell_type": "code",
   "execution_count": 16,
   "metadata": {},
   "outputs": [
    {
     "data": {
      "text/plain": [
       "-1"
      ]
     },
     "execution_count": 16,
     "metadata": {},
     "output_type": "execute_result"
    }
   ],
   "source": [
    "cv2.imshow(\"T-Rex Face\", crop_img(image,100,100,100,500))\n",
    "cv2.waitKey(0)"
   ]
  },
  {
   "cell_type": "code",
   "execution_count": 71,
   "metadata": {},
   "outputs": [
    {
     "data": {
      "text/plain": [
       "-1"
      ]
     },
     "execution_count": 71,
     "metadata": {},
     "output_type": "execute_result"
    }
   ],
   "source": [
    "M = np.ones(image.shape, dtype = \"uint8\") * 100\n",
    "added = cv2.add(image, M)\n",
    "cv2.imshow(\"Added\", added)\n",
    "cv2.waitKey(0)"
   ]
  },
  {
   "cell_type": "code",
   "execution_count": 11,
   "metadata": {},
   "outputs": [],
   "source": [
    "def image_add_matrix(image,filters):\n",
    "    result = np.zeros(image.shape,dtype='uint8')\n",
    "    for i in range(image.shape[0]):  \n",
    "        for j in range(image.shape[1]):\n",
    "            if float(image[i,j,0]) + float(filters[i,j,0]) >= 255:\n",
    "                result[i,j,0] = 255\n",
    "            else:\n",
    "                result[i,j,0] = float(image[i,j,0]) + float(filters[i,j,0])\n",
    "            if float(image[i,j,1]) + float(filters[i,j,1]) >= 255:\n",
    "                result[i,j,1] = 255\n",
    "            else:\n",
    "                result[i,j,1] = float(image[i,j,1]) + float(filters[i,j,1])\n",
    "            if float(image[i,j,2]) + float(filters[i,j,2]) >= 255:\n",
    "                result[i,j,2] = 255\n",
    "            else:\n",
    "                result[i,j,2] = float(image[i,j,2]) + float(filters[i,j,2])\n",
    "    return result"
   ]
  },
  {
   "cell_type": "code",
   "execution_count": 14,
   "metadata": {},
   "outputs": [
    {
     "data": {
      "text/plain": [
       "-1"
      ]
     },
     "execution_count": 14,
     "metadata": {},
     "output_type": "execute_result"
    }
   ],
   "source": [
    "M = np.ones(image.shape, dtype = \"uint8\")*100\n",
    "cv2.imshow(\"Added\", image_add_matrix(image,M))\n",
    "cv2.waitKey(0)"
   ]
  },
  {
   "cell_type": "code",
   "execution_count": 18,
   "metadata": {},
   "outputs": [],
   "source": [
    "def image_substract_matrix(image,filters):\n",
    "    result = np.zeros(image.shape,dtype='uint8')\n",
    "    for i in range(image.shape[0]):  \n",
    "        for j in range(image.shape[1]):\n",
    "            if float(image[i,j,0]) - float(filters[i,j,0]) <= 0:\n",
    "                result[i,j,0] = 0\n",
    "            else:\n",
    "                result[i,j,0] = float(image[i,j,0]) - float(filters[i,j,0])\n",
    "            if float(image[i,j,1]) - float(filters[i,j,1]) <= 0:\n",
    "                result[i,j,1] = 0\n",
    "            else:\n",
    "                result[i,j,1] = float(image[i,j,1]) - float(filters[i,j,1])\n",
    "            if float(image[i,j,2]) - float(filters[i,j,2]) <= 0:\n",
    "                result[i,j,2] = 0\n",
    "            else:\n",
    "                result[i,j,2] = float(image[i,j,2]) - float(filters[i,j,2])\n",
    "    return result"
   ]
  },
  {
   "cell_type": "code",
   "execution_count": 19,
   "metadata": {},
   "outputs": [
    {
     "data": {
      "text/plain": [
       "-1"
      ]
     },
     "execution_count": 19,
     "metadata": {},
     "output_type": "execute_result"
    }
   ],
   "source": [
    "M = np.ones(image.shape, dtype = \"uint8\") * 100\n",
    "cv2.imshow(\"Subtracted\", image_substract_matrix(image,M))\n",
    "cv2.waitKey(0)"
   ]
  },
  {
   "cell_type": "code",
   "execution_count": 16,
   "metadata": {},
   "outputs": [
    {
     "data": {
      "text/plain": [
       "-1"
      ]
     },
     "execution_count": 16,
     "metadata": {},
     "output_type": "execute_result"
    }
   ],
   "source": [
    "M = np.ones(image.shape, dtype = \"uint8\") * 100\n",
    "subtracted = cv2.subtract(image, M)\n",
    "cv2.imshow(\"Subtracted\", subtracted)\n",
    "cv2.waitKey(0)"
   ]
  },
  {
   "cell_type": "code",
   "execution_count": null,
   "metadata": {},
   "outputs": [],
   "source": []
  }
 ],
 "metadata": {
  "kernelspec": {
   "display_name": "Python 3.8.8 ('base')",
   "language": "python",
   "name": "python3"
  },
  "language_info": {
   "codemirror_mode": {
    "name": "ipython",
    "version": 3
   },
   "file_extension": ".py",
   "mimetype": "text/x-python",
   "name": "python",
   "nbconvert_exporter": "python",
   "pygments_lexer": "ipython3",
   "version": "3.8.8"
  },
  "orig_nbformat": 4,
  "vscode": {
   "interpreter": {
    "hash": "2bd0b42b829204acf5b3731beff29f3b7390cdc93c786e6d920a9f1f7d2639f7"
   }
  }
 },
 "nbformat": 4,
 "nbformat_minor": 2
}
