{
 "cells": [
  {
   "cell_type": "code",
   "execution_count": 1,
   "metadata": {},
   "outputs": [],
   "source": [
    "import cv2\n",
    "import numpy as np \n",
    "import sklearn \n",
    "import scipy\n",
    "import matplotlib.pyplot as plt\n",
    "import argparse\n",
    "import math\n",
    "import warnings\n",
    "warnings.filterwarnings(\"ignore\")"
   ]
  },
  {
   "cell_type": "code",
   "execution_count": 2,
   "metadata": {},
   "outputs": [],
   "source": [
    "image = cv2.imread('302843992_485786496928626_6191234182030738228_n.png')"
   ]
  },
  {
   "cell_type": "code",
   "execution_count": 3,
   "metadata": {},
   "outputs": [
    {
     "data": {
      "text/plain": [
       "-1"
      ]
     },
     "execution_count": 3,
     "metadata": {},
     "output_type": "execute_result"
    }
   ],
   "source": [
    "cv2.imshow('image',image)\n",
    "cv2.waitKey(0)"
   ]
  },
  {
   "cell_type": "code",
   "execution_count": 4,
   "metadata": {},
   "outputs": [
    {
     "name": "stdout",
     "output_type": "stream",
     "text": [
      "width: 697 pixels\n"
     ]
    }
   ],
   "source": [
    "print(\"width: {} pixels\".format(image.shape[1]))"
   ]
  },
  {
   "cell_type": "code",
   "execution_count": 5,
   "metadata": {},
   "outputs": [
    {
     "name": "stdout",
     "output_type": "stream",
     "text": [
      "height: 451 pixels\n"
     ]
    }
   ],
   "source": [
    "print(\"height: {} pixels\".format(image.shape[0]))"
   ]
  },
  {
   "cell_type": "code",
   "execution_count": 6,
   "metadata": {},
   "outputs": [
    {
     "name": "stdout",
     "output_type": "stream",
     "text": [
      "channels: 3\n"
     ]
    }
   ],
   "source": [
    "print(\"channels: {}\".format(image.shape[2]))"
   ]
  },
  {
   "cell_type": "code",
   "execution_count": 7,
   "metadata": {},
   "outputs": [
    {
     "data": {
      "text/plain": [
       "array([254, 254, 254], dtype=uint8)"
      ]
     },
     "execution_count": 7,
     "metadata": {},
     "output_type": "execute_result"
    }
   ],
   "source": [
    "image[0,0]"
   ]
  },
  {
   "cell_type": "code",
   "execution_count": 3,
   "metadata": {},
   "outputs": [],
   "source": [
    "def rgb2gray(image):\n",
    "    for i in range(image.shape[0]):\n",
    "        for j in range(image.shape[1]):\n",
    "            image[i][j]=0.3*image[i][j][0]+0.6*image[i][j][1]+0.1*image[i][j][2]\n",
    "    return image"
   ]
  },
  {
   "cell_type": "code",
   "execution_count": 4,
   "metadata": {},
   "outputs": [],
   "source": [
    "def rgb2graymax(image):\n",
    "    for i in range(image.shape[0]):\n",
    "        for j in range(image.shape[1]):\n",
    "            image[i][j]=max(image[i][j][0],image[i][j][1],image[i][j][2])\n",
    "    return image"
   ]
  },
  {
   "cell_type": "code",
   "execution_count": 5,
   "metadata": {},
   "outputs": [
    {
     "data": {
      "text/plain": [
       "-1"
      ]
     },
     "execution_count": 5,
     "metadata": {},
     "output_type": "execute_result"
    }
   ],
   "source": [
    "cv2.imshow('image',rgb2gray(image))\n",
    "cv2.waitKey(0)"
   ]
  },
  {
   "cell_type": "code",
   "execution_count": 11,
   "metadata": {},
   "outputs": [
    {
     "data": {
      "text/plain": [
       "-1"
      ]
     },
     "execution_count": 11,
     "metadata": {},
     "output_type": "execute_result"
    }
   ],
   "source": [
    "cv2.imshow('image',rgb2graymax(image))\n",
    "cv2.waitKey(0)"
   ]
  },
  {
   "cell_type": "code",
   "execution_count": 12,
   "metadata": {},
   "outputs": [
    {
     "data": {
      "text/plain": [
       "True"
      ]
     },
     "execution_count": 12,
     "metadata": {},
     "output_type": "execute_result"
    }
   ],
   "source": [
    "grayscale = rgb2graymax(image)\n",
    "cv2.imwrite(\"grayscale.png\",grayscale)"
   ]
  },
  {
   "cell_type": "code",
   "execution_count": 6,
   "metadata": {},
   "outputs": [],
   "source": [
    "image = cv2.imread('302843992_485786496928626_6191234182030738228_n.png')"
   ]
  },
  {
   "cell_type": "code",
   "execution_count": 7,
   "metadata": {},
   "outputs": [],
   "source": [
    "def split_image(image):\n",
    "    zeros = np.zeros(image.shape[:2], dtype=\"uint8\")\n",
    "    red_image = np.zeros(image.shape[:3], dtype=\"uint8\")\n",
    "    green_image = np.zeros(image.shape[:3], dtype=\"uint8\")\n",
    "    blue_image = np.zeros(image.shape[:3], dtype=\"uint8\")\n",
    "    for i in range(image.shape[0]):\n",
    "        for j in range(image.shape[1]):\n",
    "            if sum(image[i,j] >= np.array([200, 200, 200])) == 3:\n",
    "                blue_image[i,j] = image[i,j]\n",
    "                green_image[i,j] = image[i,j]\n",
    "                red_image[i,j] = image[i,j]\n",
    "            else:\n",
    "                blue_image[i,j] = np.array([image[i,j,0],0,0])\n",
    "                green_image[i,j] = np.array([0,image[i,j,1],0])\n",
    "                red_image[i,j] = np.array([0,0,image[i,j,2]])\n",
    "    \n",
    "    return red_image,green_image,blue_image"
   ]
  },
  {
   "cell_type": "code",
   "execution_count": 8,
   "metadata": {},
   "outputs": [],
   "source": [
    "red,green,blue = split_image(image)"
   ]
  },
  {
   "cell_type": "code",
   "execution_count": 9,
   "metadata": {},
   "outputs": [
    {
     "data": {
      "text/plain": [
       "-1"
      ]
     },
     "execution_count": 9,
     "metadata": {},
     "output_type": "execute_result"
    }
   ],
   "source": [
    "cv2.imshow(\"red\",red)\n",
    "cv2.imshow(\"green\",green)\n",
    "cv2.imshow(\"blue\",blue)\n",
    "cv2.waitKey(0)\n"
   ]
  },
  {
   "cell_type": "code",
   "execution_count": 28,
   "metadata": {},
   "outputs": [],
   "source": [
    "canvas = np.zeros((300, 300, 3), dtype = \"uint8\")"
   ]
  },
  {
   "cell_type": "code",
   "execution_count": 24,
   "metadata": {},
   "outputs": [
    {
     "data": {
      "text/plain": [
       "-1"
      ]
     },
     "execution_count": 24,
     "metadata": {},
     "output_type": "execute_result"
    }
   ],
   "source": [
    "cv2.imshow(\"canvas\",canvas)\n",
    "cv2.waitKey(0)"
   ]
  },
  {
   "cell_type": "code",
   "execution_count": 18,
   "metadata": {},
   "outputs": [],
   "source": [
    "def in_polygon(x, y, polygon):\n",
    "    # check if the point (x,y) is inside the polygon without cv2\n",
    "    result = False\n",
    "    for i in range(len(polygon)):\n",
    "        j = (i+1)%len(polygon)\n",
    "        if (polygon[i][1] > y) != (polygon[j][1] > y) and \\\n",
    "            x < (polygon[j][0] - polygon[i][0]) * (y - polygon[i][1]) / (polygon[j][1] - polygon[i][1]) + polygon[i][0]:\n",
    "            result = not result\n",
    "    return result\n",
    "\n",
    "\n",
    "def draw(canvas,polygon,color,offset_x=0,offset_y=0):\n",
    "    canvas = canvas.copy()\n",
    "    polygon = np.array(polygon)\n",
    "    polygon[:,0] += offset_x\n",
    "    polygon[:,1] += offset_y\n",
    "    \n",
    "    # each pixel in canvas \n",
    "    for i in range(canvas.shape[0]):\n",
    "        for j in range(canvas.shape[1]):\n",
    "            # check if the pixel is inside the polygon\n",
    "            if in_polygon(j,i,polygon):\n",
    "                canvas[i,j] = color\n",
    "            \n",
    "    return canvas"
   ]
  },
  {
   "cell_type": "code",
   "execution_count": 30,
   "metadata": {},
   "outputs": [
    {
     "data": {
      "text/plain": [
       "-1"
      ]
     },
     "execution_count": 30,
     "metadata": {},
     "output_type": "execute_result"
    }
   ],
   "source": [
    "triangle = [(0,0),(30,0),(0,40)]\n",
    "canvas = draw(canvas,triangle,(0,255,255),5,5)\n",
    "cv2.imshow(\"canvas\",canvas)\n",
    "cv2.waitKey(0)\n"
   ]
  },
  {
   "cell_type": "code",
   "execution_count": 31,
   "metadata": {},
   "outputs": [
    {
     "data": {
      "text/plain": [
       "-1"
      ]
     },
     "execution_count": 31,
     "metadata": {},
     "output_type": "execute_result"
    }
   ],
   "source": [
    "triangle = [(10,10),(35,10),(22,31)]\n",
    "canvas = draw(canvas,triangle,(0,0,255),40,5)\n",
    "cv2.imshow(\"canvas\",canvas)\n",
    "cv2.waitKey(0)"
   ]
  },
  {
   "cell_type": "code",
   "execution_count": 32,
   "metadata": {},
   "outputs": [
    {
     "data": {
      "text/plain": [
       "-1"
      ]
     },
     "execution_count": 32,
     "metadata": {},
     "output_type": "execute_result"
    }
   ],
   "source": [
    "square = [(0,0),(50,0),(50,50),(0,50)]\n",
    "canvas = draw(canvas,square,(128,128,128),5,40)\n",
    "cv2.imshow(\"canvas\",canvas)\n",
    "cv2.waitKey(0)"
   ]
  },
  {
   "cell_type": "code",
   "execution_count": 33,
   "metadata": {},
   "outputs": [
    {
     "data": {
      "text/plain": [
       "-1"
      ]
     },
     "execution_count": 33,
     "metadata": {},
     "output_type": "execute_result"
    }
   ],
   "source": [
    "rhombus = [(0,0),(20,0),(0,34),(-20,34)]\n",
    "canvas = draw(canvas,rhombus,(0,255,0),75,50)\n",
    "cv2.imshow(\"canvas\",canvas)\n",
    "cv2.waitKey(0)"
   ]
  },
  {
   "cell_type": "code",
   "execution_count": 10,
   "metadata": {},
   "outputs": [],
   "source": [
    "image = cv2.imread('302843992_485786496928626_6191234182030738228_n.png')"
   ]
  },
  {
   "cell_type": "code",
   "execution_count": 12,
   "metadata": {},
   "outputs": [],
   "source": [
    "M = np.float32([[1, 0, 25], [0, 1, 50]])"
   ]
  },
  {
   "cell_type": "code",
   "execution_count": 13,
   "metadata": {},
   "outputs": [
    {
     "data": {
      "text/plain": [
       "-1"
      ]
     },
     "execution_count": 13,
     "metadata": {},
     "output_type": "execute_result"
    }
   ],
   "source": [
    "shifted = cv2.warpAffine(image, M, (image.shape[1], image.shape[0]))\n",
    "cv2.imshow(\"Shifted Down and Right\", shifted)\n",
    "cv2.waitKey(0)"
   ]
  },
  {
   "cell_type": "code",
   "execution_count": 14,
   "metadata": {},
   "outputs": [],
   "source": [
    "def shift_image(image, dx, dy):\n",
    "    image = np.roll(image, dy, axis=0)\n",
    "    image = np.roll(image, dx, axis=1)\n",
    "    if dy>0:\n",
    "        image[:dy, :] = 0\n",
    "    elif dy<0:\n",
    "        image[dy:, :] = 0\n",
    "    if dx>0:\n",
    "        image[:, :dx] = 0\n",
    "    elif dx<0:\n",
    "        image[:, dx:] = 0\n",
    "    return image"
   ]
  },
  {
   "cell_type": "code",
   "execution_count": 15,
   "metadata": {},
   "outputs": [
    {
     "data": {
      "text/plain": [
       "-1"
      ]
     },
     "execution_count": 15,
     "metadata": {},
     "output_type": "execute_result"
    }
   ],
   "source": [
    "cv2.imshow(\"Shifted Down and Right\", shift_image(image, 50, 100))\n",
    "cv2.waitKey(0)"
   ]
  },
  {
   "cell_type": "code",
   "execution_count": 16,
   "metadata": {},
   "outputs": [
    {
     "data": {
      "text/plain": [
       "-1"
      ]
     },
     "execution_count": 16,
     "metadata": {},
     "output_type": "execute_result"
    }
   ],
   "source": [
    "M = np.float32([[1, 0, -50], [0, 1, -90]])\n",
    "shifted = cv2.warpAffine(image, M, (image.shape[1], image.shape[0]))\n",
    "cv2.imshow(\"Shifted Up and Left\", shifted)\n",
    "cv2.waitKey(0)"
   ]
  },
  {
   "cell_type": "code",
   "execution_count": 17,
   "metadata": {},
   "outputs": [
    {
     "data": {
      "text/plain": [
       "-1"
      ]
     },
     "execution_count": 17,
     "metadata": {},
     "output_type": "execute_result"
    }
   ],
   "source": [
    "cv2.imshow(\"Shifted Up and Left\", shift_image(image, -50, -90))\n",
    "cv2.waitKey(0)"
   ]
  },
  {
   "cell_type": "code",
   "execution_count": 18,
   "metadata": {},
   "outputs": [],
   "source": [
    "(h, w) = image.shape[:2]\n",
    "center = (w // 2, h // 2)"
   ]
  },
  {
   "cell_type": "code",
   "execution_count": 19,
   "metadata": {},
   "outputs": [],
   "source": [
    "def image_rotate(image, degrees):\n",
    "    rads = math.radians(degrees)\n",
    "    cx, cy = (image.shape[1]//2, image.shape[0]//2)\n",
    "    height_rot_img = round(abs(image.shape[0]*math.sin(rads))) + round(abs(image.shape[1]*math.cos(rads)))\n",
    "    width_rot_img = round(abs(image.shape[1]*math.cos(rads))) + round(abs(image.shape[0]*math.sin(rads)))\n",
    "    rot_img = np.uint8(np.zeros((height_rot_img,width_rot_img,image.shape[2])))\n",
    "    midx,midy = (width_rot_img//2, height_rot_img//2)\n",
    "    for i in range(rot_img.shape[0]):\n",
    "        for j in range(rot_img.shape[1]):\n",
    "            x= (i-midx)*math.cos(rads)+(j-midy)*math.sin(rads)\n",
    "            y= -(i-midx)*math.sin(rads)+(j-midy)*math.cos(rads)\n",
    "            x=round(x)+cy\n",
    "            y=round(y)+cx\n",
    "            if (x>=0 and y>=0 and x<image.shape[0] and  y<image.shape[1]):\n",
    "                rot_img[i,j,:] = image[x,y,:]\n",
    "    return rot_img \n"
   ]
  },
  {
   "cell_type": "code",
   "execution_count": 20,
   "metadata": {},
   "outputs": [
    {
     "data": {
      "text/plain": [
       "-1"
      ]
     },
     "execution_count": 20,
     "metadata": {},
     "output_type": "execute_result"
    }
   ],
   "source": [
    "cv2.imshow(\"Rotated by -90 Degrees\", image_rotate(image, -90))\n",
    "cv2.waitKey(0)"
   ]
  },
  {
   "cell_type": "code",
   "execution_count": 21,
   "metadata": {},
   "outputs": [
    {
     "data": {
      "text/plain": [
       "-1"
      ]
     },
     "execution_count": 21,
     "metadata": {},
     "output_type": "execute_result"
    }
   ],
   "source": [
    "M = cv2.getRotationMatrix2D(center, -90, 1.0)\n",
    "rotated = cv2.warpAffine(image, M, (w, h))\n",
    "cv2.imshow(\"Rotated by -90 Degrees\", rotated)\n",
    "cv2.waitKey(0)"
   ]
  },
  {
   "cell_type": "code",
   "execution_count": 22,
   "metadata": {},
   "outputs": [
    {
     "data": {
      "text/plain": [
       "-1"
      ]
     },
     "execution_count": 22,
     "metadata": {},
     "output_type": "execute_result"
    }
   ],
   "source": [
    "cv2.imshow(\"Rotated by 45 Degrees\", image_rotate(image, 45))\n",
    "cv2.waitKey(0)"
   ]
  },
  {
   "cell_type": "code",
   "execution_count": 23,
   "metadata": {},
   "outputs": [
    {
     "data": {
      "text/plain": [
       "-1"
      ]
     },
     "execution_count": 23,
     "metadata": {},
     "output_type": "execute_result"
    }
   ],
   "source": [
    "M = cv2.getRotationMatrix2D(center, 45, 1.0)\n",
    "rotated = cv2.warpAffine(image, M, (w, h))\n",
    "cv2.imshow(\"Rotated by 45 Degrees\", rotated)\n",
    "cv2.waitKey(0)"
   ]
  },
  {
   "cell_type": "code",
   "execution_count": 24,
   "metadata": {},
   "outputs": [],
   "source": [
    "def resize_img(image, resize_width, resize_height):   \n",
    "    original_width, original_height, channel = image.shape\n",
    "    \n",
    "    red_channel   = image[:, :, 0]\n",
    "    green_channel = image[:, :, 1]\n",
    "    blue_channel  = image[:, :, 2]\n",
    "    \n",
    "    resized_image = np.zeros((resize_width, resize_height, channel), dtype=np.uint8)\n",
    "    \n",
    "    x_scale = original_width/resize_width\n",
    "    y_scale = original_height/resize_height\n",
    "    \n",
    "    resize_idx = np.zeros((resize_width, resize_height))\n",
    "    resize_index_x = np.ceil(np.arange(0, original_width, x_scale)).astype(int)\n",
    "    resize_index_y = np.ceil(np.arange(0, original_height, y_scale)).astype(int)\n",
    "    resize_index_x[np.where(resize_index_x == original_width)]  -= 1\n",
    "    resize_index_y[np.where(resize_index_y == original_height)] -= 1\n",
    "\n",
    "    resized_image[:, :, 0] = red_channel[resize_index_x, :][:, resize_index_y]\n",
    "    resized_image[:, :, 1] = green_channel[resize_index_x, :][:, resize_index_y]\n",
    "    resized_image[:, :, 2] = blue_channel[resize_index_x, :][:, resize_index_y]\n",
    "    \n",
    "    return resized_image"
   ]
  },
  {
   "cell_type": "code",
   "execution_count": 25,
   "metadata": {},
   "outputs": [
    {
     "data": {
      "text/plain": [
       "-1"
      ]
     },
     "execution_count": 25,
     "metadata": {},
     "output_type": "execute_result"
    }
   ],
   "source": [
    "r = 150.0 / image.shape[1]\n",
    "dim = (150, int(image.shape[0] * r))\n",
    "cv2.imshow(\"Resized (Width)\", resize_img(image,dim[0],dim[1]))\n",
    "cv2.waitKey(0)"
   ]
  },
  {
   "cell_type": "code",
   "execution_count": 26,
   "metadata": {},
   "outputs": [],
   "source": [
    "r = 150.0 / image.shape[1]\n",
    "dim = (150, int(image.shape[0] * r))"
   ]
  },
  {
   "cell_type": "code",
   "execution_count": 27,
   "metadata": {},
   "outputs": [
    {
     "data": {
      "text/plain": [
       "-1"
      ]
     },
     "execution_count": 27,
     "metadata": {},
     "output_type": "execute_result"
    }
   ],
   "source": [
    "resized = cv2.resize(image, dim, interpolation = cv2.INTER_AREA)\n",
    "cv2.imshow(\"Resized (Width)\", resized)\n",
    "cv2.waitKey(0)"
   ]
  },
  {
   "cell_type": "code",
   "execution_count": 28,
   "metadata": {},
   "outputs": [
    {
     "data": {
      "text/plain": [
       "-1"
      ]
     },
     "execution_count": 28,
     "metadata": {},
     "output_type": "execute_result"
    }
   ],
   "source": [
    "r = 50.0 / image.shape[0]\n",
    "dim = (int(image.shape[1] * r), 50)\n",
    "resized = cv2.resize(image, dim, interpolation = cv2.INTER_AREA)\n",
    "cv2.imshow(\"Resized (Height)\", resized)\n",
    "cv2.waitKey(0)"
   ]
  },
  {
   "cell_type": "code",
   "execution_count": 55,
   "metadata": {},
   "outputs": [
    {
     "data": {
      "text/plain": [
       "-1"
      ]
     },
     "execution_count": 55,
     "metadata": {},
     "output_type": "execute_result"
    }
   ],
   "source": [
    "r = 50.0 / image.shape[0]\n",
    "dim = (int(image.shape[1] * r), 50)\n",
    "cv2.imshow(\"Resized (Height)\", resize_img(image,dim[0],dim[1]))\n",
    "cv2.waitKey(0)"
   ]
  },
  {
   "cell_type": "code",
   "execution_count": 29,
   "metadata": {},
   "outputs": [
    {
     "data": {
      "text/plain": [
       "-1"
      ]
     },
     "execution_count": 29,
     "metadata": {},
     "output_type": "execute_result"
    }
   ],
   "source": [
    "flipped = cv2.flip(image, 1)\n",
    "cv2.imshow(\"Flipped Horizontally\", flipped)\n",
    "cv2.waitKey(0)"
   ]
  },
  {
   "cell_type": "code",
   "execution_count": 30,
   "metadata": {},
   "outputs": [],
   "source": [
    "def flip(image,flip):\n",
    "    if flip >= 1:\n",
    "        h_flip = image[:, ::-1]\n",
    "        return h_flip\n",
    "    elif flip == 0: \n",
    "        v_flip = image[::-1]\n",
    "        return v_flip\n",
    "    else:\n",
    "        h_flip = image[:, ::-1]\n",
    "        v_flip = h_flip[::-1]\n",
    "        return v_flip\n",
    "# flip horizontally\n",
    "    "
   ]
  },
  {
   "cell_type": "code",
   "execution_count": 31,
   "metadata": {},
   "outputs": [
    {
     "data": {
      "text/plain": [
       "-1"
      ]
     },
     "execution_count": 31,
     "metadata": {},
     "output_type": "execute_result"
    }
   ],
   "source": [
    "cv2.imshow(\"Flipped Horizontally\", flip(image,1))\n",
    "cv2.waitKey(0)"
   ]
  },
  {
   "cell_type": "code",
   "execution_count": 32,
   "metadata": {},
   "outputs": [],
   "source": [
    "def crop_img(image,width,heigt,x,y):\n",
    "    cropped = image[x:x+width , y:y+heigt]\n",
    "    return cropped\n"
   ]
  },
  {
   "cell_type": "code",
   "execution_count": 33,
   "metadata": {},
   "outputs": [
    {
     "data": {
      "text/plain": [
       "-1"
      ]
     },
     "execution_count": 33,
     "metadata": {},
     "output_type": "execute_result"
    }
   ],
   "source": [
    "crop = image[100:200, 500:600]\n",
    "cv2.imshow(\"T-Rex Face\", crop)\n",
    "cv2.waitKey(0)"
   ]
  },
  {
   "cell_type": "code",
   "execution_count": 34,
   "metadata": {},
   "outputs": [
    {
     "data": {
      "text/plain": [
       "-1"
      ]
     },
     "execution_count": 34,
     "metadata": {},
     "output_type": "execute_result"
    }
   ],
   "source": [
    "cv2.imshow(\"T-Rex Face\", crop_img(image,100,100,100,500))\n",
    "cv2.waitKey(0)"
   ]
  },
  {
   "cell_type": "code",
   "execution_count": 35,
   "metadata": {},
   "outputs": [
    {
     "data": {
      "text/plain": [
       "-1"
      ]
     },
     "execution_count": 35,
     "metadata": {},
     "output_type": "execute_result"
    }
   ],
   "source": [
    "M = np.ones(image.shape, dtype = \"uint8\") * 100\n",
    "added = cv2.add(image, M)\n",
    "cv2.imshow(\"Added\", added)\n",
    "cv2.waitKey(0)"
   ]
  },
  {
   "cell_type": "code",
   "execution_count": 36,
   "metadata": {},
   "outputs": [],
   "source": [
    "def image_add_matrix(image,filters):\n",
    "    result = np.zeros(image.shape,dtype='uint8')\n",
    "    for i in range(image.shape[0]):  \n",
    "        for j in range(image.shape[1]):\n",
    "            if float(image[i,j,0]) + float(filters[i,j,0]) >= 255:\n",
    "                result[i,j,0] = 255\n",
    "            else:\n",
    "                result[i,j,0] = float(image[i,j,0]) + float(filters[i,j,0])\n",
    "            if float(image[i,j,1]) + float(filters[i,j,1]) >= 255:\n",
    "                result[i,j,1] = 255\n",
    "            else:\n",
    "                result[i,j,1] = float(image[i,j,1]) + float(filters[i,j,1])\n",
    "            if float(image[i,j,2]) + float(filters[i,j,2]) >= 255:\n",
    "                result[i,j,2] = 255\n",
    "            else:\n",
    "                result[i,j,2] = float(image[i,j,2]) + float(filters[i,j,2])\n",
    "    return result"
   ]
  },
  {
   "cell_type": "code",
   "execution_count": 37,
   "metadata": {},
   "outputs": [
    {
     "data": {
      "text/plain": [
       "-1"
      ]
     },
     "execution_count": 37,
     "metadata": {},
     "output_type": "execute_result"
    }
   ],
   "source": [
    "M = np.ones(image.shape, dtype = \"uint8\")*100\n",
    "cv2.imshow(\"Added\", image_add_matrix(image,M))\n",
    "cv2.waitKey(0)"
   ]
  },
  {
   "cell_type": "code",
   "execution_count": 38,
   "metadata": {},
   "outputs": [],
   "source": [
    "def image_substract_matrix(image,filters):\n",
    "    result = np.zeros(image.shape,dtype='uint8')\n",
    "    for i in range(image.shape[0]):  \n",
    "        for j in range(image.shape[1]):\n",
    "            if float(image[i,j,0]) - float(filters[i,j,0]) <= 0:\n",
    "                result[i,j,0] = 0\n",
    "            else:\n",
    "                result[i,j,0] = float(image[i,j,0]) - float(filters[i,j,0])\n",
    "            if float(image[i,j,1]) - float(filters[i,j,1]) <= 0:\n",
    "                result[i,j,1] = 0\n",
    "            else:\n",
    "                result[i,j,1] = float(image[i,j,1]) - float(filters[i,j,1])\n",
    "            if float(image[i,j,2]) - float(filters[i,j,2]) <= 0:\n",
    "                result[i,j,2] = 0\n",
    "            else:\n",
    "                result[i,j,2] = float(image[i,j,2]) - float(filters[i,j,2])\n",
    "    return result"
   ]
  },
  {
   "cell_type": "code",
   "execution_count": 39,
   "metadata": {},
   "outputs": [
    {
     "data": {
      "text/plain": [
       "-1"
      ]
     },
     "execution_count": 39,
     "metadata": {},
     "output_type": "execute_result"
    }
   ],
   "source": [
    "M = np.ones(image.shape, dtype = \"uint8\") * 100\n",
    "cv2.imshow(\"Subtracted\", image_substract_matrix(image,M))\n",
    "cv2.waitKey(0)"
   ]
  },
  {
   "cell_type": "code",
   "execution_count": 40,
   "metadata": {},
   "outputs": [
    {
     "data": {
      "text/plain": [
       "-1"
      ]
     },
     "execution_count": 40,
     "metadata": {},
     "output_type": "execute_result"
    }
   ],
   "source": [
    "M = np.ones(image.shape, dtype = \"uint8\") * 100\n",
    "subtracted = cv2.subtract(image, M)\n",
    "cv2.imshow(\"Subtracted\", subtracted)\n",
    "cv2.waitKey(0)"
   ]
  },
  {
   "cell_type": "code",
   "execution_count": 41,
   "metadata": {},
   "outputs": [
    {
     "data": {
      "text/plain": [
       "-1"
      ]
     },
     "execution_count": 41,
     "metadata": {},
     "output_type": "execute_result"
    }
   ],
   "source": [
    "rectangle = np.zeros((300, 300), dtype = \"uint8\")\n",
    "cv2.rectangle(rectangle, (25, 25), (275, 275), 255, -1)\n",
    "cv2.imshow(\"Rectangle\", rectangle)\n",
    "cv2.waitKey(0)"
   ]
  },
  {
   "cell_type": "code",
   "execution_count": 42,
   "metadata": {},
   "outputs": [
    {
     "data": {
      "text/plain": [
       "-1"
      ]
     },
     "execution_count": 42,
     "metadata": {},
     "output_type": "execute_result"
    }
   ],
   "source": [
    "circle = np.zeros((300, 300), dtype = \"uint8\")\n",
    "cv2.circle(circle, (150, 150), 150, 255, -1)\n",
    "cv2.imshow(\"Circle\", circle)\n",
    "cv2.waitKey(0)"
   ]
  },
  {
   "cell_type": "code",
   "execution_count": 43,
   "metadata": {},
   "outputs": [
    {
     "data": {
      "text/plain": [
       "-1"
      ]
     },
     "execution_count": 43,
     "metadata": {},
     "output_type": "execute_result"
    }
   ],
   "source": [
    "bitwiseAnd = cv2.bitwise_and(rectangle, circle)\n",
    "cv2.imshow(\"AND\", bitwiseAnd)\n",
    "cv2.waitKey(0)"
   ]
  },
  {
   "cell_type": "code",
   "execution_count": 44,
   "metadata": {},
   "outputs": [],
   "source": [
    "def bitwise_and(image,mask):\n",
    "    canvas = np.zeros(image.shape,dtype='uint8')\n",
    "    for i in range(image.shape[0]):\n",
    "        for j in range(image.shape[1]):\n",
    "            if len(image.shape) == 3:\n",
    "                for k in range(image.shape[2]):\n",
    "                    canvas[i,j,k] = image[i,j,k] & mask[i,j]\n",
    "            canvas[i,j] = image[i,j] & mask[i,j]\n",
    "    return canvas"
   ]
  },
  {
   "cell_type": "code",
   "execution_count": 45,
   "metadata": {},
   "outputs": [
    {
     "data": {
      "text/plain": [
       "-1"
      ]
     },
     "execution_count": 45,
     "metadata": {},
     "output_type": "execute_result"
    }
   ],
   "source": [
    "bitwiseAnd = bitwise_and(rectangle, circle)\n",
    "cv2.imshow(\"AND\", bitwiseAnd)\n",
    "cv2.waitKey(0)"
   ]
  },
  {
   "cell_type": "code",
   "execution_count": 46,
   "metadata": {},
   "outputs": [
    {
     "data": {
      "text/plain": [
       "-1"
      ]
     },
     "execution_count": 46,
     "metadata": {},
     "output_type": "execute_result"
    }
   ],
   "source": [
    "bitwiseOr = cv2.bitwise_or(rectangle, circle)\n",
    "cv2.imshow(\"OR\", bitwiseOr)\n",
    "cv2.waitKey(0)"
   ]
  },
  {
   "cell_type": "code",
   "execution_count": 47,
   "metadata": {},
   "outputs": [],
   "source": [
    "def bitwise_or(image,mask):\n",
    "    canvas = np.zeros(image.shape,dtype='uint8')\n",
    "    for i in range(image.shape[0]):\n",
    "        for j in range(image.shape[1]):\n",
    "            if len(image.shape) == 3:\n",
    "                for k in range(image.shape[2]):\n",
    "                    canvas[i,j,k] = image[i,j,k] | mask[i,j,k]\n",
    "            canvas[i,j] = image[i,j] | mask[i,j]\n",
    "    return canvas"
   ]
  },
  {
   "cell_type": "code",
   "execution_count": 48,
   "metadata": {},
   "outputs": [
    {
     "data": {
      "text/plain": [
       "-1"
      ]
     },
     "execution_count": 48,
     "metadata": {},
     "output_type": "execute_result"
    }
   ],
   "source": [
    "bitwiseOr = bitwise_or(rectangle, circle)\n",
    "cv2.imshow(\"OR\", bitwiseOr)\n",
    "cv2.waitKey(0)"
   ]
  },
  {
   "cell_type": "code",
   "execution_count": 49,
   "metadata": {},
   "outputs": [
    {
     "data": {
      "text/plain": [
       "-1"
      ]
     },
     "execution_count": 49,
     "metadata": {},
     "output_type": "execute_result"
    }
   ],
   "source": [
    "bitwiseXor = cv2.bitwise_xor(rectangle, circle)\n",
    "cv2.imshow(\"XOR\", bitwiseXor)\n",
    "cv2.waitKey(0)"
   ]
  },
  {
   "cell_type": "code",
   "execution_count": 50,
   "metadata": {},
   "outputs": [],
   "source": [
    "def bitwise_xor(image,mask):\n",
    "    canvas = np.zeros(image.shape,dtype='uint8')\n",
    "    for i in range(image.shape[0]):\n",
    "        for j in range(image.shape[1]):\n",
    "            if len(image.shape) == 3:\n",
    "                for k in range(image.shape[2]):\n",
    "                    canvas[i,j,k] = image[i,j,k] ^ mask[i,j,k]\n",
    "            canvas[i,j] = image[i,j] ^ mask[i,j]\n",
    "    return canvas"
   ]
  },
  {
   "cell_type": "code",
   "execution_count": 51,
   "metadata": {},
   "outputs": [
    {
     "data": {
      "text/plain": [
       "-1"
      ]
     },
     "execution_count": 51,
     "metadata": {},
     "output_type": "execute_result"
    }
   ],
   "source": [
    "bitwiseXor = bitwise_xor(rectangle, circle)\n",
    "cv2.imshow(\"XOR\", bitwiseXor)\n",
    "cv2.waitKey(0)"
   ]
  },
  {
   "cell_type": "code",
   "execution_count": 52,
   "metadata": {},
   "outputs": [
    {
     "data": {
      "text/plain": [
       "-1"
      ]
     },
     "execution_count": 52,
     "metadata": {},
     "output_type": "execute_result"
    }
   ],
   "source": [
    "bitwiseNot = cv2.bitwise_not(circle)\n",
    "cv2.imshow(\"NOT\", bitwiseNot)\n",
    "cv2.waitKey(0)"
   ]
  },
  {
   "cell_type": "code",
   "execution_count": 53,
   "metadata": {},
   "outputs": [],
   "source": [
    "def bitwise_not(image):\n",
    "    canvas = np.zeros(image.shape,dtype='uint8')\n",
    "    for i in range(image.shape[0]):\n",
    "        for j in range(image.shape[1]):\n",
    "            if len(image.shape) == 3:\n",
    "                for k in range(image.shape[2]):\n",
    "                    canvas[i,j,k] = ~image[i,j,k]\n",
    "            canvas[i,j] = ~image[i,j]\n",
    "    return canvas"
   ]
  },
  {
   "cell_type": "code",
   "execution_count": 54,
   "metadata": {},
   "outputs": [
    {
     "data": {
      "text/plain": [
       "-1"
      ]
     },
     "execution_count": 54,
     "metadata": {},
     "output_type": "execute_result"
    }
   ],
   "source": [
    "bitwiseNot = bitwise_not(circle)\n",
    "cv2.imshow(\"NOT\", bitwiseNot)\n",
    "cv2.waitKey(0)"
   ]
  },
  {
   "cell_type": "code",
   "execution_count": 55,
   "metadata": {},
   "outputs": [],
   "source": [
    "(cX, cY) = (image.shape[1] // 2, image.shape[0] // 2)\n",
    "mask = np.zeros(image.shape[:2], dtype = \"uint8\")\n",
    "circle = cv2.circle(mask, (cX, cY), 100, 255, -1)"
   ]
  },
  {
   "cell_type": "code",
   "execution_count": 56,
   "metadata": {},
   "outputs": [
    {
     "data": {
      "text/plain": [
       "(451, 697)"
      ]
     },
     "execution_count": 56,
     "metadata": {},
     "output_type": "execute_result"
    }
   ],
   "source": [
    "circle.shape"
   ]
  },
  {
   "cell_type": "code",
   "execution_count": 57,
   "metadata": {},
   "outputs": [
    {
     "data": {
      "text/plain": [
       "-1"
      ]
     },
     "execution_count": 57,
     "metadata": {},
     "output_type": "execute_result"
    }
   ],
   "source": [
    "mask = bitwise_and(image,circle)    \n",
    "cv2.imshow(\"mask\", mask)\n",
    "cv2.waitKey(0)"
   ]
  },
  {
   "cell_type": "code",
   "execution_count": 70,
   "metadata": {},
   "outputs": [],
   "source": [
    "\n",
    "(B, G, R) = cv2.split(image)"
   ]
  },
  {
   "cell_type": "code",
   "execution_count": 71,
   "metadata": {},
   "outputs": [
    {
     "data": {
      "text/plain": [
       "-1"
      ]
     },
     "execution_count": 71,
     "metadata": {},
     "output_type": "execute_result"
    }
   ],
   "source": [
    "cv2.imshow(\"Red\", R)\n",
    "cv2.imshow(\"Green\", G)\n",
    "cv2.imshow(\"Blue\", B)\n",
    "cv2.waitKey(0)"
   ]
  },
  {
   "cell_type": "code",
   "execution_count": 8,
   "metadata": {},
   "outputs": [],
   "source": [
    "def splitting_channels(image):\n",
    "    return image[:,:,0],image[:,:,1],image[:,:,2]"
   ]
  },
  {
   "cell_type": "code",
   "execution_count": 72,
   "metadata": {},
   "outputs": [
    {
     "data": {
      "text/plain": [
       "-1"
      ]
     },
     "execution_count": 72,
     "metadata": {},
     "output_type": "execute_result"
    }
   ],
   "source": [
    "(blue,green,red) = splitting_channels(image)\n",
    "cv2.imshow(\"Red\", red)\n",
    "cv2.imshow(\"Green\", green)\n",
    "cv2.imshow(\"Blue\", blue)\n",
    "cv2.waitKey(0)"
   ]
  },
  {
   "cell_type": "code",
   "execution_count": 76,
   "metadata": {},
   "outputs": [
    {
     "data": {
      "text/plain": [
       "-1"
      ]
     },
     "execution_count": 76,
     "metadata": {},
     "output_type": "execute_result"
    }
   ],
   "source": [
    "merged = cv2.merge([B, G, R])\n",
    "cv2.imshow(\"Merged\", merged)\n",
    "cv2.waitKey(0)"
   ]
  },
  {
   "cell_type": "code",
   "execution_count": 15,
   "metadata": {},
   "outputs": [],
   "source": [
    "def merging_channels(r,g,b):\n",
    "    image = np.zeros((r.shape[0],r.shape[1],3),dtype=np.uint8)\n",
    "    image[:,:,0] = r\n",
    "    image[:,:,1] = g\n",
    "    image[:,:,2] = b\n",
    "    return image"
   ]
  },
  {
   "cell_type": "code",
   "execution_count": 75,
   "metadata": {},
   "outputs": [
    {
     "data": {
      "text/plain": [
       "-1"
      ]
     },
     "execution_count": 75,
     "metadata": {},
     "output_type": "execute_result"
    }
   ],
   "source": [
    "cv2.imshow(\"Merged\", merging_channels(red,green,blue))\n",
    "cv2.waitKey(0)"
   ]
  },
  {
   "cell_type": "code",
   "execution_count": 77,
   "metadata": {},
   "outputs": [
    {
     "data": {
      "text/plain": [
       "-1"
      ]
     },
     "execution_count": 77,
     "metadata": {},
     "output_type": "execute_result"
    }
   ],
   "source": [
    "zeros = np.zeros(image.shape[:2], dtype = \"uint8\")\n",
    "cv2.imshow(\"Red\", cv2.merge([zeros, zeros, R]))\n",
    "cv2.imshow(\"Green\", cv2.merge([zeros, G, zeros]))\n",
    "cv2.imshow(\"Blue\", cv2.merge([B, zeros, zeros]))\n",
    "cv2.waitKey(0)"
   ]
  },
  {
   "cell_type": "code",
   "execution_count": 79,
   "metadata": {},
   "outputs": [
    {
     "data": {
      "text/plain": [
       "-1"
      ]
     },
     "execution_count": 79,
     "metadata": {},
     "output_type": "execute_result"
    }
   ],
   "source": [
    "zeros = np.zeros(image.shape[:2], dtype = \"uint8\")\n",
    "cv2.imshow(\"Red\", merging_channels(zeros, zeros, R))\n",
    "cv2.imshow(\"Green\", merging_channels(zeros, G, zeros))\n",
    "cv2.imshow(\"Blue\", merging_channels(B, zeros, zeros))\n",
    "cv2.waitKey(0)"
   ]
  },
  {
   "cell_type": "code",
   "execution_count": 81,
   "metadata": {},
   "outputs": [
    {
     "data": {
      "text/plain": [
       "-1"
      ]
     },
     "execution_count": 81,
     "metadata": {},
     "output_type": "execute_result"
    }
   ],
   "source": [
    "gray = cv2.cvtColor(image, cv2.COLOR_BGR2GRAY)\n",
    "cv2.imshow(\"Gray\", gray)\n",
    "cv2.waitKey(0)"
   ]
  },
  {
   "cell_type": "code",
   "execution_count": 80,
   "metadata": {},
   "outputs": [],
   "source": [
    "def rgb2gray(image):\n",
    "    for i in range(image.shape[0]):\n",
    "        for j in range(image.shape[1]):\n",
    "            image[i][j]=max(image[i][j][0],image[i][j][1],image[i][j][2])\n",
    "    return image"
   ]
  },
  {
   "cell_type": "code",
   "execution_count": 82,
   "metadata": {},
   "outputs": [
    {
     "data": {
      "text/plain": [
       "-1"
      ]
     },
     "execution_count": 82,
     "metadata": {},
     "output_type": "execute_result"
    }
   ],
   "source": [
    "cv2.imshow(\"Gray\", rgb2gray(image))\n",
    "cv2.waitKey(0)"
   ]
  },
  {
   "cell_type": "code",
   "execution_count": 60,
   "metadata": {},
   "outputs": [
    {
     "data": {
      "text/plain": [
       "-1"
      ]
     },
     "execution_count": 60,
     "metadata": {},
     "output_type": "execute_result"
    }
   ],
   "source": [
    "hsv = cv2.cvtColor(image, cv2.COLOR_BGR2HSV)\n",
    "cv2.imshow(\"HSV\", hsv)\n",
    "cv2.waitKey(0)"
   ]
  },
  {
   "cell_type": "code",
   "execution_count": 58,
   "metadata": {},
   "outputs": [],
   "source": [
    "def rgb2hsv(image):\n",
    "    hsv = np.zeros(image.shape,dtype='uint8')\n",
    "    for i in range(image.shape[0]):\n",
    "        for j in range(image.shape[1]):\n",
    "            r = image[i,j,0]\n",
    "            g = image[i,j,1]\n",
    "            b = image[i,j,2]\n",
    "            cmax = max(r,g,b)\n",
    "            cmin = min(r,g,b)\n",
    "            delta = cmax - cmin\n",
    "            if delta == 0:\n",
    "                h = 0\n",
    "            elif cmax == r:\n",
    "                h = 60*(((g-b)/delta)%6)\n",
    "            elif cmax == g:\n",
    "                h = 60*(((g-b)/delta)%2)\n",
    "            else:\n",
    "                h = 60*(((g-b)/delta)%4)\n",
    "            if cmax == 0:\n",
    "                s = 0\n",
    "            else:\n",
    "                s = delta/cmax\n",
    "            v = cmax\n",
    "            hsv[i,j,0] = h\n",
    "            hsv[i,j,1] = s \n",
    "            hsv[i,j,2] = v\n",
    "    return hsv"
   ]
  },
  {
   "cell_type": "code",
   "execution_count": 59,
   "metadata": {},
   "outputs": [
    {
     "data": {
      "text/plain": [
       "-1"
      ]
     },
     "execution_count": 59,
     "metadata": {},
     "output_type": "execute_result"
    }
   ],
   "source": [
    "hsv = rgb2hsv(image)\n",
    "cv2.imshow(\"HSV\", hsv)\n",
    "cv2.waitKey(0)"
   ]
  },
  {
   "cell_type": "code",
   "execution_count": 61,
   "metadata": {},
   "outputs": [],
   "source": [
    "def rgb2lab(image):\n",
    "    lab = np.zeros(image.shape,dtype='float64')\n",
    "    image = image.astype('float64')\n",
    "    # image = image/255\n",
    "    # image = np.where(image>0.04045,((image+0.055)/1.055)**2.4,image/12.92)\n",
    "    # image = image*100\n",
    "    for i in range (image.shape[0]):\n",
    "        for j in range(image.shape[1]):\n",
    "            image[i,j] = image[i,j]/255\n",
    "            x = image[i,j,0]*0.412453 + image[i,j,1]*0.35758 + image[i,j,2]*0.180423\n",
    "            y = image[i,j,0]*0.212671 + image[i,j,1]*0.71516 + image[i,j,2]*0.072169\n",
    "            z = image[i,j,0]*0.019334 + image[i,j,1]*0.119193 + image[i,j,2]*0.950227\n",
    "            x = x/95.047\n",
    "            y = y/100\n",
    "            z = z/108.883\n",
    "            x = np.where(x>0.0085,x**(1/3),(7.787 *x)+16/116)\n",
    "            y = np.where(y>0.0085,y**(1/3),(7.787 *y)+16/116)\n",
    "            z = np.where(z>0.0085,z**(1/3),(7.787 *z)+16/116)\n",
    "            lab[i,j,0] = ((116*y)-16)/10\n",
    "            lab[i,j,1] = (500*(x-y))/10\n",
    "            lab[i,j,2] = (200*(y-z))/5\n",
    "    return lab\n",
    "    "
   ]
  },
  {
   "cell_type": "code",
   "execution_count": 62,
   "metadata": {},
   "outputs": [
    {
     "data": {
      "text/plain": [
       "-1"
      ]
     },
     "execution_count": 62,
     "metadata": {},
     "output_type": "execute_result"
    }
   ],
   "source": [
    "lab = cv2.cvtColor(image, cv2.COLOR_RGB2LAB)\n",
    "cv2.imshow(\"L*a*b*\", lab)\n",
    "cv2.waitKey(0)"
   ]
  },
  {
   "cell_type": "code",
   "execution_count": 63,
   "metadata": {},
   "outputs": [
    {
     "data": {
      "text/plain": [
       "-1"
      ]
     },
     "execution_count": 63,
     "metadata": {},
     "output_type": "execute_result"
    }
   ],
   "source": [
    "cv2.imshow(\"My L*a*b*\", rgb2lab(image))\n",
    "cv2.waitKey(0)"
   ]
  }
 ],
 "metadata": {
  "kernelspec": {
   "display_name": "Python 3.8.8 ('base')",
   "language": "python",
   "name": "python3"
  },
  "language_info": {
   "codemirror_mode": {
    "name": "ipython",
    "version": 3
   },
   "file_extension": ".py",
   "mimetype": "text/x-python",
   "name": "python",
   "nbconvert_exporter": "python",
   "pygments_lexer": "ipython3",
   "version": "3.8.8"
  },
  "orig_nbformat": 4,
  "vscode": {
   "interpreter": {
    "hash": "2bd0b42b829204acf5b3731beff29f3b7390cdc93c786e6d920a9f1f7d2639f7"
   }
  }
 },
 "nbformat": 4,
 "nbformat_minor": 2
}
