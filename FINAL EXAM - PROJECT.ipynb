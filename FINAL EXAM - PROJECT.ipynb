{
 "cells": [
  {
   "cell_type": "code",
   "execution_count": 218,
   "metadata": {},
   "outputs": [],
   "source": [
    "import numpy as np # linear algebra\n",
    "import pandas as pd # data processing, CSV file I/O (e.g. pd.read_csv)\n",
    "from sklearn import datasets\n",
    "from sklearn.model_selection import train_test_split\n",
    "from sklearn.neighbors import KNeighborsClassifier\n",
    "import seaborn as sns\n",
    "sns.set()\n",
    "import matplotlib.pyplot as plt\n",
    "import os\n",
    "import warnings\n",
    "warnings.filterwarnings(\"ignore\")"
   ]
  },
  {
   "cell_type": "code",
   "execution_count": 219,
   "metadata": {},
   "outputs": [],
   "source": [
    "wine = datasets.load_wine()"
   ]
  },
  {
   "cell_type": "code",
   "execution_count": 220,
   "metadata": {},
   "outputs": [],
   "source": [
    "X = wine.data"
   ]
  },
  {
   "cell_type": "code",
   "execution_count": 221,
   "metadata": {},
   "outputs": [],
   "source": [
    "data_wine = pd.DataFrame(X,columns=wine.feature_names)"
   ]
  },
  {
   "cell_type": "code",
   "execution_count": 222,
   "metadata": {},
   "outputs": [
    {
     "data": {
      "text/html": [
       "<div>\n",
       "<style scoped>\n",
       "    .dataframe tbody tr th:only-of-type {\n",
       "        vertical-align: middle;\n",
       "    }\n",
       "\n",
       "    .dataframe tbody tr th {\n",
       "        vertical-align: top;\n",
       "    }\n",
       "\n",
       "    .dataframe thead th {\n",
       "        text-align: right;\n",
       "    }\n",
       "</style>\n",
       "<table border=\"1\" class=\"dataframe\">\n",
       "  <thead>\n",
       "    <tr style=\"text-align: right;\">\n",
       "      <th></th>\n",
       "      <th>alcohol</th>\n",
       "      <th>malic_acid</th>\n",
       "      <th>ash</th>\n",
       "      <th>alcalinity_of_ash</th>\n",
       "      <th>magnesium</th>\n",
       "      <th>total_phenols</th>\n",
       "      <th>flavanoids</th>\n",
       "      <th>nonflavanoid_phenols</th>\n",
       "      <th>proanthocyanins</th>\n",
       "      <th>color_intensity</th>\n",
       "      <th>hue</th>\n",
       "      <th>od280/od315_of_diluted_wines</th>\n",
       "      <th>proline</th>\n",
       "    </tr>\n",
       "  </thead>\n",
       "  <tbody>\n",
       "    <tr>\n",
       "      <th>0</th>\n",
       "      <td>14.23</td>\n",
       "      <td>1.71</td>\n",
       "      <td>2.43</td>\n",
       "      <td>15.6</td>\n",
       "      <td>127.0</td>\n",
       "      <td>2.80</td>\n",
       "      <td>3.06</td>\n",
       "      <td>0.28</td>\n",
       "      <td>2.29</td>\n",
       "      <td>5.64</td>\n",
       "      <td>1.04</td>\n",
       "      <td>3.92</td>\n",
       "      <td>1065.0</td>\n",
       "    </tr>\n",
       "    <tr>\n",
       "      <th>1</th>\n",
       "      <td>13.20</td>\n",
       "      <td>1.78</td>\n",
       "      <td>2.14</td>\n",
       "      <td>11.2</td>\n",
       "      <td>100.0</td>\n",
       "      <td>2.65</td>\n",
       "      <td>2.76</td>\n",
       "      <td>0.26</td>\n",
       "      <td>1.28</td>\n",
       "      <td>4.38</td>\n",
       "      <td>1.05</td>\n",
       "      <td>3.40</td>\n",
       "      <td>1050.0</td>\n",
       "    </tr>\n",
       "    <tr>\n",
       "      <th>2</th>\n",
       "      <td>13.16</td>\n",
       "      <td>2.36</td>\n",
       "      <td>2.67</td>\n",
       "      <td>18.6</td>\n",
       "      <td>101.0</td>\n",
       "      <td>2.80</td>\n",
       "      <td>3.24</td>\n",
       "      <td>0.30</td>\n",
       "      <td>2.81</td>\n",
       "      <td>5.68</td>\n",
       "      <td>1.03</td>\n",
       "      <td>3.17</td>\n",
       "      <td>1185.0</td>\n",
       "    </tr>\n",
       "    <tr>\n",
       "      <th>3</th>\n",
       "      <td>14.37</td>\n",
       "      <td>1.95</td>\n",
       "      <td>2.50</td>\n",
       "      <td>16.8</td>\n",
       "      <td>113.0</td>\n",
       "      <td>3.85</td>\n",
       "      <td>3.49</td>\n",
       "      <td>0.24</td>\n",
       "      <td>2.18</td>\n",
       "      <td>7.80</td>\n",
       "      <td>0.86</td>\n",
       "      <td>3.45</td>\n",
       "      <td>1480.0</td>\n",
       "    </tr>\n",
       "    <tr>\n",
       "      <th>4</th>\n",
       "      <td>13.24</td>\n",
       "      <td>2.59</td>\n",
       "      <td>2.87</td>\n",
       "      <td>21.0</td>\n",
       "      <td>118.0</td>\n",
       "      <td>2.80</td>\n",
       "      <td>2.69</td>\n",
       "      <td>0.39</td>\n",
       "      <td>1.82</td>\n",
       "      <td>4.32</td>\n",
       "      <td>1.04</td>\n",
       "      <td>2.93</td>\n",
       "      <td>735.0</td>\n",
       "    </tr>\n",
       "    <tr>\n",
       "      <th>...</th>\n",
       "      <td>...</td>\n",
       "      <td>...</td>\n",
       "      <td>...</td>\n",
       "      <td>...</td>\n",
       "      <td>...</td>\n",
       "      <td>...</td>\n",
       "      <td>...</td>\n",
       "      <td>...</td>\n",
       "      <td>...</td>\n",
       "      <td>...</td>\n",
       "      <td>...</td>\n",
       "      <td>...</td>\n",
       "      <td>...</td>\n",
       "    </tr>\n",
       "    <tr>\n",
       "      <th>173</th>\n",
       "      <td>13.71</td>\n",
       "      <td>5.65</td>\n",
       "      <td>2.45</td>\n",
       "      <td>20.5</td>\n",
       "      <td>95.0</td>\n",
       "      <td>1.68</td>\n",
       "      <td>0.61</td>\n",
       "      <td>0.52</td>\n",
       "      <td>1.06</td>\n",
       "      <td>7.70</td>\n",
       "      <td>0.64</td>\n",
       "      <td>1.74</td>\n",
       "      <td>740.0</td>\n",
       "    </tr>\n",
       "    <tr>\n",
       "      <th>174</th>\n",
       "      <td>13.40</td>\n",
       "      <td>3.91</td>\n",
       "      <td>2.48</td>\n",
       "      <td>23.0</td>\n",
       "      <td>102.0</td>\n",
       "      <td>1.80</td>\n",
       "      <td>0.75</td>\n",
       "      <td>0.43</td>\n",
       "      <td>1.41</td>\n",
       "      <td>7.30</td>\n",
       "      <td>0.70</td>\n",
       "      <td>1.56</td>\n",
       "      <td>750.0</td>\n",
       "    </tr>\n",
       "    <tr>\n",
       "      <th>175</th>\n",
       "      <td>13.27</td>\n",
       "      <td>4.28</td>\n",
       "      <td>2.26</td>\n",
       "      <td>20.0</td>\n",
       "      <td>120.0</td>\n",
       "      <td>1.59</td>\n",
       "      <td>0.69</td>\n",
       "      <td>0.43</td>\n",
       "      <td>1.35</td>\n",
       "      <td>10.20</td>\n",
       "      <td>0.59</td>\n",
       "      <td>1.56</td>\n",
       "      <td>835.0</td>\n",
       "    </tr>\n",
       "    <tr>\n",
       "      <th>176</th>\n",
       "      <td>13.17</td>\n",
       "      <td>2.59</td>\n",
       "      <td>2.37</td>\n",
       "      <td>20.0</td>\n",
       "      <td>120.0</td>\n",
       "      <td>1.65</td>\n",
       "      <td>0.68</td>\n",
       "      <td>0.53</td>\n",
       "      <td>1.46</td>\n",
       "      <td>9.30</td>\n",
       "      <td>0.60</td>\n",
       "      <td>1.62</td>\n",
       "      <td>840.0</td>\n",
       "    </tr>\n",
       "    <tr>\n",
       "      <th>177</th>\n",
       "      <td>14.13</td>\n",
       "      <td>4.10</td>\n",
       "      <td>2.74</td>\n",
       "      <td>24.5</td>\n",
       "      <td>96.0</td>\n",
       "      <td>2.05</td>\n",
       "      <td>0.76</td>\n",
       "      <td>0.56</td>\n",
       "      <td>1.35</td>\n",
       "      <td>9.20</td>\n",
       "      <td>0.61</td>\n",
       "      <td>1.60</td>\n",
       "      <td>560.0</td>\n",
       "    </tr>\n",
       "  </tbody>\n",
       "</table>\n",
       "<p>178 rows × 13 columns</p>\n",
       "</div>"
      ],
      "text/plain": [
       "     alcohol  malic_acid   ash  alcalinity_of_ash  magnesium  total_phenols  \\\n",
       "0      14.23        1.71  2.43               15.6      127.0           2.80   \n",
       "1      13.20        1.78  2.14               11.2      100.0           2.65   \n",
       "2      13.16        2.36  2.67               18.6      101.0           2.80   \n",
       "3      14.37        1.95  2.50               16.8      113.0           3.85   \n",
       "4      13.24        2.59  2.87               21.0      118.0           2.80   \n",
       "..       ...         ...   ...                ...        ...            ...   \n",
       "173    13.71        5.65  2.45               20.5       95.0           1.68   \n",
       "174    13.40        3.91  2.48               23.0      102.0           1.80   \n",
       "175    13.27        4.28  2.26               20.0      120.0           1.59   \n",
       "176    13.17        2.59  2.37               20.0      120.0           1.65   \n",
       "177    14.13        4.10  2.74               24.5       96.0           2.05   \n",
       "\n",
       "     flavanoids  nonflavanoid_phenols  proanthocyanins  color_intensity   hue  \\\n",
       "0          3.06                  0.28             2.29             5.64  1.04   \n",
       "1          2.76                  0.26             1.28             4.38  1.05   \n",
       "2          3.24                  0.30             2.81             5.68  1.03   \n",
       "3          3.49                  0.24             2.18             7.80  0.86   \n",
       "4          2.69                  0.39             1.82             4.32  1.04   \n",
       "..          ...                   ...              ...              ...   ...   \n",
       "173        0.61                  0.52             1.06             7.70  0.64   \n",
       "174        0.75                  0.43             1.41             7.30  0.70   \n",
       "175        0.69                  0.43             1.35            10.20  0.59   \n",
       "176        0.68                  0.53             1.46             9.30  0.60   \n",
       "177        0.76                  0.56             1.35             9.20  0.61   \n",
       "\n",
       "     od280/od315_of_diluted_wines  proline  \n",
       "0                            3.92   1065.0  \n",
       "1                            3.40   1050.0  \n",
       "2                            3.17   1185.0  \n",
       "3                            3.45   1480.0  \n",
       "4                            2.93    735.0  \n",
       "..                            ...      ...  \n",
       "173                          1.74    740.0  \n",
       "174                          1.56    750.0  \n",
       "175                          1.56    835.0  \n",
       "176                          1.62    840.0  \n",
       "177                          1.60    560.0  \n",
       "\n",
       "[178 rows x 13 columns]"
      ]
     },
     "execution_count": 222,
     "metadata": {},
     "output_type": "execute_result"
    }
   ],
   "source": [
    "data_wine"
   ]
  },
  {
   "cell_type": "markdown",
   "metadata": {},
   "source": [
    "# PCA (Principal component analysis)"
   ]
  },
  {
   "cell_type": "code",
   "execution_count": 223,
   "metadata": {},
   "outputs": [],
   "source": [
    "def PCA(X,component_k):\n",
    "    N, M = X.shape\n",
    "    cov = np.zeros((M, M))\n",
    "\n",
    "    for i in range(M):\n",
    "        mean_i = np.sum(X[:, i]) / N\n",
    "        for j in range(M):\n",
    "            mean_j = np.sum(X[:, j]) / N\n",
    "            cov[i, j] = np.sum((X[:, i] - mean_i) * (X[:, j] - mean_j)) / (N - 1)\n",
    "     \n",
    "    eigen_values , eigen_vectors = np.linalg.eigh(cov)\n",
    "     \n",
    "    sorted_index = np.argsort(eigen_values)[::-1]\n",
    "    sorted_eigenvalue = eigen_values[sorted_index]\n",
    "    sorted_eigenvectors = eigen_vectors[:,sorted_index]\n",
    "     \n",
    "    eigenvector_subset = sorted_eigenvectors[:,0:component_k]\n",
    "     \n",
    "    X_reduced = np.dot(eigenvector_subset.transpose() , X.transpose() ).transpose()\n",
    "     \n",
    "    return X_reduced,sorted_eigenvalue,sorted_eigenvectors"
   ]
  },
  {
   "cell_type": "code",
   "execution_count": 224,
   "metadata": {},
   "outputs": [],
   "source": [
    "X_reduce,eig_val,eig_vector = PCA(X,2)\n",
    "#Creating a Pandas DataFrame of reduced Dataset\n",
    "principal_df = pd.DataFrame(X_reduce , columns = ['PC1','PC2'])"
   ]
  },
  {
   "cell_type": "code",
   "execution_count": 225,
   "metadata": {},
   "outputs": [
    {
     "data": {
      "image/png": "[encoded data removed]",
      "text/plain": [
       "<Figure size 720x720 with 1 Axes>"
      ]
     },
     "metadata": {},
     "output_type": "display_data"
    }
   ],
   "source": [
    "plt.figure(figsize = (10,10))\n",
    "sns.scatterplot(data = principal_df , x = 'PC1',y = 'PC2' , s = 60 , palette= 'icefire')\n",
    "plt.show()"
   ]
  },
  {
   "cell_type": "code",
   "execution_count": 226,
   "metadata": {},
   "outputs": [],
   "source": [
    "principal_df_true = principal_df.copy()\n",
    "principal_df_true['Label'] = wine.target\n"
   ]
  },
  {
   "cell_type": "code",
   "execution_count": 227,
   "metadata": {},
   "outputs": [
    {
     "data": {
      "image/png": "[encoded data removed]",
      "text/plain": [
       "<Figure size 720x720 with 1 Axes>"
      ]
     },
     "metadata": {},
     "output_type": "display_data"
    }
   ],
   "source": [
    "plt.figure(figsize = (10,10))\n",
    "sns.scatterplot(data = principal_df_true , x = 'PC1',y = 'PC2' , s = 60, hue = 'Label' , palette= 'flare')\n",
    "plt.show()"
   ]
  },
  {
   "cell_type": "code",
   "execution_count": 228,
   "metadata": {},
   "outputs": [],
   "source": [
    "X_reduce,eig_val,eig_vector = PCA(X,3)\n",
    "#Creating a Pandas DataFrame of reduced Dataset\n",
    "principal_df_3d = pd.DataFrame(X_reduce , columns = ['PC1','PC2','PC3'])\n",
    "principal_df_3d['Label'] = wine.target\n"
   ]
  },
  {
   "cell_type": "code",
   "execution_count": 229,
   "metadata": {},
   "outputs": [],
   "source": [
    "import plotly_express as px "
   ]
  },
  {
   "cell_type": "code",
   "execution_count": 230,
   "metadata": {},
   "outputs": [
    {
     "data": {
      "application/vnd.plotly.v1+json": {
       "config": {
        "plotlyServerURL": "https://plot.ly"
       },
       "data": [
        {
         "hovertemplate": "PC1=%{x}<br>PC2=%{y}<br>PC3=%{z}<br>Label=%{marker.color}<extra></extra>",
         "legendgroup": "",
         "marker": {
          "color": [
           0,
           0,
           0,
           0,
           0,
           0,
           0,
           0,
           0,
           0,
           0,
           0,
           0,
           0,
           0,
           0,
           0,
           0,
           0,
           0,
           0,
           0,
           0,
           0,
           0,
           0,
           0,
           0,
           0,
           0,
           0,
           0,
           0,
           0,
           0,
           0,
           0,
           0,
           0,
           0,
           0,
           0,
           0,
           0,
           0,
           0,
           0,
           0,
           0,
           0,
           0,
           0,
           0,
           0,
           0,
           0,
           0,
           0,
           0,
           1,
           1,
           1,
           1,
           1,
           1,
           1,
           1,
           1,
           1,
           1,
           1,
           1,
           1,
           1,
           1,
           1,
           1,
           1,
           1,
           1,
           1,
           1,
           1,
           1,
           1,
           1,
           1,
           1,
           1,
           1,
           1,
           1,
           1,
           1,
           1,
           1,
           1,
           1,
           1,
           1,
           1,
           1,
           1,
           1,
           1,
           1,
           1,
           1,
           1,
           1,
           1,
           1,
           1,
           1,
           1,
           1,
           1,
           1,
           1,
           1,
           1,
           1,
           1,
           1,
           1,
           1,
           1,
           1,
           1,
           1,
           2,
           2,
           2,
           2,
           2,
           2,
           2,
           2,
           2,
           2,
           2,
           2,
           2,
           2,
           2,
           2,
           2,
           2,
           2,
           2,
           2,
           2,
           2,
           2,
           2,
           2,
           2,
           2,
           2,
           2,
           2,
           2,
           2,
           2,
           2,
           2,
           2,
           2,
           2,
           2,
           2,
           2,
           2,
           2,
           2,
           2,
           2,
           2
          ],
          "coloraxis": "coloraxis",
          "symbol": "circle"
         },
         "mode": "markers",
         "name": "",
         "scene": "scene",
         "showlegend": false,
         "type": "scatter3d",
         "x": [
          1067.0556874907404,
          1051.5901278621902,
          1186.55384112004,
          1481.7328475536153,
          736.9212797068981,
          1451.7238999405258,
          1291.4642890693965,
          1296.8945680432407,
          1046.5295710034156,
          1046.5422613382718,
          1511.5724201440505,
          1281.4359359348018,
          1321.3271185939682,
          1151.4180664889009,
          1548.5461020597756,
          1311.7382862016211,
          1281.8723588387163,
          1131.8102992800789,
          1681.6110957024096,
          846.895885678764,
          782.0863022046576,
          771.639145743075,
          1036.5857384202084,
          1016.4742207377952,
          846.5125939755819,
          831.9914521641457,
          1196.4183044251463,
          1286.411873224181,
          916.7031758074534,
          1036.5009552840684,
          1286.5191603049943,
          1516.5856470581905,
          991.6434591046954,
          1237.0939882480395,
          1096.7237151996233,
          921.5726656289002,
          881.7791317493953,
          1106.5112673780702,
          1021.5371397242075,
          762.1357103161693,
          796.9223504527338,
          1036.3768003717948,
          1096.5880563832507,
          681.6780528167011,
          886.7197180862458,
          1081.7475140319702,
          1066.6045566694427,
          986.6041932815264,
          1061.6126235906436,
          1261.6804562240318,
          1151.4317253617774,
          1266.4216714682752,
          1191.7591194977367,
          1376.7787791879166,
          1061.8903208784361,
          1121.8259994251837,
          971.9098145607543,
          1271.5655595994197,
          1286.674805525747,
          521.460017750307,
          681.6425862055546,
          451.6682713113882,
          631.5222356209458,
          421.4335826076523,
          356.74022176675373,
          679.5869477601088,
          503.2801842257246,
          511.25129791028684,
          751.7888641937838,
          720.5265874722644,
          871.6228465113666,
          411.3885857147904,
          473.39668232311607,
          987.2094647516648,
          887.5867648427616,
          429.6163793004742,
          393.43245568866655,
          501.8591107508879,
          752.2643978583366,
          464.6504605580375,
          279.43335789353716,
          715.3613689566474,
          631.2023161929966,
          516.3597198186807,
          521.5394087826852,
          451.6405564684179,
          496.44631627436326,
          563.3838508293109,
          681.311956358329,
          626.0613818015987,
          481.30737499976,
          451.38829352751736,
          496.2788231310334,
          291.47049326060704,
          346.64143411280776,
          939.6761049753105,
          627.2135304490622,
          429.4044353981178,
          661.4124156415053,
          407.4518080354548,
          711.5610936518054,
          563.4189947087245,
          439.6103215903078,
          416.4034118199029,
          673.3395704507773,
          316.4829662799501,
          511.2860111155468,
          489.3443404690075,
          313.53492809042257,
          681.5020124326741,
          563.7562696774766,
          326.4498345779246,
          608.6740450414901,
          435.43176003990664,
          386.3630750891971,
          408.377701988558,
          496.38323614170434,
          346.7967347210365,
          373.3216158363375,
          565.3947790208935,
          626.5474668543594,
          466.9581390830712,
          366.6659299685401,
          381.40332815680966,
          381.33553350619155,
          379.3891072361823,
          353.41387174586293,
          467.46233949370253,
          343.431420399918,
          581.255066385128,
          632.0197078437482,
          531.7081682246962,
          561.5775962372019,
          601.7231785779416,
          651.3597346048773,
          696.5106613356203,
          721.3947774529505,
          516.541174132183,
          581.4164624382798,
          591.6246636599461,
          601.5462186222525,
          781.3970009516995,
          521.566498517139,
          551.4883607087841,
          856.8053855060637,
          831.6109708152858,
          416.2968682127149,
          626.3666161149695,
          651.4733189347303,
          551.867901598753,
          502.0435089709623,
          481.8639201531025,
          426.9219672676229,
          676.595049496578,
          641.6760904015313,
          726.4724514042749,
          481.4609758972277,
          881.4925494549933,
          661.5787096120232,
          621.4314185516392,
          521.4238724510692,
          681.7372770264265,
          571.7276097776868,
          676.7243102704019,
          616.444459842369,
          521.4148636495435,
          696.8032017429593,
          686.4076970784998,
          751.6754728562967,
          631.8178901533512,
          511.5715002609661,
          471.4091299467645,
          661.4653055714303,
          741.5124972447753,
          751.6243128815591,
          836.9507818889334,
          841.948950056913,
          561.5495179296945
         ],
         "y": [
          -108.51625428742895,
          -81.65940586982498,
          -80.48681410344886,
          -87.21685258496109,
          -105.51411816124927,
          -86.69196487863569,
          -73.50515691129209,
          -98.47355593644743,
          -78.84396571748067,
          -79.92258061532723,
          -78.68980632659022,
          -72.73648978241758,
          -66.01910922281786,
          -70.92148833429184,
          -74.90567636129968,
          -89.23895221697522,
          -97.8289257865514,
          -95.50154337045186,
          -78.66964511314559,
          -101.41678296619125,
          -112.5920800506415,
          -88.84159663915405,
          -83.06108180322394,
          -77.45341953948312,
          -81.52827749070052,
          -109.9157451028483,
          -72.22679230212964,
          -71.63577748786541,
          -91.27943451603859,
          -78.06439200387324,
          -78.81138473195074,
          -79.64422617824897,
          -86.88020862527415,
          -110.58944859612957,
          -91.06220370188716,
          -84.23120190311207,
          -94.7968531282384,
          -78.86613943476492,
          -80.29904924513009,
          -114.87095570063812,
          -103.34607331341115,
          -72.13900501767178,
          -81.9806974644334,
          -91.40895347119853,
          -91.75481191269301,
          -92.34345471113743,
          -83.53717861377201,
          -83.97260255159503,
          -84.71876038930131,
          -86.16036431767341,
          -71.9708207040823,
          -72.02656866434249,
          -90.28462559696227,
          -91.06526893368485,
          -99.6330370677712,
          -96.68832217920435,
          -101.24101596462594,
          -79.92749829697604,
          -85.66734342478732,
          -79.02915558375457,
          -89.34399008911157,
          -92.49259925089886,
          -83.29774012973382,
          -80.07599274474681,
          -98.19580180911183,
          -86.46550301576475,
          -69.53048425346847,
          -69.49309800197098,
          -97.11993515354197,
          -138.65424873881543,
          -88.08395806743964,
          -79.40026843071314,
          -79.27097142108809,
          -122.27595092112249,
          -85.81664735415293,
          -89.83489468521432,
          -79.49342172105928,
          -103.58256020344739,
          -123.0552159159225,
          -93.38598435774713,
          -81.56519957380148,
          -73.83701859567257,
          -67.445511084897,
          -76.49402029324091,
          -85.24806476133249,
          -91.47692664156831,
          -81.81150596478396,
          -78.70554152887958,
          -72.49943333444486,
          -59.52008485439758,
          -72.97023346686642,
          -78.6090919383378,
          -71.77255330760585,
          -83.32678562611187,
          -92.35552376868837,
          -145.8178859324508,
          -123.44163844220601,
          -77.83104535759314,
          -76.79755086376298,
          -81.27355796631008,
          -84.85370762484294,
          -78.50360453430116,
          -90.77578010506203,
          -79.14039479944937,
          -73.61029560807808,
          -84.99117681913943,
          -71.4621556199855,
          -75.94530720516555,
          -86.96459752336499,
          -82.45266591247842,
          -97.54058671345425,
          -82.77920161112647,
          -92.75967562718584,
          -80.8570295418481,
          -77.76482815496759,
          -78.33438912324624,
          -77.74825340602628,
          -102.45001382059557,
          -73.83907329907427,
          -77.4705792333402,
          -85.43522927481071,
          -111.53238473943553,
          -96.2132333082946,
          -79.8359076626326,
          -75.82780333122766,
          -78.8483186410985,
          -80.34429167951444,
          -84.48826348517116,
          -82.57304988325973,
          -70.29293782783017,
          -111.29014361268646,
          -95.15457310911388,
          -88.7341809085665,
          -95.94445766645111,
          -73.96583972600808,
          -82.21183045604457,
          -76.79412732892685,
          -87.55903096271291,
          -78.2674004418576,
          -91.18728604094429,
          -85.92739458868566,
          -75.71875791748128,
          -88.41240191977,
          -82.79569485735972,
          -97.37545399668473,
          -87.83099324791802,
          -73.21082466042378,
          -75.55419769325184,
          -81.1176809775654,
          -103.8972374777392,
          -114.83421893242249,
          -104.17435555041817,
          -109.18846365008991,
          -86.62446715316959,
          -92.23024661797768,
          -80.79468429804808,
          -81.10103440887909,
          -82.15641811334459,
          -87.10375933004246,
          -78.73270671169443,
          -79.40549325345413,
          -95.49441345032409,
          -96.49731355490569,
          -94.53476139414668,
          -79.76909324082735,
          -79.43074424900205,
          -99.38220852748674,
          -76.47010825708736,
          -92.41548505446487,
          -101.55749390004304,
          -87.48716055044214,
          -78.28379164491871,
          -79.9195278043072,
          -82.48298698373024,
          -89.35931406421726,
          -105.80040811124506,
          -105.69494267631433,
          -86.81079274976723
         ],
         "z": [
          -17.17137474306403,
          -13.47927395260835,
          -21.415332429244163,
          -21.219366463492374,
          -20.856531524330304,
          -19.352734113562875,
          -18.17516661858564,
          -20.261617027647247,
          -16.421134276740236,
          -18.743654120970984,
          -22.188399822545705,
          -20.171774208294053,
          -19.929494588946252,
          -14.626969584641518,
          -17.255579540831864,
          -20.82762043244747,
          -22.778636791889525,
          -22.29185446058529,
          -22.235022207195552,
          -16.19836328630939,
          -16.268523298185823,
          -19.41494860696003,
          -18.248395639356147,
          -19.54369761629265,
          -20.689407108667112,
          -24.580945974461507,
          -19.08227499638246,
          -20.137417118534305,
          -20.405493855687272,
          -18.14061124221377,
          -25.470505727084866,
          -23.53207186100553,
          -18.62130671985655,
          -21.473735865473547,
          -20.749784443081914,
          -21.811901432063475,
          -16.582843372405293,
          -20.22890884241038,
          -17.26731707705569,
          -13.661558721767202,
          -16.94089932079775,
          -21.109045976200374,
          -17.463141078848,
          -17.93556646781046,
          -18.10894360581355,
          -21.085867577030804,
          -18.308252067871656,
          -18.074782303696175,
          -21.15801297468952,
          -21.266002214378794,
          -16.049428905479868,
          -20.597542925059724,
          -17.076774580563907,
          -20.66004097540851,
          -18.297410083714258,
          -22.594155199536935,
          -17.91424440968741,
          -20.17282107870616,
          -20.071130936959655,
          -10.3549781101093,
          -16.175210115229845,
          -16.6403542263326,
          -18.08211060637667,
          -18.216401419355392,
          -17.27736480915311,
          -18.407040225926604,
          -15.308873515596407,
          -19.646095220551558,
          -17.084317193493312,
          -15.302648166677795,
          -21.11313233067666,
          -23.63768570750798,
          -23.23328668549555,
          -29.307185185035404,
          -21.50036412621086,
          -15.294787897232274,
          -15.500158072780197,
          -16.861950044255746,
          -14.170234713294052,
          -21.61097221320093,
          -17.100794586056306,
          -19.407889544207194,
          -23.699306075380502,
          -22.732218557992766,
          -17.21151356855227,
          -16.656654439780432,
          -21.754420279054848,
          -25.118040741463506,
          -21.773596477381055,
          -23.382495409425694,
          -17.958559032322302,
          -21.274824899796158,
          -20.3126694215076,
          -16.28282453321819,
          -16.45838964212881,
          -17.93329790410536,
          -19.97893841491727,
          -15.17062381333571,
          -18.7624020274964,
          -16.821920470652525,
          -17.71179986605265,
          -18.051132741758444,
          -19.656373697943035,
          -18.260810979488113,
          -20.57155005787089,
          -20.31508799992329,
          -18.754862834015764,
          -21.902082293613034,
          -17.207056968719012,
          -19.65310075600229,
          -18.599218585768256,
          -19.22230626436862,
          -19.76808025874665,
          -19.872525709194015,
          -21.141153794563728,
          -19.956178877670723,
          -19.74440370601137,
          -20.054253259861728,
          -15.692654756365547,
          -18.3936262845228,
          -19.646474018343685,
          -26.787155317814378,
          -24.435451494357363,
          -20.52076447451486,
          -19.936600576637264,
          -19.662260728685226,
          -20.240214890804122,
          -27.088034747789187,
          -22.5093248110614,
          -22.038988584830992,
          -17.512859945702697,
          -20.062182637670944,
          -24.158255971974175,
          -21.666590747140837,
          -18.626251730018403,
          -20.141379325483435,
          -22.139765283835306,
          -25.13360256055208,
          -20.47948707314466,
          -24.005186034292315,
          -21.311711983955306,
          -21.64348642306142,
          -23.265063122868668,
          -20.424983489567566,
          -20.783194877634497,
          -22.09895241721984,
          -20.473045284879042,
          -23.302753158504153,
          -23.28493574143289,
          -22.556009079187827,
          -24.05285873840688,
          -22.985228711015182,
          -24.72645223540166,
          -21.009862610425554,
          -21.035403465149212,
          -24.166942271151992,
          -21.00539390552018,
          -29.055907860318925,
          -27.473423123039677,
          -24.879390335445695,
          -22.157194881606834,
          -20.851245983125253,
          -22.14498237211881,
          -19.28988359661166,
          -23.965437547339796,
          -23.40611574508985,
          -25.045722095042283,
          -22.244245491087618,
          -26.15934913857592,
          -26.057065950065773,
          -19.331915704753495,
          -21.141803066252418,
          -22.262625269780937,
          -22.776816309470586,
          -24.612040057572603,
          -22.539685957324625,
          -22.090500969834128,
          -25.932619286653427
         ]
        }
       ],
       "layout": {
        "coloraxis": {
         "colorbar": {
          "title": {
           "text": "Label"
          }
         },
         "colorscale": [
          [
           0,
           "#0d0887"
          ],
          [
           0.1111111111111111,
           "#46039f"
          ],
          [
           0.2222222222222222,
           "#7201a8"
          ],
          [
           0.3333333333333333,
           "#9c179e"
          ],
          [
           0.4444444444444444,
           "#bd3786"
          ],
          [
           0.5555555555555556,
           "#d8576b"
          ],
          [
           0.6666666666666666,
           "#ed7953"
          ],
          [
           0.7777777777777778,
           "#fb9f3a"
          ],
          [
           0.8888888888888888,
           "#fdca26"
          ],
          [
           1,
           "#f0f921"
          ]
         ]
        },
        "legend": {
         "tracegroupgap": 0
        },
        "margin": {
         "t": 60
        },
        "scene": {
         "domain": {
          "x": [
           0,
           1
          ],
          "y": [
           0,
           1
          ]
         },
         "xaxis": {
          "title": {
           "text": "PC1"
          }
         },
         "yaxis": {
          "title": {
           "text": "PC2"
          }
         },
         "zaxis": {
          "title": {
           "text": "PC3"
          }
         }
        },
        "template": {
         "data": {
          "bar": [
           {
            "error_x": {
             "color": "#2a3f5f"
            },
            "error_y": {
             "color": "#2a3f5f"
            },
            "marker": {
             "line": {
              "color": "#E5ECF6",
              "width": 0.5
             },
             "pattern": {
              "fillmode": "overlay",
              "size": 10,
              "solidity": 0.2
             }
            },
            "type": "bar"
           }
          ],
          "barpolar": [
           {
            "marker": {
             "line": {
              "color": "#E5ECF6",
              "width": 0.5
             },
             "pattern": {
              "fillmode": "overlay",
              "size": 10,
              "solidity": 0.2
             }
            },
            "type": "barpolar"
           }
          ],
          "carpet": [
           {
            "aaxis": {
             "endlinecolor": "#2a3f5f",
             "gridcolor": "white",
             "linecolor": "white",
             "minorgridcolor": "white",
             "startlinecolor": "#2a3f5f"
            },
            "baxis": {
             "endlinecolor": "#2a3f5f",
             "gridcolor": "white",
             "linecolor": "white",
             "minorgridcolor": "white",
             "startlinecolor": "#2a3f5f"
            },
            "type": "carpet"
           }
          ],
          "choropleth": [
           {
            "colorbar": {
             "outlinewidth": 0,
             "ticks": ""
            },
            "type": "choropleth"
           }
          ],
          "contour": [
           {
            "colorbar": {
             "outlinewidth": 0,
             "ticks": ""
            },
            "colorscale": [
             [
              0,
              "#0d0887"
             ],
             [
              0.1111111111111111,
              "#46039f"
             ],
             [
              0.2222222222222222,
              "#7201a8"
             ],
             [
              0.3333333333333333,
              "#9c179e"
             ],
             [
              0.4444444444444444,
              "#bd3786"
             ],
             [
              0.5555555555555556,
              "#d8576b"
             ],
             [
              0.6666666666666666,
              "#ed7953"
             ],
             [
              0.7777777777777778,
              "#fb9f3a"
             ],
             [
              0.8888888888888888,
              "#fdca26"
             ],
             [
              1,
              "#f0f921"
             ]
            ],
            "type": "contour"
           }
          ],
          "contourcarpet": [
           {
            "colorbar": {
             "outlinewidth": 0,
             "ticks": ""
            },
            "type": "contourcarpet"
           }
          ],
          "heatmap": [
           {
            "colorbar": {
             "outlinewidth": 0,
             "ticks": ""
            },
            "colorscale": [
             [
              0,
              "#0d0887"
             ],
             [
              0.1111111111111111,
              "#46039f"
             ],
             [
              0.2222222222222222,
              "#7201a8"
             ],
             [
              0.3333333333333333,
              "#9c179e"
             ],
             [
              0.4444444444444444,
              "#bd3786"
             ],
             [
              0.5555555555555556,
              "#d8576b"
             ],
             [
              0.6666666666666666,
              "#ed7953"
             ],
             [
              0.7777777777777778,
              "#fb9f3a"
             ],
             [
              0.8888888888888888,
              "#fdca26"
             ],
             [
              1,
              "#f0f921"
             ]
            ],
            "type": "heatmap"
           }
          ],
          "heatmapgl": [
           {
            "colorbar": {
             "outlinewidth": 0,
             "ticks": ""
            },
            "colorscale": [
             [
              0,
              "#0d0887"
             ],
             [
              0.1111111111111111,
              "#46039f"
             ],
             [
              0.2222222222222222,
              "#7201a8"
             ],
             [
              0.3333333333333333,
              "#9c179e"
             ],
             [
              0.4444444444444444,
              "#bd3786"
             ],
             [
              0.5555555555555556,
              "#d8576b"
             ],
             [
              0.6666666666666666,
              "#ed7953"
             ],
             [
              0.7777777777777778,
              "#fb9f3a"
             ],
             [
              0.8888888888888888,
              "#fdca26"
             ],
             [
              1,
              "#f0f921"
             ]
            ],
            "type": "heatmapgl"
           }
          ],
          "histogram": [
           {
            "marker": {
             "pattern": {
              "fillmode": "overlay",
              "size": 10,
              "solidity": 0.2
             }
            },
            "type": "histogram"
           }
          ],
          "histogram2d": [
           {
            "colorbar": {
             "outlinewidth": 0,
             "ticks": ""
            },
            "colorscale": [
             [
              0,
              "#0d0887"
             ],
             [
              0.1111111111111111,
              "#46039f"
             ],
             [
              0.2222222222222222,
              "#7201a8"
             ],
             [
              0.3333333333333333,
              "#9c179e"
             ],
             [
              0.4444444444444444,
              "#bd3786"
             ],
             [
              0.5555555555555556,
              "#d8576b"
             ],
             [
              0.6666666666666666,
              "#ed7953"
             ],
             [
              0.7777777777777778,
              "#fb9f3a"
             ],
             [
              0.8888888888888888,
              "#fdca26"
             ],
             [
              1,
              "#f0f921"
             ]
            ],
            "type": "histogram2d"
           }
          ],
          "histogram2dcontour": [
           {
            "colorbar": {
             "outlinewidth": 0,
             "ticks": ""
            },
            "colorscale": [
             [
              0,
              "#0d0887"
             ],
             [
              0.1111111111111111,
              "#46039f"
             ],
             [
              0.2222222222222222,
              "#7201a8"
             ],
             [
              0.3333333333333333,
              "#9c179e"
             ],
             [
              0.4444444444444444,
              "#bd3786"
             ],
             [
              0.5555555555555556,
              "#d8576b"
             ],
             [
              0.6666666666666666,
              "#ed7953"
             ],
             [
              0.7777777777777778,
              "#fb9f3a"
             ],
             [
              0.8888888888888888,
              "#fdca26"
             ],
             [
              1,
              "#f0f921"
             ]
            ],
            "type": "histogram2dcontour"
           }
          ],
          "mesh3d": [
           {
            "colorbar": {
             "outlinewidth": 0,
             "ticks": ""
            },
            "type": "mesh3d"
           }
          ],
          "parcoords": [
           {
            "line": {
             "colorbar": {
              "outlinewidth": 0,
              "ticks": ""
             }
            },
            "type": "parcoords"
           }
          ],
          "pie": [
           {
            "automargin": true,
            "type": "pie"
           }
          ],
          "scatter": [
           {
            "marker": {
             "colorbar": {
              "outlinewidth": 0,
              "ticks": ""
             }
            },
            "type": "scatter"
           }
          ],
          "scatter3d": [
           {
            "line": {
             "colorbar": {
              "outlinewidth": 0,
              "ticks": ""
             }
            },
            "marker": {
             "colorbar": {
              "outlinewidth": 0,
              "ticks": ""
             }
            },
            "type": "scatter3d"
           }
          ],
          "scattercarpet": [
           {
            "marker": {
             "colorbar": {
              "outlinewidth": 0,
              "ticks": ""
             }
            },
            "type": "scattercarpet"
           }
          ],
          "scattergeo": [
           {
            "marker": {
             "colorbar": {
              "outlinewidth": 0,
              "ticks": ""
             }
            },
            "type": "scattergeo"
           }
          ],
          "scattergl": [
           {
            "marker": {
             "colorbar": {
              "outlinewidth": 0,
              "ticks": ""
             }
            },
            "type": "scattergl"
           }
          ],
          "scattermapbox": [
           {
            "marker": {
             "colorbar": {
              "outlinewidth": 0,
              "ticks": ""
             }
            },
            "type": "scattermapbox"
           }
          ],
          "scatterpolar": [
           {
            "marker": {
             "colorbar": {
              "outlinewidth": 0,
              "ticks": ""
             }
            },
            "type": "scatterpolar"
           }
          ],
          "scatterpolargl": [
           {
            "marker": {
             "colorbar": {
              "outlinewidth": 0,
              "ticks": ""
             }
            },
            "type": "scatterpolargl"
           }
          ],
          "scatterternary": [
           {
            "marker": {
             "colorbar": {
              "outlinewidth": 0,
              "ticks": ""
             }
            },
            "type": "scatterternary"
           }
          ],
          "surface": [
           {
            "colorbar": {
             "outlinewidth": 0,
             "ticks": ""
            },
            "colorscale": [
             [
              0,
              "#0d0887"
             ],
             [
              0.1111111111111111,
              "#46039f"
             ],
             [
              0.2222222222222222,
              "#7201a8"
             ],
             [
              0.3333333333333333,
              "#9c179e"
             ],
             [
              0.4444444444444444,
              "#bd3786"
             ],
             [
              0.5555555555555556,
              "#d8576b"
             ],
             [
              0.6666666666666666,
              "#ed7953"
             ],
             [
              0.7777777777777778,
              "#fb9f3a"
             ],
             [
              0.8888888888888888,
              "#fdca26"
             ],
             [
              1,
              "#f0f921"
             ]
            ],
            "type": "surface"
           }
          ],
          "table": [
           {
            "cells": {
             "fill": {
              "color": "#EBF0F8"
             },
             "line": {
              "color": "white"
             }
            },
            "header": {
             "fill": {
              "color": "#C8D4E3"
             },
             "line": {
              "color": "white"
             }
            },
            "type": "table"
           }
          ]
         },
         "layout": {
          "annotationdefaults": {
           "arrowcolor": "#2a3f5f",
           "arrowhead": 0,
           "arrowwidth": 1
          },
          "autotypenumbers": "strict",
          "coloraxis": {
           "colorbar": {
            "outlinewidth": 0,
            "ticks": ""
           }
          },
          "colorscale": {
           "diverging": [
            [
             0,
             "#8e0152"
            ],
            [
             0.1,
             "#c51b7d"
            ],
            [
             0.2,
             "#de77ae"
            ],
            [
             0.3,
             "#f1b6da"
            ],
            [
             0.4,
             "#fde0ef"
            ],
            [
             0.5,
             "#f7f7f7"
            ],
            [
             0.6,
             "#e6f5d0"
            ],
            [
             0.7,
             "#b8e186"
            ],
            [
             0.8,
             "#7fbc41"
            ],
            [
             0.9,
             "#4d9221"
            ],
            [
             1,
             "#276419"
            ]
           ],
           "sequential": [
            [
             0,
             "#0d0887"
            ],
            [
             0.1111111111111111,
             "#46039f"
            ],
            [
             0.2222222222222222,
             "#7201a8"
            ],
            [
             0.3333333333333333,
             "#9c179e"
            ],
            [
             0.4444444444444444,
             "#bd3786"
            ],
            [
             0.5555555555555556,
             "#d8576b"
            ],
            [
             0.6666666666666666,
             "#ed7953"
            ],
            [
             0.7777777777777778,
             "#fb9f3a"
            ],
            [
             0.8888888888888888,
             "#fdca26"
            ],
            [
             1,
             "#f0f921"
            ]
           ],
           "sequentialminus": [
            [
             0,
             "#0d0887"
            ],
            [
             0.1111111111111111,
             "#46039f"
            ],
            [
             0.2222222222222222,
             "#7201a8"
            ],
            [
             0.3333333333333333,
             "#9c179e"
            ],
            [
             0.4444444444444444,
             "#bd3786"
            ],
            [
             0.5555555555555556,
             "#d8576b"
            ],
            [
             0.6666666666666666,
             "#ed7953"
            ],
            [
             0.7777777777777778,
             "#fb9f3a"
            ],
            [
             0.8888888888888888,
             "#fdca26"
            ],
            [
             1,
             "#f0f921"
            ]
           ]
          },
          "colorway": [
           "#636efa",
           "#EF553B",
           "#00cc96",
           "#ab63fa",
           "#FFA15A",
           "#19d3f3",
           "#FF6692",
           "#B6E880",
           "#FF97FF",
           "#FECB52"
          ],
          "font": {
           "color": "#2a3f5f"
          },
          "geo": {
           "bgcolor": "white",
           "lakecolor": "white",
           "landcolor": "#E5ECF6",
           "showlakes": true,
           "showland": true,
           "subunitcolor": "white"
          },
          "hoverlabel": {
           "align": "left"
          },
          "hovermode": "closest",
          "mapbox": {
           "style": "light"
          },
          "paper_bgcolor": "white",
          "plot_bgcolor": "#E5ECF6",
          "polar": {
           "angularaxis": {
            "gridcolor": "white",
            "linecolor": "white",
            "ticks": ""
           },
           "bgcolor": "#E5ECF6",
           "radialaxis": {
            "gridcolor": "white",
            "linecolor": "white",
            "ticks": ""
           }
          },
          "scene": {
           "xaxis": {
            "backgroundcolor": "#E5ECF6",
            "gridcolor": "white",
            "gridwidth": 2,
            "linecolor": "white",
            "showbackground": true,
            "ticks": "",
            "zerolinecolor": "white"
           },
           "yaxis": {
            "backgroundcolor": "#E5ECF6",
            "gridcolor": "white",
            "gridwidth": 2,
            "linecolor": "white",
            "showbackground": true,
            "ticks": "",
            "zerolinecolor": "white"
           },
           "zaxis": {
            "backgroundcolor": "#E5ECF6",
            "gridcolor": "white",
            "gridwidth": 2,
            "linecolor": "white",
            "showbackground": true,
            "ticks": "",
            "zerolinecolor": "white"
           }
          },
          "shapedefaults": {
           "line": {
            "color": "#2a3f5f"
           }
          },
          "ternary": {
           "aaxis": {
            "gridcolor": "white",
            "linecolor": "white",
            "ticks": ""
           },
           "baxis": {
            "gridcolor": "white",
            "linecolor": "white",
            "ticks": ""
           },
           "bgcolor": "#E5ECF6",
           "caxis": {
            "gridcolor": "white",
            "linecolor": "white",
            "ticks": ""
           }
          },
          "title": {
           "x": 0.05
          },
          "xaxis": {
           "automargin": true,
           "gridcolor": "white",
           "linecolor": "white",
           "ticks": "",
           "title": {
            "standoff": 15
           },
           "zerolinecolor": "white",
           "zerolinewidth": 2
          },
          "yaxis": {
           "automargin": true,
           "gridcolor": "white",
           "linecolor": "white",
           "ticks": "",
           "title": {
            "standoff": 15
           },
           "zerolinecolor": "white",
           "zerolinewidth": 2
          }
         }
        }
       }
      }
     },
     "metadata": {},
     "output_type": "display_data"
    }
   ],
   "source": [
    "px.scatter_3d(principal_df_3d, x=\"PC1\", y=\"PC2\", z=\"PC3\", \n",
    "              color=\"Label\", color_discrete_map = {\"Joly\": \"blue\", \"Bergeron\": \"violet\", \"Coderre\":\"Red\"})"
   ]
  },
  {
   "cell_type": "code",
   "execution_count": 231,
   "metadata": {},
   "outputs": [
    {
     "name": "stdout",
     "output_type": "stream",
     "text": [
      "Explained variance ratio\n",
      " [0.9980912304918974, 0.0017359156247057478, 9.495895755145971e-05, 5.021735618215006e-05, 1.236368468785794e-05, 8.462130335193645e-06, 2.806814557231145e-06, 1.5230805328563145e-06, 1.1278304393016913e-06, 7.214158108199469e-07, 3.780602665124951e-07, 2.120137546072288e-07, 8.25392788092964e-08]\n",
      "\n",
      "cumulative explained variance\n",
      " [0.99809123 0.99982715 0.99992211 0.99997232 0.99998469 0.99999315\n",
      " 0.99999596 0.99999748 0.99999861 0.99999933 0.99999971 0.99999992\n",
      " 1.        ]\n",
      "\n"
     ]
    },
    {
     "data": {
      "image/png": "[encoded data removed]",
      "text/plain": [
       "<Figure size 720x720 with 1 Axes>"
      ]
     },
     "metadata": {},
     "output_type": "display_data"
    }
   ],
   "source": [
    "tot = sum(eig_val)\n",
    "var_exp = [(i / tot) for i in eig_val]\n",
    "print('Explained variance ratio\\n',var_exp)\n",
    "print()\n",
    "cum_var_exp = np.cumsum(var_exp)\n",
    "print('cumulative explained variance\\n',cum_var_exp)\n",
    "print()\n",
    "plt.figure(figsize = (10,10))\n",
    "plt.bar(range(1,14), var_exp, alpha=0.9, align='center',label='individual explained variance')\n",
    "plt.step(range(1,14), cum_var_exp, where='mid',label='cumulative explained variance')\n",
    "plt.ylabel('Explained variance ratio')\n",
    "plt.xlabel('Principal component index')\n",
    "plt.legend(loc='best')\n",
    "plt.show()"
   ]
  },
  {
   "cell_type": "code",
   "execution_count": 232,
   "metadata": {},
   "outputs": [],
   "source": [
    "from scipy.spatial.distance import pdist, squareform"
   ]
  },
  {
   "cell_type": "code",
   "execution_count": 233,
   "metadata": {},
   "outputs": [],
   "source": [
    "iris = datasets.load_iris()"
   ]
  },
  {
   "cell_type": "code",
   "execution_count": 234,
   "metadata": {},
   "outputs": [
    {
     "data": {
      "text/plain": [
       "array([0.29, 0.26, 0.42, ..., 0.38, 0.41, 0.59])"
      ]
     },
     "execution_count": 234,
     "metadata": {},
     "output_type": "execute_result"
    }
   ],
   "source": [
    "sq_dists = pdist(iris.data, 'sqeuclidean')\n",
    "sq_dists"
   ]
  },
  {
   "cell_type": "code",
   "execution_count": 235,
   "metadata": {},
   "outputs": [
    {
     "data": {
      "text/plain": [
       "array([[ 0.  ,  0.29,  0.26, ..., 19.89, 21.63, 17.14],\n",
       "       [ 0.29,  0.  ,  0.09, ..., 20.24, 22.26, 17.25],\n",
       "       [ 0.26,  0.09,  0.  , ..., 21.73, 23.51, 18.48],\n",
       "       ...,\n",
       "       [19.89, 20.24, 21.73, ...,  0.  ,  0.38,  0.41],\n",
       "       [21.63, 22.26, 23.51, ...,  0.38,  0.  ,  0.59],\n",
       "       [17.14, 17.25, 18.48, ...,  0.41,  0.59,  0.  ]])"
      ]
     },
     "execution_count": 235,
     "metadata": {},
     "output_type": "execute_result"
    }
   ],
   "source": [
    "mat_sq_dists = squareform(sq_dists)\n",
    "mat_sq_dists"
   ]
  },
  {
   "cell_type": "markdown",
   "metadata": {},
   "source": [
    "# Kernel PCA"
   ]
  },
  {
   "cell_type": "code",
   "execution_count": 236,
   "metadata": {},
   "outputs": [],
   "source": [
    "def rbf_kernel_pca(X, gamma, n_components):\n",
    "    sq_dists = pdist(X, 'sqeuclidean')\n",
    "    mat_sq_dists = squareform(sq_dists)\n",
    "    K = np.exp(-gamma * mat_sq_dists)\n",
    "    N = K.shape[0]\n",
    "    one_n = np.ones((N,N)) / N\n",
    "    K = K - one_n.dot(K) - K.dot(one_n) + one_n.dot(K).dot(one_n)\n",
    "    eigvals, eigvecs = np.linalg.eigh(K)\n",
    "    eigvals, eigvecs = eigvals[::-1], eigvecs[:, ::-1]\n",
    "    X_pc = np.column_stack((eigvecs[:, i] for i in range(n_components)))\n",
    "    return X_pc"
   ]
  },
  {
   "cell_type": "code",
   "execution_count": 237,
   "metadata": {},
   "outputs": [
    {
     "data": {
      "image/png": "[encoded data removed]",
      "text/plain": [
       "<Figure size 720x720 with 1 Axes>"
      ]
     },
     "metadata": {},
     "output_type": "display_data"
    }
   ],
   "source": [
    "X_reduce = rbf_kernel_pca(X, 0.000000025, 2)\n",
    "principal_df = pd.DataFrame(X_reduce , columns = ['PC1','PC2'])\n",
    "principal_df['Label'] = wine.target\n",
    "\n",
    "plt.figure(figsize = (10,10))\n",
    "sns.scatterplot(data = principal_df , x = 'PC1',y = 'PC2' , s = 60 ,hue = 'Label' ,palette= 'flare')\n",
    "plt.show()"
   ]
  },
  {
   "cell_type": "code",
   "execution_count": 238,
   "metadata": {},
   "outputs": [
    {
     "data": {
      "application/vnd.plotly.v1+json": {
       "config": {
        "plotlyServerURL": "https://plot.ly"
       },
       "data": [
        {
         "hovertemplate": "PC1=%{x}<br>PC2=%{y}<br>PC3=%{z}<br>Label=%{marker.color}<extra></extra>",
         "legendgroup": "",
         "marker": {
          "color": [
           0,
           0,
           0,
           0,
           0,
           0,
           0,
           0,
           0,
           0,
           0,
           0,
           0,
           0,
           0,
           0,
           0,
           0,
           0,
           0,
           0,
           0,
           0,
           0,
           0,
           0,
           0,
           0,
           0,
           0,
           0,
           0,
           0,
           0,
           0,
           0,
           0,
           0,
           0,
           0,
           0,
           0,
           0,
           0,
           0,
           0,
           0,
           0,
           0,
           0,
           0,
           0,
           0,
           0,
           0,
           0,
           0,
           0,
           0,
           1,
           1,
           1,
           1,
           1,
           1,
           1,
           1,
           1,
           1,
           1,
           1,
           1,
           1,
           1,
           1,
           1,
           1,
           1,
           1,
           1,
           1,
           1,
           1,
           1,
           1,
           1,
           1,
           1,
           1,
           1,
           1,
           1,
           1,
           1,
           1,
           1,
           1,
           1,
           1,
           1,
           1,
           1,
           1,
           1,
           1,
           1,
           1,
           1,
           1,
           1,
           1,
           1,
           1,
           1,
           1,
           1,
           1,
           1,
           1,
           1,
           1,
           1,
           1,
           1,
           1,
           1,
           1,
           1,
           1,
           1,
           2,
           2,
           2,
           2,
           2,
           2,
           2,
           2,
           2,
           2,
           2,
           2,
           2,
           2,
           2,
           2,
           2,
           2,
           2,
           2,
           2,
           2,
           2,
           2,
           2,
           2,
           2,
           2,
           2,
           2,
           2,
           2,
           2,
           2,
           2,
           2,
           2,
           2,
           2,
           2,
           2,
           2,
           2,
           2,
           2,
           2,
           2,
           2
          ],
          "coloraxis": "coloraxis",
          "symbol": "circle"
         },
         "mode": "markers",
         "name": "",
         "scene": "scene",
         "showlegend": false,
         "type": "scatter3d",
         "x": [
          0.07632396959550947,
          0.07262312108099911,
          0.10485644656110706,
          0.17451169532731756,
          -0.002843065952526227,
          0.16750169282419736,
          0.12977301463998475,
          0.13105844195769298,
          0.07141161510871542,
          0.07141467205322656,
          0.18146266775019645,
          0.12739772407986297,
          0.13683638899276465,
          0.0964810764520776,
          0.19004723923136677,
          0.13457060687118425,
          0.12750107694418739,
          0.09180205086231014,
          0.22066033172686997,
          0.02353611846527756,
          0.00798661388542994,
          0.00548037370727465,
          0.06903065905531382,
          0.06421315512372955,
          0.0234439667493986,
          0.01995956843339626,
          0.1072050048915552,
          0.12857639976219987,
          0.04028826545112165,
          0.06901029059394286,
          0.12860208148214886,
          0.1826285447930585,
          0.05826243586266731,
          0.11687682453960657,
          0.08342007854592057,
          0.04145662849272141,
          0.03190757917215985,
          0.08575934527792306,
          0.06542616216812411,
          0.0032021717442612123,
          0.011545165281459525,
          0.0689804092135018,
          0.08338766062828477,
          -0.016076218652312797,
          0.03309322619417933,
          0.07983911788684804,
          0.07621659916146016,
          0.05705438492957219,
          0.07502204810706486,
          0.12271460923840993,
          0.09648439336158834,
          0.12383874655765359,
          0.10609601031533022,
          0.14991536480625506,
          0.07508831134366555,
          0.08941791297882251,
          0.05353109402162051,
          0.1250587536913525,
          0.12863913441499797,
          -0.05431778771928061,
          -0.01608473285181716,
          -0.07088548766123766,
          -0.028073058051509395,
          -0.07804141066761362,
          -0.09330178770804456,
          -0.01657684684647677,
          -0.058639561792047185,
          -0.05674516237113641,
          0.000720676542408251,
          -0.006769435064117645,
          0.02947014997539543,
          -0.08041556635349055,
          -0.06573484317556204,
          0.05719856176598485,
          0.03330126656801055,
          -0.0761060064161865,
          -0.0846554740172567,
          -0.05897665426585484,
          0.0008358093742167765,
          -0.0678087691582856,
          -0.11143882186413148,
          -0.008009953283619576,
          -0.028149214777280444,
          -0.055530905200540256,
          -0.054299122335393225,
          -0.07089211600558559,
          -0.060263532963497325,
          -0.04433606330349573,
          -0.01616389370714624,
          -0.029377303374217387,
          -0.06385770078775864,
          -0.0709520698074222,
          -0.06030307500772784,
          -0.1086226384351339,
          -0.09567789172949175,
          0.04579869242716023,
          -0.029100223922576274,
          -0.07615621682497603,
          -0.020925902160786346,
          -0.08134563017684034,
          -0.008920377234408278,
          -0.044327725711154516,
          -0.0737410530810672,
          -0.07923051418148189,
          -0.018072033570816225,
          -0.1027614719638944,
          -0.05673700759613421,
          -0.061950025653744634,
          -0.10345286277611766,
          -0.016118475455458494,
          -0.04424692855838241,
          -0.10042249230193057,
          -0.03353115534779741,
          -0.07473022041759994,
          -0.08632330281365004,
          -0.0811268979709431,
          -0.06027846634308899,
          -0.09564049720955671,
          -0.089397538210441,
          -0.043856782541038475,
          -0.029261873025869294,
          -0.06725976053635421,
          -0.090965142084242,
          -0.08749290654837547,
          -0.08750878664295293,
          -0.08796778449102338,
          -0.09408522034271795,
          -0.06714220815644031,
          -0.09643292849719017,
          -0.040074866205884546,
          -0.027952925396125417,
          -0.051879577724932145,
          -0.044766524397060074,
          -0.03519060100022039,
          -0.023330366047120292,
          -0.012525137431878594,
          -0.0065644287306162175,
          -0.055487732202425206,
          -0.040036591077511736,
          -0.03760103635439927,
          -0.03523313253651617,
          0.007820641350383515,
          -0.05429263487637216,
          -0.047170457405605326,
          0.025914180198531575,
          0.01986798519726275,
          -0.07925547293262078,
          -0.02930504407708558,
          -0.023303275148536976,
          -0.04707914148453461,
          -0.058931527728710444,
          -0.06372469240298051,
          -0.07674167328945646,
          -0.017292922790320277,
          -0.025645792586961744,
          -0.005347726075784822,
          -0.06382141488109905,
          0.031838693623162766,
          -0.02088602413174292,
          -0.030484183694148514,
          -0.054326611275702597,
          -0.016061944025563435,
          -0.0423467996914806,
          -0.01726184095509033,
          -0.03167552739634259,
          -0.0543287501747395,
          -0.012454714862659663,
          -0.014944091974625564,
          0.000693378538052769,
          -0.02800182199282651,
          -0.05666933733504575,
          -0.06620621792454782,
          -0.020913261200372825,
          -0.0017430775968271784,
          0.0006810577083600902,
          0.02114956690884958,
          0.02234898990372393,
          -0.04477320979760848
         ],
         "y": [
          0.06747097542468754,
          0.049252170779643924,
          0.001939839514836894,
          -0.17932169603302128,
          0.08050985906953557,
          -0.15548361008028524,
          -0.05693589287288019,
          -0.03936418444381391,
          0.04818601677890778,
          0.04913104121085764,
          -0.21174474626435547,
          -0.051862639937252784,
          -0.08100756664994119,
          0.008354734763221086,
          -0.24781057951748595,
          -0.05575179215375264,
          -0.03126310821645481,
          0.03624185435379785,
          -0.3778961076674479,
          0.08856938716419956,
          0.09301520336108171,
          0.07214079144551398,
          0.05401225283234478,
          0.053725869362732805,
          0.07195867992601998,
          0.09491755151557987,
          -0.009334569188632874,
          -0.05563165243260987,
          0.0787655452102669,
          0.04991773655944896,
          -0.0497212851743889,
          -0.21527713391274234,
          0.06622915044446907,
          0.003112236475341346,
          0.0443512705691474,
          0.07257573552160344,
          0.08322526779740956,
          0.031068451450303042,
          0.05505082206392917,
          0.09230889999828956,
          0.08700750299796088,
          0.0450121537047703,
          0.03681660534225748,
          0.05691574273610101,
          0.08056916549081598,
          0.050030885110531095,
          0.04691784220676753,
          0.06467835808137262,
          0.04928530286006205,
          -0.02973628361887481,
          0.009310930855374253,
          -0.04417759429965648,
          0.007817410927520177,
          -0.09637786691291461,
          0.06157423761623866,
          0.04076010602065284,
          0.08128858961351237,
          -0.040376890023081785,
          -0.04407533791912225,
          -0.011611204757961357,
          0.055188698700955496,
          -0.03647314528055749,
          0.03568773703002192,
          -0.06466499540973565,
          -0.09159292176091402,
          0.05222059582907374,
          -0.028365633853340094,
          -0.024425529109673015,
          0.07610439077105685,
          0.10440535245834755,
          0.07782093517301635,
          -0.0713862366920911,
          -0.03558143795468135,
          0.09605355251569432,
          0.0755438073932029,
          -0.051551098364779856,
          -0.08253403559827553,
          -0.0007401938039465338,
          0.09744614649970325,
          -0.028684079298415568,
          -0.16279898868235818,
          0.04998818700604446,
          0.022236756305845394,
          -0.015996587560575693,
          -0.006456426461863128,
          -0.037522948383173944,
          -0.021520968948164944,
          0.0066680382677106334,
          0.04099317732563011,
          0.013862603667080963,
          -0.0366758641013254,
          -0.04824010109017948,
          -0.029929126559718033,
          -0.15186724342695634,
          -0.10349400205356697,
          0.1214266906889748,
          0.06735658679658783,
          -0.06175863389238064,
          0.03917273364209183,
          -0.07230132482175242,
          0.058391578696475065,
          0.0065446596451722,
          -0.044972869699711086,
          -0.06849007525494448,
          0.03982565483029661,
          -0.13139075559041455,
          -0.022791917887447007,
          -0.02998252109999668,
          -0.1320210711124415,
          0.049250785978997895,
          0.02243420979848359,
          -0.12592425166626242,
          0.035838702440910745,
          -0.05565376087942341,
          -0.088631920594816,
          -0.07417549333520597,
          -0.024974853799065954,
          -0.09510793786433012,
          -0.10036517482386897,
          0.0064616145290362186,
          0.03575071292501127,
          -0.012553786127682294,
          -0.0864337312145172,
          -0.09009626998246091,
          -0.0935480984564045,
          -0.09232088124833039,
          -0.10869282522471618,
          -0.03451530422714563,
          -0.11388989251156756,
          0.006901080204558775,
          0.05905349587790868,
          0.006733111739012354,
          0.01448982536224241,
          0.03611674616983101,
          0.034146442758509775,
          0.0530934734499473,
          0.053905588127009345,
          -0.006612554956839211,
          0.01383706116806844,
          0.02842456865440514,
          0.02773628318049667,
          0.06256172926827189,
          -0.0035771382746255824,
          0.005272321561666615,
          0.08572613167523911,
          0.07683693095151833,
          -0.07317627733324736,
          0.027833611148576836,
          0.04031588660143669,
          0.023063154889086963,
          0.008835822048071611,
          -0.01014694980091254,
          -0.037080854207545866,
          0.051969350788679945,
          0.04653633128024829,
          0.0583950325556337,
          -0.02945462062916268,
          0.0729575710271315,
          0.04828527433062705,
          0.02888198809547958,
          -0.011025322327898981,
          0.060500647402907524,
          0.025104150595941944,
          0.058394074038315445,
          0.02806198395030236,
          -0.010993628903513655,
          0.06756349149911695,
          0.0460027366280074,
          0.07246304652268637,
          0.051217686830964795,
          -0.009077934122039815,
          -0.03712510127587679,
          0.04224329115305373,
          0.06256661503463863,
          0.06990033178683672,
          0.09221417307766498,
          0.09224637245618474,
          0.013049539620532244
         ],
         "z": [
          -0.10558686964218754,
          0.05206319154008833,
          0.04089187698803781,
          -0.07040901473573735,
          -0.08247593906838628,
          -0.05800568749713011,
          0.06064358914353561,
          -0.08496220802019062,
          0.06894474501501266,
          0.06272850784580483,
          -0.0313093260637252,
          0.06732582022546518,
          0.09692467640785904,
          0.10194809326961907,
          -0.02241360138253222,
          -0.03489071677346662,
          -0.07790645671398183,
          -0.03775563884369443,
          -0.0958410314746061,
          -0.05410623352649975,
          -0.12113786359126533,
          0.016809033304820448,
          0.04528816269218895,
          0.07961460803461345,
          0.06165135272319498,
          -0.10393647694319343,
          0.08704513044442233,
          0.07255440449630735,
          0.004401805141114816,
          0.07440189087712382,
          0.03103357701967048,
          -0.0384373339001063,
          0.026591905320990764,
          -0.14269965051302605,
          -0.007472035993578939,
          0.04532437999873825,
          -0.015486393052218847,
          0.06214571721271336,
          0.0626553317298406,
          -0.13540180362773366,
          -0.0666118912153756,
          0.10888331425474373,
          0.045266357200526956,
          -0.0048959165702100425,
          0.0021693426456468007,
          -0.013083801687898114,
          0.03966135920793053,
          0.04386642095532857,
          0.033363127154184984,
          -0.006014404678051575,
          0.09594948016293767,
          0.07465545074060591,
          -0.016784555562006236,
          -0.06173867874319362,
          -0.053370638064582386,
          -0.04329027259066897,
          -0.05572072488566105,
          0.02786975879238272,
          -0.008627528852823002,
          0.0445028360551059,
          0.007123472682312218,
          -0.04766199862180866,
          0.036703259261131854,
          0.017399765072243,
          -0.10399119012413623,
          0.02363373968950205,
          0.09626896682338534,
          0.09808242394321794,
          -0.03257101134532009,
          -0.2769523403308961,
          0.023706029369510627,
          0.018932036058740553,
          0.03372451853187248,
          -0.17920794177947957,
          0.036676595681380916,
          -0.037266143661394,
          0.01407787077911417,
          -0.10195681944739435,
          -0.18376817751363048,
          -0.05023935970295867,
          -0.029892177668223604,
          0.10040014579001208,
          0.1288515599973263,
          0.058467801841444414,
          0.008284478359035804,
          -0.041972061722413655,
          0.0235636292218699,
          0.053601088617792475,
          0.10512728324337553,
          0.17427960001752688,
          0.07192824830612952,
          0.032861902008174425,
          0.0819393114838561,
          -0.03640058761795623,
          -0.07287003682515757,
          -0.3140968401660439,
          -0.19769344092896304,
          0.03228550544561037,
          0.07793439989176276,
          0.007063522636133648,
          0.03593250027536113,
          0.0547974096037537,
          -0.04053468493509126,
          0.021656580046682583,
          0.09782311801623256,
          -0.038582171573534704,
          0.08660695391243761,
          0.05630591804717569,
          -0.050942668131337694,
          0.04707121581624689,
          -0.0559924176937856,
          -0.022967371848012806,
          -0.021368587587235376,
          0.016128438056505205,
          0.02224679323799192,
          0.02434819454407127,
          0.04713005793205438,
          -0.1314177097763765,
          0.041819724976198194,
          0.06108631863987849,
          0.023529370397089983,
          -0.1553141118118148,
          -0.08985572940191172,
          0.009031133606370789,
          0.03219171862921147,
          0.014163017256536849,
          -0.0013590225535450992,
          0.0020978862019054635,
          -0.01704054407339628,
          0.10541562248390354,
          -0.12620850680052084,
          -0.04724351813297819,
          -0.004807540232570918,
          -0.04073315648400264,
          0.09354759796758662,
          0.050302921676874925,
          0.08389023815664276,
          -0.00574607020481208,
          0.059255771115274976,
          -0.014494447584299233,
          0.01755202150459283,
          0.09388117908854714,
          -0.009852278650994363,
          0.02807554553187983,
          -0.030162752099830673,
          0.02494052548581793,
          0.056400601143398635,
          0.08144504514124822,
          0.052103498964126485,
          -0.09448877600437154,
          -0.1671060513683752,
          -0.10896745068603753,
          -0.15017826111954038,
          0.022833650836447908,
          -0.013826897908166356,
          0.061145708244347126,
          0.025094749046434297,
          0.058410600136232595,
          0.01847273231935893,
          0.06235136729042236,
          0.042621164102657975,
          -0.028490047529389613,
          -0.048366077499331916,
          -0.023424373146559364,
          0.05566191875190979,
          0.04249066119472845,
          -0.04952029146238521,
          0.0829455981630501,
          -0.004855257250262116,
          -0.0692617645541666,
          -0.00628298767120469,
          0.03941324558336981,
          0.060248557525395784,
          0.052393878000521164,
          0.012922866605425999,
          -0.07937531426617005,
          -0.07876408587196196,
          0.006567730924248678
         ]
        }
       ],
       "layout": {
        "coloraxis": {
         "colorbar": {
          "title": {
           "text": "Label"
          }
         },
         "colorscale": [
          [
           0,
           "#0d0887"
          ],
          [
           0.1111111111111111,
           "#46039f"
          ],
          [
           0.2222222222222222,
           "#7201a8"
          ],
          [
           0.3333333333333333,
           "#9c179e"
          ],
          [
           0.4444444444444444,
           "#bd3786"
          ],
          [
           0.5555555555555556,
           "#d8576b"
          ],
          [
           0.6666666666666666,
           "#ed7953"
          ],
          [
           0.7777777777777778,
           "#fb9f3a"
          ],
          [
           0.8888888888888888,
           "#fdca26"
          ],
          [
           1,
           "#f0f921"
          ]
         ]
        },
        "legend": {
         "tracegroupgap": 0
        },
        "margin": {
         "t": 60
        },
        "scene": {
         "domain": {
          "x": [
           0,
           1
          ],
          "y": [
           0,
           1
          ]
         },
         "xaxis": {
          "title": {
           "text": "PC1"
          }
         },
         "yaxis": {
          "title": {
           "text": "PC2"
          }
         },
         "zaxis": {
          "title": {
           "text": "PC3"
          }
         }
        },
        "template": {
         "data": {
          "bar": [
           {
            "error_x": {
             "color": "#2a3f5f"
            },
            "error_y": {
             "color": "#2a3f5f"
            },
            "marker": {
             "line": {
              "color": "#E5ECF6",
              "width": 0.5
             },
             "pattern": {
              "fillmode": "overlay",
              "size": 10,
              "solidity": 0.2
             }
            },
            "type": "bar"
           }
          ],
          "barpolar": [
           {
            "marker": {
             "line": {
              "color": "#E5ECF6",
              "width": 0.5
             },
             "pattern": {
              "fillmode": "overlay",
              "size": 10,
              "solidity": 0.2
             }
            },
            "type": "barpolar"
           }
          ],
          "carpet": [
           {
            "aaxis": {
             "endlinecolor": "#2a3f5f",
             "gridcolor": "white",
             "linecolor": "white",
             "minorgridcolor": "white",
             "startlinecolor": "#2a3f5f"
            },
            "baxis": {
             "endlinecolor": "#2a3f5f",
             "gridcolor": "white",
             "linecolor": "white",
             "minorgridcolor": "white",
             "startlinecolor": "#2a3f5f"
            },
            "type": "carpet"
           }
          ],
          "choropleth": [
           {
            "colorbar": {
             "outlinewidth": 0,
             "ticks": ""
            },
            "type": "choropleth"
           }
          ],
          "contour": [
           {
            "colorbar": {
             "outlinewidth": 0,
             "ticks": ""
            },
            "colorscale": [
             [
              0,
              "#0d0887"
             ],
             [
              0.1111111111111111,
              "#46039f"
             ],
             [
              0.2222222222222222,
              "#7201a8"
             ],
             [
              0.3333333333333333,
              "#9c179e"
             ],
             [
              0.4444444444444444,
              "#bd3786"
             ],
             [
              0.5555555555555556,
              "#d8576b"
             ],
             [
              0.6666666666666666,
              "#ed7953"
             ],
             [
              0.7777777777777778,
              "#fb9f3a"
             ],
             [
              0.8888888888888888,
              "#fdca26"
             ],
             [
              1,
              "#f0f921"
             ]
            ],
            "type": "contour"
           }
          ],
          "contourcarpet": [
           {
            "colorbar": {
             "outlinewidth": 0,
             "ticks": ""
            },
            "type": "contourcarpet"
           }
          ],
          "heatmap": [
           {
            "colorbar": {
             "outlinewidth": 0,
             "ticks": ""
            },
            "colorscale": [
             [
              0,
              "#0d0887"
             ],
             [
              0.1111111111111111,
              "#46039f"
             ],
             [
              0.2222222222222222,
              "#7201a8"
             ],
             [
              0.3333333333333333,
              "#9c179e"
             ],
             [
              0.4444444444444444,
              "#bd3786"
             ],
             [
              0.5555555555555556,
              "#d8576b"
             ],
             [
              0.6666666666666666,
              "#ed7953"
             ],
             [
              0.7777777777777778,
              "#fb9f3a"
             ],
             [
              0.8888888888888888,
              "#fdca26"
             ],
             [
              1,
              "#f0f921"
             ]
            ],
            "type": "heatmap"
           }
          ],
          "heatmapgl": [
           {
            "colorbar": {
             "outlinewidth": 0,
             "ticks": ""
            },
            "colorscale": [
             [
              0,
              "#0d0887"
             ],
             [
              0.1111111111111111,
              "#46039f"
             ],
             [
              0.2222222222222222,
              "#7201a8"
             ],
             [
              0.3333333333333333,
              "#9c179e"
             ],
             [
              0.4444444444444444,
              "#bd3786"
             ],
             [
              0.5555555555555556,
              "#d8576b"
             ],
             [
              0.6666666666666666,
              "#ed7953"
             ],
             [
              0.7777777777777778,
              "#fb9f3a"
             ],
             [
              0.8888888888888888,
              "#fdca26"
             ],
             [
              1,
              "#f0f921"
             ]
            ],
            "type": "heatmapgl"
           }
          ],
          "histogram": [
           {
            "marker": {
             "pattern": {
              "fillmode": "overlay",
              "size": 10,
              "solidity": 0.2
             }
            },
            "type": "histogram"
           }
          ],
          "histogram2d": [
           {
            "colorbar": {
             "outlinewidth": 0,
             "ticks": ""
            },
            "colorscale": [
             [
              0,
              "#0d0887"
             ],
             [
              0.1111111111111111,
              "#46039f"
             ],
             [
              0.2222222222222222,
              "#7201a8"
             ],
             [
              0.3333333333333333,
              "#9c179e"
             ],
             [
              0.4444444444444444,
              "#bd3786"
             ],
             [
              0.5555555555555556,
              "#d8576b"
             ],
             [
              0.6666666666666666,
              "#ed7953"
             ],
             [
              0.7777777777777778,
              "#fb9f3a"
             ],
             [
              0.8888888888888888,
              "#fdca26"
             ],
             [
              1,
              "#f0f921"
             ]
            ],
            "type": "histogram2d"
           }
          ],
          "histogram2dcontour": [
           {
            "colorbar": {
             "outlinewidth": 0,
             "ticks": ""
            },
            "colorscale": [
             [
              0,
              "#0d0887"
             ],
             [
              0.1111111111111111,
              "#46039f"
             ],
             [
              0.2222222222222222,
              "#7201a8"
             ],
             [
              0.3333333333333333,
              "#9c179e"
             ],
             [
              0.4444444444444444,
              "#bd3786"
             ],
             [
              0.5555555555555556,
              "#d8576b"
             ],
             [
              0.6666666666666666,
              "#ed7953"
             ],
             [
              0.7777777777777778,
              "#fb9f3a"
             ],
             [
              0.8888888888888888,
              "#fdca26"
             ],
             [
              1,
              "#f0f921"
             ]
            ],
            "type": "histogram2dcontour"
           }
          ],
          "mesh3d": [
           {
            "colorbar": {
             "outlinewidth": 0,
             "ticks": ""
            },
            "type": "mesh3d"
           }
          ],
          "parcoords": [
           {
            "line": {
             "colorbar": {
              "outlinewidth": 0,
              "ticks": ""
             }
            },
            "type": "parcoords"
           }
          ],
          "pie": [
           {
            "automargin": true,
            "type": "pie"
           }
          ],
          "scatter": [
           {
            "marker": {
             "colorbar": {
              "outlinewidth": 0,
              "ticks": ""
             }
            },
            "type": "scatter"
           }
          ],
          "scatter3d": [
           {
            "line": {
             "colorbar": {
              "outlinewidth": 0,
              "ticks": ""
             }
            },
            "marker": {
             "colorbar": {
              "outlinewidth": 0,
              "ticks": ""
             }
            },
            "type": "scatter3d"
           }
          ],
          "scattercarpet": [
           {
            "marker": {
             "colorbar": {
              "outlinewidth": 0,
              "ticks": ""
             }
            },
            "type": "scattercarpet"
           }
          ],
          "scattergeo": [
           {
            "marker": {
             "colorbar": {
              "outlinewidth": 0,
              "ticks": ""
             }
            },
            "type": "scattergeo"
           }
          ],
          "scattergl": [
           {
            "marker": {
             "colorbar": {
              "outlinewidth": 0,
              "ticks": ""
             }
            },
            "type": "scattergl"
           }
          ],
          "scattermapbox": [
           {
            "marker": {
             "colorbar": {
              "outlinewidth": 0,
              "ticks": ""
             }
            },
            "type": "scattermapbox"
           }
          ],
          "scatterpolar": [
           {
            "marker": {
             "colorbar": {
              "outlinewidth": 0,
              "ticks": ""
             }
            },
            "type": "scatterpolar"
           }
          ],
          "scatterpolargl": [
           {
            "marker": {
             "colorbar": {
              "outlinewidth": 0,
              "ticks": ""
             }
            },
            "type": "scatterpolargl"
           }
          ],
          "scatterternary": [
           {
            "marker": {
             "colorbar": {
              "outlinewidth": 0,
              "ticks": ""
             }
            },
            "type": "scatterternary"
           }
          ],
          "surface": [
           {
            "colorbar": {
             "outlinewidth": 0,
             "ticks": ""
            },
            "colorscale": [
             [
              0,
              "#0d0887"
             ],
             [
              0.1111111111111111,
              "#46039f"
             ],
             [
              0.2222222222222222,
              "#7201a8"
             ],
             [
              0.3333333333333333,
              "#9c179e"
             ],
             [
              0.4444444444444444,
              "#bd3786"
             ],
             [
              0.5555555555555556,
              "#d8576b"
             ],
             [
              0.6666666666666666,
              "#ed7953"
             ],
             [
              0.7777777777777778,
              "#fb9f3a"
             ],
             [
              0.8888888888888888,
              "#fdca26"
             ],
             [
              1,
              "#f0f921"
             ]
            ],
            "type": "surface"
           }
          ],
          "table": [
           {
            "cells": {
             "fill": {
              "color": "#EBF0F8"
             },
             "line": {
              "color": "white"
             }
            },
            "header": {
             "fill": {
              "color": "#C8D4E3"
             },
             "line": {
              "color": "white"
             }
            },
            "type": "table"
           }
          ]
         },
         "layout": {
          "annotationdefaults": {
           "arrowcolor": "#2a3f5f",
           "arrowhead": 0,
           "arrowwidth": 1
          },
          "autotypenumbers": "strict",
          "coloraxis": {
           "colorbar": {
            "outlinewidth": 0,
            "ticks": ""
           }
          },
          "colorscale": {
           "diverging": [
            [
             0,
             "#8e0152"
            ],
            [
             0.1,
             "#c51b7d"
            ],
            [
             0.2,
             "#de77ae"
            ],
            [
             0.3,
             "#f1b6da"
            ],
            [
             0.4,
             "#fde0ef"
            ],
            [
             0.5,
             "#f7f7f7"
            ],
            [
             0.6,
             "#e6f5d0"
            ],
            [
             0.7,
             "#b8e186"
            ],
            [
             0.8,
             "#7fbc41"
            ],
            [
             0.9,
             "#4d9221"
            ],
            [
             1,
             "#276419"
            ]
           ],
           "sequential": [
            [
             0,
             "#0d0887"
            ],
            [
             0.1111111111111111,
             "#46039f"
            ],
            [
             0.2222222222222222,
             "#7201a8"
            ],
            [
             0.3333333333333333,
             "#9c179e"
            ],
            [
             0.4444444444444444,
             "#bd3786"
            ],
            [
             0.5555555555555556,
             "#d8576b"
            ],
            [
             0.6666666666666666,
             "#ed7953"
            ],
            [
             0.7777777777777778,
             "#fb9f3a"
            ],
            [
             0.8888888888888888,
             "#fdca26"
            ],
            [
             1,
             "#f0f921"
            ]
           ],
           "sequentialminus": [
            [
             0,
             "#0d0887"
            ],
            [
             0.1111111111111111,
             "#46039f"
            ],
            [
             0.2222222222222222,
             "#7201a8"
            ],
            [
             0.3333333333333333,
             "#9c179e"
            ],
            [
             0.4444444444444444,
             "#bd3786"
            ],
            [
             0.5555555555555556,
             "#d8576b"
            ],
            [
             0.6666666666666666,
             "#ed7953"
            ],
            [
             0.7777777777777778,
             "#fb9f3a"
            ],
            [
             0.8888888888888888,
             "#fdca26"
            ],
            [
             1,
             "#f0f921"
            ]
           ]
          },
          "colorway": [
           "#636efa",
           "#EF553B",
           "#00cc96",
           "#ab63fa",
           "#FFA15A",
           "#19d3f3",
           "#FF6692",
           "#B6E880",
           "#FF97FF",
           "#FECB52"
          ],
          "font": {
           "color": "#2a3f5f"
          },
          "geo": {
           "bgcolor": "white",
           "lakecolor": "white",
           "landcolor": "#E5ECF6",
           "showlakes": true,
           "showland": true,
           "subunitcolor": "white"
          },
          "hoverlabel": {
           "align": "left"
          },
          "hovermode": "closest",
          "mapbox": {
           "style": "light"
          },
          "paper_bgcolor": "white",
          "plot_bgcolor": "#E5ECF6",
          "polar": {
           "angularaxis": {
            "gridcolor": "white",
            "linecolor": "white",
            "ticks": ""
           },
           "bgcolor": "#E5ECF6",
           "radialaxis": {
            "gridcolor": "white",
            "linecolor": "white",
            "ticks": ""
           }
          },
          "scene": {
           "xaxis": {
            "backgroundcolor": "#E5ECF6",
            "gridcolor": "white",
            "gridwidth": 2,
            "linecolor": "white",
            "showbackground": true,
            "ticks": "",
            "zerolinecolor": "white"
           },
           "yaxis": {
            "backgroundcolor": "#E5ECF6",
            "gridcolor": "white",
            "gridwidth": 2,
            "linecolor": "white",
            "showbackground": true,
            "ticks": "",
            "zerolinecolor": "white"
           },
           "zaxis": {
            "backgroundcolor": "#E5ECF6",
            "gridcolor": "white",
            "gridwidth": 2,
            "linecolor": "white",
            "showbackground": true,
            "ticks": "",
            "zerolinecolor": "white"
           }
          },
          "shapedefaults": {
           "line": {
            "color": "#2a3f5f"
           }
          },
          "ternary": {
           "aaxis": {
            "gridcolor": "white",
            "linecolor": "white",
            "ticks": ""
           },
           "baxis": {
            "gridcolor": "white",
            "linecolor": "white",
            "ticks": ""
           },
           "bgcolor": "#E5ECF6",
           "caxis": {
            "gridcolor": "white",
            "linecolor": "white",
            "ticks": ""
           }
          },
          "title": {
           "x": 0.05
          },
          "xaxis": {
           "automargin": true,
           "gridcolor": "white",
           "linecolor": "white",
           "ticks": "",
           "title": {
            "standoff": 15
           },
           "zerolinecolor": "white",
           "zerolinewidth": 2
          },
          "yaxis": {
           "automargin": true,
           "gridcolor": "white",
           "linecolor": "white",
           "ticks": "",
           "title": {
            "standoff": 15
           },
           "zerolinecolor": "white",
           "zerolinewidth": 2
          }
         }
        }
       }
      }
     },
     "metadata": {},
     "output_type": "display_data"
    }
   ],
   "source": [
    "X_reduce = rbf_kernel_pca(X, 0.000000025, 3)\n",
    "principal_df_3d = pd.DataFrame(X_reduce , columns = ['PC1','PC2','PC3'])\n",
    "principal_df_3d['Label'] = wine.target\n",
    "\n",
    "px.scatter_3d(principal_df_3d, x=\"PC1\", y=\"PC2\", z=\"PC3\", \n",
    "              color=\"Label\", color_discrete_map = {\"Joly\": \"blue\", \"Bergeron\": \"violet\", \"Coderre\":\"Red\"})"
   ]
  },
  {
   "cell_type": "markdown",
   "metadata": {},
   "source": [
    "# LDA (Linear Discriminant Analysis )"
   ]
  },
  {
   "cell_type": "code",
   "execution_count": 239,
   "metadata": {},
   "outputs": [],
   "source": [
    "X = iris.data\n",
    "Y = iris.target"
   ]
  },
  {
   "cell_type": "code",
   "execution_count": 240,
   "metadata": {},
   "outputs": [],
   "source": [
    "classes = np.unique(Y)\n",
    "M,N = X.shape\n",
    "mean_vectors = []\n",
    "for cl in range(0,len(classes)):\n",
    "    mean_vectors.append(np.mean(X[Y==cl], axis=0))"
   ]
  },
  {
   "cell_type": "code",
   "execution_count": 241,
   "metadata": {},
   "outputs": [
    {
     "data": {
      "text/html": [
       "<div>\n",
       "<style scoped>\n",
       "    .dataframe tbody tr th:only-of-type {\n",
       "        vertical-align: middle;\n",
       "    }\n",
       "\n",
       "    .dataframe tbody tr th {\n",
       "        vertical-align: top;\n",
       "    }\n",
       "\n",
       "    .dataframe thead th {\n",
       "        text-align: right;\n",
       "    }\n",
       "</style>\n",
       "<table border=\"1\" class=\"dataframe\">\n",
       "  <thead>\n",
       "    <tr style=\"text-align: right;\">\n",
       "      <th></th>\n",
       "      <th>setosa</th>\n",
       "      <th>versicolor</th>\n",
       "      <th>virginica</th>\n",
       "    </tr>\n",
       "  </thead>\n",
       "  <tbody>\n",
       "    <tr>\n",
       "      <th>sepal length (cm)</th>\n",
       "      <td>5.006</td>\n",
       "      <td>5.936</td>\n",
       "      <td>6.588</td>\n",
       "    </tr>\n",
       "    <tr>\n",
       "      <th>sepal width (cm)</th>\n",
       "      <td>3.428</td>\n",
       "      <td>2.770</td>\n",
       "      <td>2.974</td>\n",
       "    </tr>\n",
       "    <tr>\n",
       "      <th>petal length (cm)</th>\n",
       "      <td>1.462</td>\n",
       "      <td>4.260</td>\n",
       "      <td>5.552</td>\n",
       "    </tr>\n",
       "    <tr>\n",
       "      <th>petal width (cm)</th>\n",
       "      <td>0.246</td>\n",
       "      <td>1.326</td>\n",
       "      <td>2.026</td>\n",
       "    </tr>\n",
       "  </tbody>\n",
       "</table>\n",
       "</div>"
      ],
      "text/plain": [
       "                   setosa  versicolor  virginica\n",
       "sepal length (cm)   5.006       5.936      6.588\n",
       "sepal width (cm)    3.428       2.770      2.974\n",
       "petal length (cm)   1.462       4.260      5.552\n",
       "petal width (cm)    0.246       1.326      2.026"
      ]
     },
     "execution_count": 241,
     "metadata": {},
     "output_type": "execute_result"
    }
   ],
   "source": [
    "pd.DataFrame(mean_vectors,index =iris.target_names, columns = iris.feature_names).transpose()"
   ]
  },
  {
   "cell_type": "code",
   "execution_count": 242,
   "metadata": {},
   "outputs": [
    {
     "data": {
      "text/plain": [
       "array([[19.8128,  4.5944, 14.8612,  2.4056],\n",
       "       [ 4.5944,  5.0962,  3.4976,  2.3338],\n",
       "       [14.8612,  3.4976, 14.9248,  2.3924],\n",
       "       [ 2.4056,  2.3338,  2.3924,  3.6962]])"
      ]
     },
     "execution_count": 242,
     "metadata": {},
     "output_type": "execute_result"
    }
   ],
   "source": [
    "\n",
    "S_W = np.zeros((N,N))\n",
    "for cl,mv in zip(range(0,len(classes)), mean_vectors):\n",
    "    class_sc_mat = np.zeros((N,N))                  # scatter matrix for every class\n",
    "    for row in X[Y == cl]:\n",
    "        row, mv = row.reshape(N,1), mv.reshape(N,1) # make column vectors\n",
    "        class_sc_mat += (row-mv).dot((row-mv).T)\n",
    "S_W += class_sc_mat                             # sum class scatter matrices\n",
    "overall_mean = np.mean(X, axis=0)\n",
    "S_W"
   ]
  },
  {
   "cell_type": "code",
   "execution_count": 243,
   "metadata": {},
   "outputs": [
    {
     "data": {
      "text/plain": [
       "array([[ 63.21213333, -19.95266667, 165.2484    ,  71.27933333],\n",
       "       [-19.95266667,  11.34493333, -57.2396    , -22.93266667],\n",
       "       [165.2484    , -57.2396    , 437.1028    , 186.774     ],\n",
       "       [ 71.27933333, -22.93266667, 186.774     ,  80.41333333]])"
      ]
     },
     "execution_count": 243,
     "metadata": {},
     "output_type": "execute_result"
    }
   ],
   "source": [
    "S_B = np.zeros((N,N))\n",
    "for i,mean_vec in enumerate(mean_vectors):  \n",
    "    n = X[Y==i,:].shape[0]\n",
    "    mean_vec = mean_vec.reshape(N,1) # make column vector\n",
    "    overall_mean = overall_mean.reshape(N,1) # make column vector\n",
    "    S_B += n * (mean_vec - overall_mean).dot((mean_vec - overall_mean).T)\n",
    "S_B"
   ]
  },
  {
   "cell_type": "code",
   "execution_count": 244,
   "metadata": {},
   "outputs": [
    {
     "data": {
      "text/plain": [
       "array([[-15.98248718,   5.70309542, -42.44376661, -18.07874719],\n",
       "       [-19.55999836,   7.76986221, -52.73965353, -22.19337482],\n",
       "       [ 27.70661222,  -9.99603946,  73.68893148,  31.35000363],\n",
       "       [ 24.10330329,  -8.35204065,  63.75930109,  27.24330854]])"
      ]
     },
     "execution_count": 244,
     "metadata": {},
     "output_type": "execute_result"
    }
   ],
   "source": [
    "np.linalg.inv(S_W).dot(S_B)"
   ]
  },
  {
   "cell_type": "code",
   "execution_count": 245,
   "metadata": {},
   "outputs": [],
   "source": [
    "def LDA(X,Y,num_components):\n",
    "    classes = np.unique(Y)\n",
    "    M,N = X.shape\n",
    "    mean_vectors = []\n",
    "    for cl in range(0,len(classes)):\n",
    "        mean_vectors.append(np.mean(X[Y==cl], axis=0))\n",
    "    S_W = np.zeros((N,N))\n",
    "    for cl,mv in zip(range(0,len(classes)), mean_vectors):\n",
    "        class_sc_mat = np.zeros((N,N))                  # scatter matrix for every class\n",
    "        for row in X[Y == cl]:\n",
    "            row, mv = row.reshape(N,1), mv.reshape(N,1) # make column vectors\n",
    "            class_sc_mat += (row-mv).dot((row-mv).T)\n",
    "    S_W += class_sc_mat                             # sum class scatter matrices\n",
    "    overall_mean = np.mean(X, axis=0)\n",
    "\n",
    "    S_B = np.zeros((N,N))\n",
    "    for i,mean_vec in enumerate(mean_vectors):  \n",
    "        n = X[Y==i,:].shape[0]\n",
    "        mean_vec = mean_vec.reshape(N,1) # make column vector\n",
    "        overall_mean = overall_mean.reshape(N,1) # make column vector\n",
    "        S_B += n * (mean_vec - overall_mean).dot((mean_vec - overall_mean).T)\n",
    "    eig_vals, eig_vecs = np.linalg.eig(np.linalg.inv(S_W).dot(S_B))\n",
    "     \n",
    "    sorted_index = np.argsort(eig_vals)[::-1]\n",
    "    sorted_eigenvalue = eig_vals[sorted_index]\n",
    "    sorted_eigenvectors = eig_vecs[:,sorted_index]\n",
    "     \n",
    "    eigenvector_subset = sorted_eigenvectors[:,0:num_components]\n",
    "     \n",
    "    X_reduced = np.dot(eigenvector_subset.transpose() , X.transpose() ).transpose()\n",
    "     \n",
    "    return X_reduced,sorted_eigenvalue,sorted_eigenvectors\n",
    "    # idx = np.argsort(eig_vals)[::-1]\n",
    "    # eig_vals = eig_vals[idx]\n",
    "    # eig_vecs = eig_vecs[:,idx]\n",
    "    # Xmean = X-X\n",
    "    # W = X.dot(eig_vecs.T[0:num_components].T)\n",
    "    # return W"
   ]
  },
  {
   "cell_type": "code",
   "execution_count": 246,
   "metadata": {},
   "outputs": [],
   "source": [
    "X = wine.data\n",
    "Y = wine.target"
   ]
  },
  {
   "cell_type": "code",
   "execution_count": 247,
   "metadata": {},
   "outputs": [
    {
     "data": {
      "image/png": "[encoded data removed]",
      "text/plain": [
       "<Figure size 720x720 with 1 Axes>"
      ]
     },
     "metadata": {},
     "output_type": "display_data"
    }
   ],
   "source": [
    "X_reduce,eig_val,eig_vec=PCA(X,1)\n",
    "principal_df = pd.DataFrame( np.hstack((np.array(X_reduce),np.zeros_like(X_reduce))), columns = ['PC1','PC2'])\n",
    "principal_df['Label'] = wine.target\n",
    "plt.figure(figsize = (10,10))\n",
    "sns.scatterplot(data = principal_df , x = 'PC1',y = 'PC2' , s = 60 ,hue = 'Label' ,palette= 'flare')\n",
    "plt.show()"
   ]
  },
  {
   "cell_type": "code",
   "execution_count": 248,
   "metadata": {},
   "outputs": [
    {
     "data": {
      "image/png": "[encoded data removed]",
      "text/plain": [
       "<Figure size 720x720 with 1 Axes>"
      ]
     },
     "metadata": {},
     "output_type": "display_data"
    }
   ],
   "source": [
    "X_reduce,eig_val,eig_vec=LDA(X,Y,1)\n",
    "principal_df = pd.DataFrame( np.hstack((np.array(X_reduce),np.zeros_like(X_reduce))), columns = ['LD1','LD2'])\n",
    "principal_df['Label'] = wine.target\n",
    "plt.figure(figsize = (10,10))\n",
    "sns.scatterplot(data = principal_df , x = 'LD1',y = 'LD2' , s = 60 ,hue = 'Label' ,palette= 'flare')\n",
    "plt.show()"
   ]
  },
  {
   "cell_type": "code",
   "execution_count": 249,
   "metadata": {},
   "outputs": [
    {
     "name": "stdout",
     "output_type": "stream",
     "text": [
      "Explained variance ratio [(0.8348256799387275+0j), (0.1651743200612724+0j), (4.9302250398285255e-17+0j), (2.168463077983347e-17+2.2274460815648582e-17j), (2.168463077983347e-17-2.2274460815648582e-17j), (1.2721983034204891e-17+1.8799056675417403e-18j), (1.2721983034204891e-17-1.8799056675417403e-18j), 0j, (-4.715181191890288e-18+0j), (-1.559266937913615e-17+0j), (-1.8999203640903565e-17+1.3118892211330434e-17j), (-1.8999203640903565e-17-1.3118892211330434e-17j), (-3.3947269360476554e-17+0j)]\n",
      "\n",
      "cumulative explained variance [0.83482568+0.00000000e+00j 1.        +0.00000000e+00j\n",
      " 1.        +0.00000000e+00j 1.        +2.22744608e-17j\n",
      " 1.        +0.00000000e+00j 1.        +1.87990567e-18j\n",
      " 1.        +0.00000000e+00j 1.        +0.00000000e+00j\n",
      " 1.        +0.00000000e+00j 1.        +0.00000000e+00j\n",
      " 1.        +1.31188922e-17j 1.        +0.00000000e+00j\n",
      " 1.        +0.00000000e+00j]\n",
      "\n"
     ]
    },
    {
     "data": {
      "image/png": "[encoded data removed]",
      "text/plain": [
       "<Figure size 720x720 with 1 Axes>"
      ]
     },
     "metadata": {},
     "output_type": "display_data"
    }
   ],
   "source": [
    "tot = sum(eig_val)\n",
    "var_exp = [(i / tot) for i in eig_val]\n",
    "print('Explained variance ratio',var_exp)\n",
    "print()\n",
    "cum_var_exp = np.cumsum(var_exp)\n",
    "print('cumulative explained variance',cum_var_exp)\n",
    "print()\n",
    "plt.figure(figsize = (10,10))\n",
    "plt.bar(range(1,14), var_exp, alpha=0.9, align='center',label='individual explained variance')\n",
    "plt.step(range(1,14), cum_var_exp, where='mid',label='cumulative explained variance')\n",
    "plt.ylabel('Explained variance ratio')\n",
    "plt.xlabel('Principal component index')\n",
    "plt.legend(loc='best')\n",
    "plt.show()"
   ]
  },
  {
   "cell_type": "code",
   "execution_count": 250,
   "metadata": {},
   "outputs": [
    {
     "data": {
      "image/png": "[encoded data removed]",
      "text/plain": [
       "<Figure size 720x720 with 1 Axes>"
      ]
     },
     "metadata": {},
     "output_type": "display_data"
    }
   ],
   "source": [
    "X_reduce,eig_val,eig_vec=LDA(X,Y,2)\n",
    "principal_df = pd.DataFrame(X_reduce , columns = ['LD1','LD2'])\n",
    "principal_df['Label'] = wine.target\n",
    "plt.figure(figsize = (10,10))\n",
    "sns.scatterplot(data = principal_df , x = 'LD1',y = 'LD2' , s = 60 ,hue = 'Label' ,palette= 'flare')\n",
    "plt.show()"
   ]
  },
  {
   "cell_type": "code",
   "execution_count": 251,
   "metadata": {},
   "outputs": [],
   "source": [
    "X_reduce,eig_val,eig_vec = LDA(X, Y, 3)\n",
    "principal_df_3d = pd.DataFrame(np.float32(X_reduce) , columns = ['PC1','PC2','PC3'])\n",
    "principal_df_3d['Label'] = wine.target\n",
    "\n"
   ]
  },
  {
   "cell_type": "code",
   "execution_count": 252,
   "metadata": {},
   "outputs": [
    {
     "data": {
      "application/vnd.plotly.v1+json": {
       "config": {
        "plotlyServerURL": "https://plot.ly"
       },
       "data": [
        {
         "hovertemplate": "PC1=%{x}<br>PC2=%{y}<br>PC3=%{z}<br>Label=%{marker.color}<extra></extra>",
         "legendgroup": "",
         "marker": {
          "color": [
           0,
           0,
           0,
           0,
           0,
           0,
           0,
           0,
           0,
           0,
           0,
           0,
           0,
           0,
           0,
           0,
           0,
           0,
           0,
           0,
           0,
           0,
           0,
           0,
           0,
           0,
           0,
           0,
           0,
           0,
           0,
           0,
           0,
           0,
           0,
           0,
           0,
           0,
           0,
           0,
           0,
           0,
           0,
           0,
           0,
           0,
           0,
           0,
           0,
           0,
           0,
           0,
           0,
           0,
           0,
           0,
           0,
           0,
           0,
           1,
           1,
           1,
           1,
           1,
           1,
           1,
           1,
           1,
           1,
           1,
           1,
           1,
           1,
           1,
           1,
           1,
           1,
           1,
           1,
           1,
           1,
           1,
           1,
           1,
           1,
           1,
           1,
           1,
           1,
           1,
           1,
           1,
           1,
           1,
           1,
           1,
           1,
           1,
           1,
           1,
           1,
           1,
           1,
           1,
           1,
           1,
           1,
           1,
           1,
           1,
           1,
           1,
           1,
           1,
           1,
           1,
           1,
           1,
           1,
           1,
           1,
           1,
           1,
           1,
           1,
           1,
           1,
           1,
           1,
           1,
           2,
           2,
           2,
           2,
           2,
           2,
           2,
           2,
           2,
           2,
           2,
           2,
           2,
           2,
           2,
           2,
           2,
           2,
           2,
           2,
           2,
           2,
           2,
           2,
           2,
           2,
           2,
           2,
           2,
           2,
           2,
           2,
           2,
           2,
           2,
           2,
           2,
           2,
           2,
           2,
           2,
           2,
           2,
           2,
           2,
           2,
           2,
           2
          ],
          "coloraxis": "coloraxis",
          "symbol": "circle"
         },
         "mode": "markers",
         "name": "",
         "scene": "scene",
         "showlegend": false,
         "type": "scatter3d",
         "x": [
          -2.9456944465637207,
          -2.867953062057495,
          -3.007810115814209,
          -3.2739923000335693,
          -2.338782548904419,
          -3.2284128665924072,
          -2.856602907180786,
          -2.7286181449890137,
          -2.8778178691864014,
          -3.0019619464874268,
          -3.262782573699951,
          -2.6360862255096436,
          -2.888732671737671,
          -3.46734356880188,
          -3.481924057006836,
          -2.81673002243042,
          -2.8585731983184814,
          -2.9995381832122803,
          -3.711704969406128,
          -2.709667682647705,
          -2.7910118103027344,
          -2.351701259613037,
          -3.028496742248535,
          -2.5634982585906982,
          -2.6798269748687744,
          -2.424124240875244,
          -3.008460521697998,
          -2.456003189086914,
          -2.829174518585205,
          -2.536562919616699,
          -2.950700521469116,
          -3.071176290512085,
          -2.682316303253174,
          -2.7118492126464844,
          -2.4942421913146973,
          -2.813770294189453,
          -2.4849581718444824,
          -2.404297113418579,
          -2.615971088409424,
          -2.6512250900268555,
          -2.8509361743927,
          -2.725299835205078,
          -3.284086227416992,
          -2.4116199016571045,
          -2.741908073425293,
          -2.680375337600708,
          -3.047231435775757,
          -3.061920642852783,
          -2.684295415878296,
          -3.272127628326416,
          -2.9789204597473145,
          -3.025515556335449,
          -3.3608486652374268,
          -2.8060779571533203,
          -2.706451416015625,
          -2.4633219242095947,
          -2.7032101154327393,
          -3.0500130653381348,
          -3.2004034519195557,
          -0.8946876525878906,
          -1.3540911674499512,
          -1.3240426778793335,
          -1.8620386123657227,
          -2.431988000869751,
          -1.5883008241653442,
          -2.2493538856506348,
          -2.7888166904449463,
          -2.128495454788208,
          -1.463478684425354,
          -1.1570721864700317,
          -1.2341524362564087,
          -2.3893182277679443,
          -1.7956600189208984,
          -2.416672706604004,
          -1.9465926885604858,
          -1.4877066612243652,
          -1.847074031829834,
          -1.4016598463058472,
          -1.582297682762146,
          -2.2813708782196045,
          -2.0606114864349365,
          -2.460358142852783,
          -1.7554327249526978,
          -1.659360647201538,
          -1.9339863061904907,
          -1.8941714763641357,
          -1.6448092460632324,
          -1.7731598615646362,
          -1.8872061967849731,
          -1.9222922325134277,
          -1.6442561149597168,
          -1.443281650543213,
          -1.6224901676177979,
          -2.0347237586975098,
          -1.8253538608551025,
          -1.7860926389694214,
          -0.7691909074783325,
          -2.2185676097869873,
          -3.0240001678466797,
          -2.56980037689209,
          -2.1646201610565186,
          -1.5917494297027588,
          -1.9992809295654297,
          -1.5571755170822144,
          -2.162264108657837,
          -2.053886651992798,
          -2.144538402557373,
          -1.8070274591445923,
          -1.8610782623291016,
          -2.546103000640869,
          -1.968705415725708,
          -1.964821219444275,
          -2.0440449714660645,
          -1.7406749725341797,
          -2.1753039360046387,
          -2.0800886154174805,
          -1.7593826055526733,
          -1.840274453163147,
          -1.4155312776565552,
          -1.8295693397521973,
          -2.4943971633911133,
          -3.8892710208892822,
          -1.9312580823898315,
          -2.3457252979278564,
          -2.5493106842041016,
          -2.4206182956695557,
          -2.586977005004883,
          -1.9789724349975586,
          -2.118102550506592,
          -1.8297816514968872,
          -0.9398894309997559,
          -1.005780816078186,
          -0.9227385520935059,
          -0.903447151184082,
          -0.8679147958755493,
          -0.9764901995658875,
          -0.8073056936264038,
          -0.8056671619415283,
          -0.9071471095085144,
          -0.8334996700286865,
          -0.9342610239982605,
          -1.049221158027649,
          -0.8459396958351135,
          -1.0695101022720337,
          -0.9247519969940186,
          -0.8703721165657043,
          -0.6263681054115295,
          -0.8988107442855835,
          -0.8337190747261047,
          -1.022550106048584,
          -0.9620533585548401,
          -0.8537796139717102,
          -0.6607657074928284,
          -0.9052144289016724,
          -0.7093870639801025,
          -0.8714401721954346,
          -0.8553562164306641,
          -0.8832414150238037,
          -1.0260882377624512,
          -0.9222475290298462,
          -0.89130699634552,
          -0.8379226922988892,
          -0.8968860507011414,
          -0.8891035318374634,
          -0.8274180293083191,
          -0.7906962633132935,
          -0.8138478994369507,
          -0.8512722849845886,
          -0.8603600859642029,
          -0.7816093564033508,
          -0.7075170874595642,
          -0.6748090982437134,
          -0.8516587018966675,
          -0.9353669881820679,
          -0.8237427473068237,
          -0.7393855452537537,
          -0.7873752117156982,
          -0.7852917909622192
         ],
         "y": [
          2.3838112354278564,
          2.644578218460083,
          2.3969695568084717,
          3.2677650451660156,
          2.4214255809783936,
          3.3251214027404785,
          2.853844165802002,
          3.057485580444336,
          2.787691593170166,
          2.5090761184692383,
          2.7416810989379883,
          2.9032180309295654,
          2.9211418628692627,
          2.812641143798828,
          3.0190067291259766,
          3.1291801929473877,
          3.1446239948272705,
          2.9849822521209717,
          3.5077733993530273,
          2.5319974422454834,
          2.0928454399108887,
          2.008476495742798,
          2.295869827270508,
          2.353304624557495,
          2.1400957107543945,
          2.382350444793701,
          3.0602879524230957,
          2.8488476276397705,
          2.514660596847534,
          2.3355886936187744,
          2.7346558570861816,
          2.993039131164551,
          2.406503915786743,
          3.074291706085205,
          2.7836592197418213,
          2.2027924060821533,
          2.898435354232788,
          2.833388328552246,
          2.508012533187866,
          2.4533638954162598,
          2.1709115505218506,
          2.486093521118164,
          2.924685478210449,
          2.2546942234039307,
          2.1396868228912354,
          2.923616886138916,
          2.52244234085083,
          2.398959159851074,
          2.5386180877685547,
          2.717115879058838,
          2.1496922969818115,
          2.5471277236938477,
          3.0354714393615723,
          3.2320661544799805,
          2.656979560852051,
          2.423462390899658,
          2.5790507793426514,
          3.1102852821350098,
          3.1074068546295166,
          2.1821815967559814,
          2.737642288208008,
          2.4835386276245117,
          2.261030912399292,
          1.5725634098052979,
          1.858157992362976,
          2.097945213317871,
          1.4227375984191895,
          1.4906666278839111,
          3.103710412979126,
          1.0738445520401,
          2.3134000301361084,
          1.6675951480865479,
          1.947144865989685,
          1.8417562246322632,
          2.05818510055542,
          1.633342981338501,
          1.5742796659469604,
          1.974307894706726,
          1.6494030952453613,
          1.499053716659546,
          1.1162269115447998,
          1.7707011699676514,
          1.7334192991256714,
          2.126460552215576,
          1.6655248403549194,
          1.6058738231658936,
          1.5866334438323975,
          1.4163358211517334,
          1.953456163406372,
          1.6415444612503052,
          1.8008582592010498,
          1.584409475326538,
          1.953914999961853,
          1.1723153591156006,
          1.5536279678344727,
          1.5981906652450562,
          2.05084490776062,
          1.5014365911483765,
          1.9416403770446777,
          1.0875988006591797,
          1.5268959999084473,
          1.6444549560546875,
          1.8442806005477905,
          1.601749062538147,
          1.5451043844223022,
          1.4935274124145508,
          1.5000392198562622,
          1.82305109500885,
          1.2515814304351807,
          1.6855710744857788,
          0.9176012277603149,
          1.7356494665145874,
          2.283853769302368,
          1.8325066566467285,
          1.8409653902053833,
          0.8209956288337708,
          1.300817847251892,
          1.3657686710357666,
          2.2280173301696777,
          1.4293735027313232,
          1.7538610696792603,
          1.7874040603637695,
          1.5693646669387817,
          1.5439876317977905,
          1.0276066064834595,
          1.5830105543136597,
          1.8058125972747803,
          1.7500801086425781,
          1.4490835666656494,
          2.017927885055542,
          2.7871999740600586,
          2.6446821689605713,
          2.592210531234741,
          2.650546073913574,
          2.6794512271881104,
          2.7427403926849365,
          2.8441848754882812,
          2.410377264022827,
          2.6056411266326904,
          2.559508800506592,
          2.6721031665802,
          2.7489514350891113,
          2.696899652481079,
          2.5003316402435303,
          2.5702853202819824,
          2.683894395828247,
          2.718640089035034,
          2.781411647796631,
          2.8051788806915283,
          2.698178768157959,
          2.7295312881469727,
          2.600553035736084,
          2.581206798553467,
          2.6887967586517334,
          2.4796886444091797,
          2.688433885574341,
          2.6404192447662354,
          2.823526620864868,
          2.6076037883758545,
          2.624444007873535,
          2.6546542644500732,
          2.8874902725219727,
          2.488485097885132,
          2.744194507598877,
          2.692249298095703,
          2.4067466259002686,
          2.6991260051727295,
          2.6717140674591064,
          2.711285352706909,
          2.805742025375366,
          2.453378915786743,
          2.6925201416015625,
          2.9853012561798096,
          2.96359920501709,
          2.766331195831299,
          2.874652862548828,
          2.9070024490356445,
          2.935162305831909
         ],
         "z": [
          -3.8011960983276367,
          -3.0861852169036865,
          -3.241415500640869,
          -3.313382863998413,
          -3.266552686691284,
          -3.0021510124206543,
          -3.525129795074463,
          -3.5042951107025146,
          -3.299009323120117,
          -3.3633060455322266,
          -3.430913209915161,
          -3.296208620071411,
          -3.0936481952667236,
          -2.964676856994629,
          -3.1840031147003174,
          -3.087496757507324,
          -3.1901988983154297,
          -2.913999080657959,
          -2.7995848655700684,
          -3.3359334468841553,
          -3.7491371631622314,
          -3.559452772140503,
          -3.544912815093994,
          -3.3602404594421387,
          -3.560347318649292,
          -3.3560266494750977,
          -2.8658080101013184,
          -3.170321226119995,
          -3.3530797958374023,
          -3.7203197479248047,
          -3.1848106384277344,
          -3.150630235671997,
          -3.271535873413086,
          -3.237309694290161,
          -3.2303361892700195,
          -3.429570436477661,
          -2.914942502975464,
          -2.9648425579071045,
          -3.02091646194458,
          -3.6275558471679688,
          -3.3964130878448486,
          -3.186633586883545,
          -3.053494691848755,
          -3.2383546829223633,
          -3.335700750350952,
          -3.418635129928589,
          -3.5064008235931396,
          -3.317577600479126,
          -3.371748685836792,
          -3.1854567527770996,
          -3.2150094509124756,
          -3.4051735401153564,
          -2.9503259658813477,
          -3.128026008605957,
          -3.3716702461242676,
          -3.6129841804504395,
          -3.5437612533569336,
          -2.7958414554595947,
          -2.9140796661376953,
          -3.173922061920166,
          -2.714006185531616,
          -2.797947406768799,
          -3.3423330783843994,
          -3.125641107559204,
          -3.0688610076904297,
          -2.905007839202881,
          -3.289457082748413,
          -3.450568914413452,
          -2.924050807952881,
          -4.49361515045166,
          -3.2308943271636963,
          -3.599954605102539,
          -3.4934275150299072,
          -3.998872995376587,
          -3.4443540573120117,
          -3.0924296379089355,
          -3.374030828475952,
          -3.2166030406951904,
          -3.6631994247436523,
          -3.4834656715393066,
          -3.3696727752685547,
          -3.3156657218933105,
          -3.280566453933716,
          -3.088192939758301,
          -3.2712459564208984,
          -3.537184238433838,
          -3.252894639968872,
          -3.4894039630889893,
          -3.008451223373413,
          -3.345892906188965,
          -3.016098737716675,
          -3.3461642265319824,
          -3.035861015319824,
          -3.538461923599243,
          -3.2439181804656982,
          -4.025254726409912,
          -3.664449691772461,
          -3.1385791301727295,
          -2.732218027114868,
          -3.2520227432250977,
          -3.407090187072754,
          -3.5335237979888916,
          -3.3343303203582764,
          -3.179123640060425,
          -3.612143039703369,
          -3.2939140796661377,
          -3.2900376319885254,
          -3.171560049057007,
          -3.450654983520508,
          -3.073538064956665,
          -3.6593081951141357,
          -3.176818370819092,
          -2.71496844291687,
          -2.82200288772583,
          -2.9956531524658203,
          -3.2635064125061035,
          -3.564058303833008,
          -3.5433664321899414,
          -2.967498302459717,
          -3.4833521842956543,
          -3.02472186088562,
          -2.431403875350952,
          -3.4689393043518066,
          -3.413652181625366,
          -3.4357097148895264,
          -3.0536136627197266,
          -2.797152280807495,
          -2.939486265182495,
          -3.203448534011841,
          -3.0169482231140137,
          -3.0576963424682617,
          -3.026113510131836,
          -3.0498592853546143,
          -3.086604118347168,
          -2.9247474670410156,
          -2.9496805667877197,
          -2.833063840866089,
          -3.2072255611419678,
          -3.3066325187683105,
          -3.4005045890808105,
          -3.2938528060913086,
          -3.4661951065063477,
          -3.3885421752929688,
          -3.4454610347747803,
          -3.3708999156951904,
          -3.4014999866485596,
          -3.2257649898529053,
          -3.1219325065612793,
          -3.2383029460906982,
          -3.0830061435699463,
          -3.238713026046753,
          -3.1452715396881104,
          -3.3090107440948486,
          -3.2177836894989014,
          -3.2270143032073975,
          -3.251953601837158,
          -3.342722177505493,
          -3.1575207710266113,
          -3.7184970378875732,
          -3.3764052391052246,
          -2.9130184650421143,
          -3.4188172817230225,
          -3.3662612438201904,
          -3.228015899658203,
          -3.4060473442077637,
          -3.514394760131836,
          -3.471702814102173,
          -3.205381393432617,
          -3.5444061756134033,
          -3.529661178588867,
          -3.1297409534454346,
          -3.0332841873168945,
          -3.3748390674591064,
          -3.3222134113311768,
          -3.401479959487915,
          -3.468555450439453,
          -3.3763623237609863,
          -3.3841230869293213
         ]
        }
       ],
       "layout": {
        "coloraxis": {
         "colorbar": {
          "title": {
           "text": "Label"
          }
         },
         "colorscale": [
          [
           0,
           "#0d0887"
          ],
          [
           0.1111111111111111,
           "#46039f"
          ],
          [
           0.2222222222222222,
           "#7201a8"
          ],
          [
           0.3333333333333333,
           "#9c179e"
          ],
          [
           0.4444444444444444,
           "#bd3786"
          ],
          [
           0.5555555555555556,
           "#d8576b"
          ],
          [
           0.6666666666666666,
           "#ed7953"
          ],
          [
           0.7777777777777778,
           "#fb9f3a"
          ],
          [
           0.8888888888888888,
           "#fdca26"
          ],
          [
           1,
           "#f0f921"
          ]
         ]
        },
        "legend": {
         "tracegroupgap": 0
        },
        "margin": {
         "t": 60
        },
        "scene": {
         "domain": {
          "x": [
           0,
           1
          ],
          "y": [
           0,
           1
          ]
         },
         "xaxis": {
          "title": {
           "text": "PC1"
          }
         },
         "yaxis": {
          "title": {
           "text": "PC2"
          }
         },
         "zaxis": {
          "title": {
           "text": "PC3"
          }
         }
        },
        "template": {
         "data": {
          "bar": [
           {
            "error_x": {
             "color": "#2a3f5f"
            },
            "error_y": {
             "color": "#2a3f5f"
            },
            "marker": {
             "line": {
              "color": "#E5ECF6",
              "width": 0.5
             },
             "pattern": {
              "fillmode": "overlay",
              "size": 10,
              "solidity": 0.2
             }
            },
            "type": "bar"
           }
          ],
          "barpolar": [
           {
            "marker": {
             "line": {
              "color": "#E5ECF6",
              "width": 0.5
             },
             "pattern": {
              "fillmode": "overlay",
              "size": 10,
              "solidity": 0.2
             }
            },
            "type": "barpolar"
           }
          ],
          "carpet": [
           {
            "aaxis": {
             "endlinecolor": "#2a3f5f",
             "gridcolor": "white",
             "linecolor": "white",
             "minorgridcolor": "white",
             "startlinecolor": "#2a3f5f"
            },
            "baxis": {
             "endlinecolor": "#2a3f5f",
             "gridcolor": "white",
             "linecolor": "white",
             "minorgridcolor": "white",
             "startlinecolor": "#2a3f5f"
            },
            "type": "carpet"
           }
          ],
          "choropleth": [
           {
            "colorbar": {
             "outlinewidth": 0,
             "ticks": ""
            },
            "type": "choropleth"
           }
          ],
          "contour": [
           {
            "colorbar": {
             "outlinewidth": 0,
             "ticks": ""
            },
            "colorscale": [
             [
              0,
              "#0d0887"
             ],
             [
              0.1111111111111111,
              "#46039f"
             ],
             [
              0.2222222222222222,
              "#7201a8"
             ],
             [
              0.3333333333333333,
              "#9c179e"
             ],
             [
              0.4444444444444444,
              "#bd3786"
             ],
             [
              0.5555555555555556,
              "#d8576b"
             ],
             [
              0.6666666666666666,
              "#ed7953"
             ],
             [
              0.7777777777777778,
              "#fb9f3a"
             ],
             [
              0.8888888888888888,
              "#fdca26"
             ],
             [
              1,
              "#f0f921"
             ]
            ],
            "type": "contour"
           }
          ],
          "contourcarpet": [
           {
            "colorbar": {
             "outlinewidth": 0,
             "ticks": ""
            },
            "type": "contourcarpet"
           }
          ],
          "heatmap": [
           {
            "colorbar": {
             "outlinewidth": 0,
             "ticks": ""
            },
            "colorscale": [
             [
              0,
              "#0d0887"
             ],
             [
              0.1111111111111111,
              "#46039f"
             ],
             [
              0.2222222222222222,
              "#7201a8"
             ],
             [
              0.3333333333333333,
              "#9c179e"
             ],
             [
              0.4444444444444444,
              "#bd3786"
             ],
             [
              0.5555555555555556,
              "#d8576b"
             ],
             [
              0.6666666666666666,
              "#ed7953"
             ],
             [
              0.7777777777777778,
              "#fb9f3a"
             ],
             [
              0.8888888888888888,
              "#fdca26"
             ],
             [
              1,
              "#f0f921"
             ]
            ],
            "type": "heatmap"
           }
          ],
          "heatmapgl": [
           {
            "colorbar": {
             "outlinewidth": 0,
             "ticks": ""
            },
            "colorscale": [
             [
              0,
              "#0d0887"
             ],
             [
              0.1111111111111111,
              "#46039f"
             ],
             [
              0.2222222222222222,
              "#7201a8"
             ],
             [
              0.3333333333333333,
              "#9c179e"
             ],
             [
              0.4444444444444444,
              "#bd3786"
             ],
             [
              0.5555555555555556,
              "#d8576b"
             ],
             [
              0.6666666666666666,
              "#ed7953"
             ],
             [
              0.7777777777777778,
              "#fb9f3a"
             ],
             [
              0.8888888888888888,
              "#fdca26"
             ],
             [
              1,
              "#f0f921"
             ]
            ],
            "type": "heatmapgl"
           }
          ],
          "histogram": [
           {
            "marker": {
             "pattern": {
              "fillmode": "overlay",
              "size": 10,
              "solidity": 0.2
             }
            },
            "type": "histogram"
           }
          ],
          "histogram2d": [
           {
            "colorbar": {
             "outlinewidth": 0,
             "ticks": ""
            },
            "colorscale": [
             [
              0,
              "#0d0887"
             ],
             [
              0.1111111111111111,
              "#46039f"
             ],
             [
              0.2222222222222222,
              "#7201a8"
             ],
             [
              0.3333333333333333,
              "#9c179e"
             ],
             [
              0.4444444444444444,
              "#bd3786"
             ],
             [
              0.5555555555555556,
              "#d8576b"
             ],
             [
              0.6666666666666666,
              "#ed7953"
             ],
             [
              0.7777777777777778,
              "#fb9f3a"
             ],
             [
              0.8888888888888888,
              "#fdca26"
             ],
             [
              1,
              "#f0f921"
             ]
            ],
            "type": "histogram2d"
           }
          ],
          "histogram2dcontour": [
           {
            "colorbar": {
             "outlinewidth": 0,
             "ticks": ""
            },
            "colorscale": [
             [
              0,
              "#0d0887"
             ],
             [
              0.1111111111111111,
              "#46039f"
             ],
             [
              0.2222222222222222,
              "#7201a8"
             ],
             [
              0.3333333333333333,
              "#9c179e"
             ],
             [
              0.4444444444444444,
              "#bd3786"
             ],
             [
              0.5555555555555556,
              "#d8576b"
             ],
             [
              0.6666666666666666,
              "#ed7953"
             ],
             [
              0.7777777777777778,
              "#fb9f3a"
             ],
             [
              0.8888888888888888,
              "#fdca26"
             ],
             [
              1,
              "#f0f921"
             ]
            ],
            "type": "histogram2dcontour"
           }
          ],
          "mesh3d": [
           {
            "colorbar": {
             "outlinewidth": 0,
             "ticks": ""
            },
            "type": "mesh3d"
           }
          ],
          "parcoords": [
           {
            "line": {
             "colorbar": {
              "outlinewidth": 0,
              "ticks": ""
             }
            },
            "type": "parcoords"
           }
          ],
          "pie": [
           {
            "automargin": true,
            "type": "pie"
           }
          ],
          "scatter": [
           {
            "marker": {
             "colorbar": {
              "outlinewidth": 0,
              "ticks": ""
             }
            },
            "type": "scatter"
           }
          ],
          "scatter3d": [
           {
            "line": {
             "colorbar": {
              "outlinewidth": 0,
              "ticks": ""
             }
            },
            "marker": {
             "colorbar": {
              "outlinewidth": 0,
              "ticks": ""
             }
            },
            "type": "scatter3d"
           }
          ],
          "scattercarpet": [
           {
            "marker": {
             "colorbar": {
              "outlinewidth": 0,
              "ticks": ""
             }
            },
            "type": "scattercarpet"
           }
          ],
          "scattergeo": [
           {
            "marker": {
             "colorbar": {
              "outlinewidth": 0,
              "ticks": ""
             }
            },
            "type": "scattergeo"
           }
          ],
          "scattergl": [
           {
            "marker": {
             "colorbar": {
              "outlinewidth": 0,
              "ticks": ""
             }
            },
            "type": "scattergl"
           }
          ],
          "scattermapbox": [
           {
            "marker": {
             "colorbar": {
              "outlinewidth": 0,
              "ticks": ""
             }
            },
            "type": "scattermapbox"
           }
          ],
          "scatterpolar": [
           {
            "marker": {
             "colorbar": {
              "outlinewidth": 0,
              "ticks": ""
             }
            },
            "type": "scatterpolar"
           }
          ],
          "scatterpolargl": [
           {
            "marker": {
             "colorbar": {
              "outlinewidth": 0,
              "ticks": ""
             }
            },
            "type": "scatterpolargl"
           }
          ],
          "scatterternary": [
           {
            "marker": {
             "colorbar": {
              "outlinewidth": 0,
              "ticks": ""
             }
            },
            "type": "scatterternary"
           }
          ],
          "surface": [
           {
            "colorbar": {
             "outlinewidth": 0,
             "ticks": ""
            },
            "colorscale": [
             [
              0,
              "#0d0887"
             ],
             [
              0.1111111111111111,
              "#46039f"
             ],
             [
              0.2222222222222222,
              "#7201a8"
             ],
             [
              0.3333333333333333,
              "#9c179e"
             ],
             [
              0.4444444444444444,
              "#bd3786"
             ],
             [
              0.5555555555555556,
              "#d8576b"
             ],
             [
              0.6666666666666666,
              "#ed7953"
             ],
             [
              0.7777777777777778,
              "#fb9f3a"
             ],
             [
              0.8888888888888888,
              "#fdca26"
             ],
             [
              1,
              "#f0f921"
             ]
            ],
            "type": "surface"
           }
          ],
          "table": [
           {
            "cells": {
             "fill": {
              "color": "#EBF0F8"
             },
             "line": {
              "color": "white"
             }
            },
            "header": {
             "fill": {
              "color": "#C8D4E3"
             },
             "line": {
              "color": "white"
             }
            },
            "type": "table"
           }
          ]
         },
         "layout": {
          "annotationdefaults": {
           "arrowcolor": "#2a3f5f",
           "arrowhead": 0,
           "arrowwidth": 1
          },
          "autotypenumbers": "strict",
          "coloraxis": {
           "colorbar": {
            "outlinewidth": 0,
            "ticks": ""
           }
          },
          "colorscale": {
           "diverging": [
            [
             0,
             "#8e0152"
            ],
            [
             0.1,
             "#c51b7d"
            ],
            [
             0.2,
             "#de77ae"
            ],
            [
             0.3,
             "#f1b6da"
            ],
            [
             0.4,
             "#fde0ef"
            ],
            [
             0.5,
             "#f7f7f7"
            ],
            [
             0.6,
             "#e6f5d0"
            ],
            [
             0.7,
             "#b8e186"
            ],
            [
             0.8,
             "#7fbc41"
            ],
            [
             0.9,
             "#4d9221"
            ],
            [
             1,
             "#276419"
            ]
           ],
           "sequential": [
            [
             0,
             "#0d0887"
            ],
            [
             0.1111111111111111,
             "#46039f"
            ],
            [
             0.2222222222222222,
             "#7201a8"
            ],
            [
             0.3333333333333333,
             "#9c179e"
            ],
            [
             0.4444444444444444,
             "#bd3786"
            ],
            [
             0.5555555555555556,
             "#d8576b"
            ],
            [
             0.6666666666666666,
             "#ed7953"
            ],
            [
             0.7777777777777778,
             "#fb9f3a"
            ],
            [
             0.8888888888888888,
             "#fdca26"
            ],
            [
             1,
             "#f0f921"
            ]
           ],
           "sequentialminus": [
            [
             0,
             "#0d0887"
            ],
            [
             0.1111111111111111,
             "#46039f"
            ],
            [
             0.2222222222222222,
             "#7201a8"
            ],
            [
             0.3333333333333333,
             "#9c179e"
            ],
            [
             0.4444444444444444,
             "#bd3786"
            ],
            [
             0.5555555555555556,
             "#d8576b"
            ],
            [
             0.6666666666666666,
             "#ed7953"
            ],
            [
             0.7777777777777778,
             "#fb9f3a"
            ],
            [
             0.8888888888888888,
             "#fdca26"
            ],
            [
             1,
             "#f0f921"
            ]
           ]
          },
          "colorway": [
           "#636efa",
           "#EF553B",
           "#00cc96",
           "#ab63fa",
           "#FFA15A",
           "#19d3f3",
           "#FF6692",
           "#B6E880",
           "#FF97FF",
           "#FECB52"
          ],
          "font": {
           "color": "#2a3f5f"
          },
          "geo": {
           "bgcolor": "white",
           "lakecolor": "white",
           "landcolor": "#E5ECF6",
           "showlakes": true,
           "showland": true,
           "subunitcolor": "white"
          },
          "hoverlabel": {
           "align": "left"
          },
          "hovermode": "closest",
          "mapbox": {
           "style": "light"
          },
          "paper_bgcolor": "white",
          "plot_bgcolor": "#E5ECF6",
          "polar": {
           "angularaxis": {
            "gridcolor": "white",
            "linecolor": "white",
            "ticks": ""
           },
           "bgcolor": "#E5ECF6",
           "radialaxis": {
            "gridcolor": "white",
            "linecolor": "white",
            "ticks": ""
           }
          },
          "scene": {
           "xaxis": {
            "backgroundcolor": "#E5ECF6",
            "gridcolor": "white",
            "gridwidth": 2,
            "linecolor": "white",
            "showbackground": true,
            "ticks": "",
            "zerolinecolor": "white"
           },
           "yaxis": {
            "backgroundcolor": "#E5ECF6",
            "gridcolor": "white",
            "gridwidth": 2,
            "linecolor": "white",
            "showbackground": true,
            "ticks": "",
            "zerolinecolor": "white"
           },
           "zaxis": {
            "backgroundcolor": "#E5ECF6",
            "gridcolor": "white",
            "gridwidth": 2,
            "linecolor": "white",
            "showbackground": true,
            "ticks": "",
            "zerolinecolor": "white"
           }
          },
          "shapedefaults": {
           "line": {
            "color": "#2a3f5f"
           }
          },
          "ternary": {
           "aaxis": {
            "gridcolor": "white",
            "linecolor": "white",
            "ticks": ""
           },
           "baxis": {
            "gridcolor": "white",
            "linecolor": "white",
            "ticks": ""
           },
           "bgcolor": "#E5ECF6",
           "caxis": {
            "gridcolor": "white",
            "linecolor": "white",
            "ticks": ""
           }
          },
          "title": {
           "x": 0.05
          },
          "xaxis": {
           "automargin": true,
           "gridcolor": "white",
           "linecolor": "white",
           "ticks": "",
           "title": {
            "standoff": 15
           },
           "zerolinecolor": "white",
           "zerolinewidth": 2
          },
          "yaxis": {
           "automargin": true,
           "gridcolor": "white",
           "linecolor": "white",
           "ticks": "",
           "title": {
            "standoff": 15
           },
           "zerolinecolor": "white",
           "zerolinewidth": 2
          }
         }
        }
       }
      }
     },
     "metadata": {},
     "output_type": "display_data"
    }
   ],
   "source": [
    "px.scatter_3d(principal_df_3d, x=\"PC1\", y=\"PC2\", z=\"PC3\", \n",
    "              color=\"Label\", color_discrete_map = {\"Joly\": \"blue\", \"Bergeron\": \"violet\", \"Coderre\":\"Red\"})"
   ]
  }
 ],
 "metadata": {
  "kernelspec": {
   "display_name": "Python 3 (ipykernel)",
   "language": "python",
   "name": "python3"
  },
  "language_info": {
   "codemirror_mode": {
    "name": "ipython",
    "version": 3
   },
   "file_extension": ".py",
   "mimetype": "text/x-python",
   "name": "python",
   "nbconvert_exporter": "python",
   "pygments_lexer": "ipython3",
   "version": "3.11.4"
  },
  "vscode": {
   "interpreter": {
    "hash": "2bd0b42b829204acf5b3731beff29f3b7390cdc93c786e6d920a9f1f7d2639f7"
   }
  }
 },
 "nbformat": 4,
 "nbformat_minor": 2
}
