{
 "cells": [
  {
   "cell_type": "code",
   "execution_count": 4,
   "metadata": {},
   "outputs": [],
   "source": [
    "import numpy as np\n",
    "import seaborn as sns\n",
    "import matplotlib.pyplot as plt\n"
   ]
  },
  {
   "cell_type": "markdown",
   "metadata": {},
   "source": [
    "# Bai 1"
   ]
  },
  {
   "cell_type": "code",
   "execution_count": 5,
   "metadata": {},
   "outputs": [],
   "source": [
    "def kiemchunggioihan(n,k,loaipp):\n",
    "    z = []\n",
    "    if loaipp == 'binomial':\n",
    "        _n = int(input(\"Nhap n: \"))\n",
    "        _p = float(input(\"Nhap p: \"))\n",
    "        for i in range(1,n+1):\n",
    "            arr = np.random.binomial(_n,_p,k)\n",
    "            zi = (arr.mean()-_n*_p)/(np.sqrt(_n)*_p)\n",
    "            z.append(zi)\n",
    "    sns.displot(z,kde=True)\n",
    "    return plt.show()"
   ]
  },
  {
   "cell_type": "code",
   "execution_count": 6,
   "metadata": {},
   "outputs": [
    {
     "data": {
      "image/png": "[encoded data removed]",
      "text/plain": [
       "<Figure size 360x360 with 1 Axes>"
      ]
     },
     "metadata": {
      "needs_background": "light"
     },
     "output_type": "display_data"
    }
   ],
   "source": [
    "plt.figure(figsize=(10,5))\n",
    "kiemchunggioihan(10000,100,'binomial')"
   ]
  },
  {
   "cell_type": "markdown",
   "metadata": {},
   "source": [
    "# Bai 2"
   ]
  },
  {
   "cell_type": "code",
   "execution_count": 7,
   "metadata": {},
   "outputs": [],
   "source": [
    "def linear_regression(x,y):\n",
    "    # calc b0 b1\n",
    "    x_mean = np.mean(x)\n",
    "    y_mean = np.mean(y)\n",
    "    b1 = np.sum((x-x_mean)*(y-y_mean))/np.sum((x-x_mean)**2)\n",
    "    b0 = y_mean - b1*x_mean\n",
    "    return b0,b1"
   ]
  },
  {
   "cell_type": "code",
   "execution_count": 8,
   "metadata": {},
   "outputs": [],
   "source": [
    "from scipy.stats import t"
   ]
  },
  {
   "cell_type": "code",
   "execution_count": 9,
   "metadata": {},
   "outputs": [],
   "source": [
    "def dubaohoiquy(x,y,x_0,confident):\n",
    "    b0,b1 = linear_regression(x,y)\n",
    "    y_mu = b0 + b1*x_0\n",
    "    n = len(x)\n",
    "    SST = sum(y**2) - sum(y)**2/n\n",
    "    SSE = SST - b1*(sum(x*y) - sum(x)*sum(y)/n)\n",
    "    sigma2 = SSE/(n-2)\n",
    "    Sxx = sum(x**2) - sum(x)/n\n",
    "    epsilon = t.ppf((1+confident)/2,n-2)*np.sqrt(sigma2*(1 + 1/n + (x_0 - np.mean(x))**2/Sxx))\n",
    "    return y_mu,[y_mu-epsilon,y_mu+epsilon]"
   ]
  },
  {
   "cell_type": "code",
   "execution_count": 14,
   "metadata": {},
   "outputs": [
    {
     "name": "stdout",
     "output_type": "stream",
     "text": [
      "(23.55795691131308, [22.226286472483324, 24.88962735014284])\n"
     ]
    }
   ],
   "source": [
    "x = np.random.uniform(0,10,100)\n",
    "y = 2*x + 3 + np.random.binomial(1,0.5,100)\n",
    "dubao = dubaohoiquy(x,y,10,0.99)\n",
    "print(dubao)"
   ]
  }
 ],
 "metadata": {
  "kernelspec": {
   "display_name": "Python 3 (ipykernel)",
   "language": "python",
   "name": "python3"
  },
  "language_info": {
   "codemirror_mode": {
    "name": "ipython",
    "version": 3
   },
   "file_extension": ".py",
   "mimetype": "text/x-python",
   "name": "python",
   "nbconvert_exporter": "python",
   "pygments_lexer": "ipython3",
   "version": "3.11.4"
  },
  "vscode": {
   "interpreter": {
    "hash": "8b30bf14638c635a56085198324bd5de9c67e42c30d053c6c02d35cfbd11fddb"
   }
  }
 },
 "nbformat": 4,
 "nbformat_minor": 2
}
